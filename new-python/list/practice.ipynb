{
 "cells": [
  {
   "cell_type": "code",
   "execution_count": 2,
   "metadata": {},
   "outputs": [
    {
     "name": "stdout",
     "output_type": "stream",
     "text": [
      "21\n"
     ]
    }
   ],
   "source": [
    "#sum all the items in a list\n",
    "list = [1,2,3,4,5,6]\n",
    "sum =0\n",
    "for i in list:\n",
    "    sum+=i\n",
    "print(sum)"
   ]
  },
  {
   "cell_type": "code",
   "execution_count": 4,
   "metadata": {},
   "outputs": [
    {
     "name": "stdout",
     "output_type": "stream",
     "text": [
      "120\n"
     ]
    }
   ],
   "source": [
    "#multiply all the items in a list\n",
    "list = [1,2,3,4,5]\n",
    "mltiply =1\n",
    "for i in list:\n",
    "    mltiply*=i\n",
    "print(mltiply)"
   ]
  },
  {
   "cell_type": "code",
   "execution_count": 12,
   "metadata": {},
   "outputs": [
    {
     "name": "stdout",
     "output_type": "stream",
     "text": [
      "2\n"
     ]
    }
   ],
   "source": [
    "#get the smallest number from a list.\n",
    "list = [2,3,15,6]\n",
    "smallest=list[0]\n",
    "for i in list:\n",
    "    if(i<=smallest):\n",
    "        smallest=i\n",
    "print(\"smallest element is\",smallest)"
   ]
  },
  {
   "cell_type": "code",
   "execution_count": 13,
   "metadata": {},
   "outputs": [
    {
     "name": "stdout",
     "output_type": "stream",
     "text": [
      "largest element is 15\n"
     ]
    }
   ],
   "source": [
    "#get the smallest number from a list.\n",
    "list = [2,3,15,6]\n",
    "largest=list[0]\n",
    "for i in list:\n",
    "    if(i>=largest):\n",
    "        largest=i\n",
    "print(\"largest element is\",largest)"
   ]
  },
  {
   "cell_type": "code",
   "execution_count": 31,
   "metadata": {},
   "outputs": [
    {
     "name": "stdout",
     "output_type": "stream",
     "text": [
      "[(1, 2), (2, 1), (2, 3), (2, 5), (4, 4)]\n"
     ]
    }
   ],
   "source": [
    "#sorted in increasing order \n",
    "list = [(2, 5), (1, 2), (4, 4), (2, 3), (2, 1)]\n",
    "list.sort()\n",
    "print(list)"
   ]
  },
  {
   "cell_type": "code",
   "execution_count": 35,
   "metadata": {},
   "outputs": [
    {
     "name": "stdout",
     "output_type": "stream",
     "text": [
      "[1, 2, 3, 6]\n"
     ]
    }
   ],
   "source": [
    "list = [1,2,3,2,1,6]\n",
    "new_list = []\n",
    "for i in  list:\n",
    "    if i not in new_list:\n",
    "        new_list.append(i)\n",
    "print(new_list)"
   ]
  },
  {
   "cell_type": "code",
   "execution_count": 51,
   "metadata": {},
   "outputs": [
    {
     "name": "stdout",
     "output_type": "stream",
     "text": [
      "your list is empty\n"
     ]
    }
   ],
   "source": [
    "#check if a list is empty or not.\n",
    "list = []\n",
    "if len(list)==0:\n",
    "     print(\"your list is empty\")\n",
    "else:\n",
    "    print(list)\n",
    "    "
   ]
  },
  {
   "cell_type": "code",
   "execution_count": 56,
   "metadata": {},
   "outputs": [
    {
     "name": "stdout",
     "output_type": "stream",
     "text": [
      "origin list - [1, 2, 3, 4, 5, 6]\n",
      "new list - [1, 2, 3, 4, 5, 6]\n"
     ]
    }
   ],
   "source": [
    "list = [1,2,3,4,5,6]\n",
    "print(\"origin list -\",list)\n",
    "list.copy()\n",
    "print(\"new list -\",list)"
   ]
  },
  {
   "cell_type": "code",
   "execution_count": 68,
   "metadata": {},
   "outputs": [
    {
     "name": "stdout",
     "output_type": "stream",
     "text": [
      "['name', 'bhumika']\n"
     ]
    }
   ],
   "source": [
    "#find the list of words that are longer than n from a given list of words.\n",
    "n = int(input(\"enter number\"))\n",
    "list = 'my name is bhumika'\n",
    "word = []\n",
    "a = list.split(\" \")\n",
    "\n",
    "for i in a:\n",
    "  if len(i)>n:\n",
    "   word.append(i)\n",
    "print(word)"
   ]
  },
  {
   "cell_type": "code",
   "execution_count": 78,
   "metadata": {},
   "outputs": [
    {
     "name": "stdout",
     "output_type": "stream",
     "text": [
      "True\n"
     ]
    }
   ],
   "source": [
    "#takes two lists and returns True if they have at least one common member.\n",
    "def function(list1,list2):\n",
    "    \n",
    "    for i in list1:\n",
    "        for j in list2:\n",
    "            if i==j:\n",
    "                return True\n",
    "    else:\n",
    "        return False\n",
    "\n",
    "list1 = [1,2,3]\n",
    "list2= [4,2,6]\n",
    "a = function(list1,list2)\n",
    "print(a)"
   ]
  },
  {
   "cell_type": "code",
   "execution_count": 88,
   "metadata": {},
   "outputs": [
    {
     "name": "stdout",
     "output_type": "stream",
     "text": [
      "['Green', 'White', 'Black']\n"
     ]
    }
   ],
   "source": [
    "list=  ['Red', 'Green', 'White', 'Black', 'Pink', 'Yellow']\n",
    "new_list=[]\n",
    "for index,value in enumerate (list):\n",
    "     if index not in [0, 4, 5]:\n",
    "        new_list.append(value)\n",
    "print(new_list)\n",
    "\n"
   ]
  },
  {
   "cell_type": "code",
   "execution_count": 90,
   "metadata": {},
   "outputs": [
    {
     "name": "stdout",
     "output_type": "stream",
     "text": [
      "[11, 15]\n"
     ]
    }
   ],
   "source": [
    "list = [10,11,12,14,15]\n",
    "new_list=[]\n",
    "for i  in list:\n",
    "    if(i%2!=0):\n",
    "        new_list.append(i)\n",
    "print(new_list)"
   ]
  },
  {
   "cell_type": "code",
   "execution_count": 91,
   "metadata": {},
   "outputs": [
    {
     "name": "stdout",
     "output_type": "stream",
     "text": [
      "['10']\n"
     ]
    }
   ],
   "source": [
    "n = int(input(\"enter number\"))\n",
    "for i in range(1,n+1):\n",
    "    num = input(\"enter number\")\n",
    "list = []\n",
    "list.append(num)\n",
    "print(list)"
   ]
  },
  {
   "cell_type": "code",
   "execution_count": 96,
   "metadata": {},
   "outputs": [
    {
     "name": "stdout",
     "output_type": "stream",
     "text": [
      "-1\n",
      "0\n",
      "2\n",
      "4\n",
      "14\n"
     ]
    }
   ],
   "source": [
    "list1 = [5,6,8,10,20]\n",
    "list2 = [1,2,3,5,6]\n",
    "\n",
    "for i in list1:\n",
    "    for j in list2:\n",
    "        sub = i-j\n",
    "    print(sub)"
   ]
  }
 ],
 "metadata": {
  "kernelspec": {
   "display_name": "Python 3",
   "language": "python",
   "name": "python3"
  },
  "language_info": {
   "codemirror_mode": {
    "name": "ipython",
    "version": 3
   },
   "file_extension": ".py",
   "mimetype": "text/x-python",
   "name": "python",
   "nbconvert_exporter": "python",
   "pygments_lexer": "ipython3",
   "version": "3.12.2"
  }
 },
 "nbformat": 4,
 "nbformat_minor": 2
}
