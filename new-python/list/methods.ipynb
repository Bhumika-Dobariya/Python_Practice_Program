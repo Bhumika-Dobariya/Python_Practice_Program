{
 "cells": [
  {
   "cell_type": "code",
   "execution_count": null,
   "metadata": {},
   "outputs": [],
   "source": [
    "#append()\tAdds an element at the end of the list\n",
    "fruits = ['apple','banana','cherry']\n",
    "fruits.append('pg')\n",
    "print(fruits)"
   ]
  },
  {
   "cell_type": "code",
   "execution_count": null,
   "metadata": {},
   "outputs": [],
   "source": [
    "#clear()\tRemoves all the elements from the lis\n",
    "fruits = ['apple', 'banana', 'cherry', 'orange']\n",
    "fruits.clear()\n",
    "print(fruits)"
   ]
  },
  {
   "cell_type": "code",
   "execution_count": null,
   "metadata": {},
   "outputs": [],
   "source": [
    "#copy()\tReturns a copy of the list\n",
    "fruits = ['apple', 'banana', 'cherry', 'orange']\n",
    "fruits.copy()\n",
    "print(fruits)"
   ]
  },
  {
   "cell_type": "code",
   "execution_count": null,
   "metadata": {},
   "outputs": [],
   "source": [
    "#count()\tReturns the number of elements with the specified value\n",
    "fruits = ['apple', 'banana', 'cherry', 'apple','orange']\n",
    "x =fruits.count('apple')\n",
    "print(x)"
   ]
  },
  {
   "cell_type": "code",
   "execution_count": null,
   "metadata": {},
   "outputs": [],
   "source": [
    "#extend()\tAdd the elements of a list (or any iterable), to the end of the current list\n",
    "fruits = ['apple', 'banana', 'cherry', 'orange']\n",
    "fruits.extend('mango')\n",
    "print(fruits)"
   ]
  },
  {
   "cell_type": "code",
   "execution_count": null,
   "metadata": {},
   "outputs": [],
   "source": [
    "fruits = ['apple', 'banana', 'cherry']\n",
    "\n",
    "cars = ['Ford', 'BMW', 'Volvo']\n",
    "\n",
    "fruits.extend(cars)\n",
    "\n",
    "print(fruits)"
   ]
  },
  {
   "cell_type": "code",
   "execution_count": null,
   "metadata": {},
   "outputs": [],
   "source": [
    "#index()\tReturns the index of the first element with the specified value\n",
    "fruits = ['apple', 'banana', 'cherry']\n",
    "x = fruits.index('cherry')\n",
    "print(x)"
   ]
  },
  {
   "cell_type": "code",
   "execution_count": null,
   "metadata": {},
   "outputs": [],
   "source": [
    "#insert()\tAdds an element at the specified position\n",
    "fruits = ['apple', 'banana', 'cherry']\n",
    "fruits.insert(1,'cherry')\n",
    "print(fruits)"
   ]
  },
  {
   "cell_type": "code",
   "execution_count": null,
   "metadata": {},
   "outputs": [],
   "source": [
    "#pop()\tRemoves the element at the specified position\n",
    "fruits = ['apple', 'banana', 'cherry']\n",
    "fruits.pop(2)\n",
    "print(fruits)"
   ]
  },
  {
   "cell_type": "code",
   "execution_count": null,
   "metadata": {},
   "outputs": [],
   "source": [
    "#remove()\tRemoves the item with the specified value\n",
    "fruits = ['apple', 'banana', 'cherry']\n",
    "fruits.remove('banana')\n",
    "print(fruits)"
   ]
  },
  {
   "cell_type": "code",
   "execution_count": null,
   "metadata": {},
   "outputs": [],
   "source": [
    "#reverse()\tReverses the order of the list\n",
    "fruits = ['apple', 'banana', 'cherry']\n",
    "fruits.reverse()\n",
    "print(fruits)"
   ]
  },
  {
   "cell_type": "code",
   "execution_count": null,
   "metadata": {},
   "outputs": [],
   "source": [
    "#sort()\tSorts the list\n",
    "#The sort() method sorts the list ascending by default.\n",
    "cars = ['Ford', 'BMW', 'Volvo']\n",
    "cars.sort()\n",
    "print(cars)"
   ]
  }
 ],
 "metadata": {
  "kernelspec": {
   "display_name": "Python 3",
   "language": "python",
   "name": "python3"
  },
  "language_info": {
   "codemirror_mode": {
    "name": "ipython",
    "version": 3
   },
   "file_extension": ".py",
   "mimetype": "text/x-python",
   "name": "python",
   "nbconvert_exporter": "python",
   "pygments_lexer": "ipython3",
   "version": "3.12.2"
  }
 },
 "nbformat": 4,
 "nbformat_minor": 2
}
