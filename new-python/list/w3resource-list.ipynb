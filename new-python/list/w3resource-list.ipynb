{
 "cells": [
  {
   "cell_type": "code",
   "execution_count": null,
   "metadata": {},
   "outputs": [],
   "source": [
    "#reverse list\n",
    "list1 = [100, 200, 300, 400, 500]\n",
    "list1.reverse()\n",
    "print(list1)\n"
   ]
  },
  {
   "cell_type": "code",
   "execution_count": 16,
   "metadata": {},
   "outputs": [
    {
     "name": "stdout",
     "output_type": "stream",
     "text": [
      "['My', 'name', 'is', 'Kelly']\n"
     ]
    }
   ],
   "source": [
    "#Concatenate two lists \n",
    "list1 = [\"M\", \"na\", \"i\", \"Ke\"]\n",
    "list2 = [\"y\", \"me\", \"s\", \"lly\"]\n",
    "list3=[]\n",
    "for i ,j in zip(list1,list2):\n",
    "  list3.append(i+j)\n",
    "print(list3)\n",
    "        "
   ]
  },
  {
   "cell_type": "code",
   "execution_count": null,
   "metadata": {},
   "outputs": [],
   "source": [
    "#Turn every item of a list into its square\n",
    "list = [1,2,3,4,5]\n",
    "list2 =[]\n",
    "for i in list:\n",
    "    a = i*i\n",
    "    list2.append(a)\n",
    "print(list2)\n",
    "    "
   ]
  },
  {
   "cell_type": "code",
   "execution_count": null,
   "metadata": {},
   "outputs": [],
   "source": [
    "#Concatenate two lists \n",
    "list1 = [\"Hello \", \"take \"]\n",
    "list2 = [\"Dear\", \"Sir\"]\n",
    "list3 = []\n",
    "for i in list1:\n",
    "    for j in list2:\n",
    "      a = i+j\n",
    "      list3.append(a)\n",
    "print(list3)"
   ]
  },
  {
   "cell_type": "code",
   "execution_count": 17,
   "metadata": {},
   "outputs": [
    {
     "name": "stdout",
     "output_type": "stream",
     "text": [
      "10 400\n",
      "20 300\n",
      "30 200\n",
      "40 100\n"
     ]
    }
   ],
   "source": [
    "#Iterate both lists simultaneously\n",
    "list1 = [10, 20, 30, 40]\n",
    "list2 = [100, 200, 300, 400]\n",
    "for  i, j in zip(list1,list2[::-1]):\n",
    "    print(i,j)\n",
    "    \n"
   ]
  },
  {
   "cell_type": "code",
   "execution_count": null,
   "metadata": {},
   "outputs": [],
   "source": [
    "#Remove empty strings from the list of strings\n",
    "list1 = [\"Mike\", \"\", \"Emma\", \"Kelly\", \"\", \"Brad\"]\n",
    "res = list(filter(None, list1))\n",
    "a = list(filter(None,list1))\n",
    "print(res)"
   ]
  },
  {
   "cell_type": "code",
   "execution_count": null,
   "metadata": {},
   "outputs": [],
   "source": [
    "#Add new item to list after a specified item\n",
    "list1 = [10, 20, [300, 400, [5000, 6000], 500], 30, 40]\n",
    "list1[2][2].append(7000)\n",
    "print(list1)"
   ]
  },
  {
   "cell_type": "code",
   "execution_count": null,
   "metadata": {},
   "outputs": [],
   "source": [
    "#Extend nested list by adding the sublist\n",
    "list1 = [\"a\", \"b\", [\"c\", [\"d\", \"e\", [\"f\", \"g\"], \"k\"], \"l\"], \"m\", \"n\"]\n",
    "sub_list = [\"h\", \"i\", \"j\"]\n",
    "list1[2][1][2].extend(sub_list)\n",
    "print(list1)"
   ]
  },
  {
   "cell_type": "code",
   "execution_count": null,
   "metadata": {},
   "outputs": [],
   "source": [
    "#Replace list’s item with new value if found\n",
    "list1 = [5, 10, 15, 20, 25, 50, 20]\n",
    "index = list1.index(20)\n",
    "list1[index] = 200\n",
    "print(list1)\n",
    "    "
   ]
  },
  {
   "cell_type": "code",
   "execution_count": null,
   "metadata": {},
   "outputs": [],
   "source": [
    "# largest number from a list.\n",
    "list = [1,2,3,5,58,12]\n",
    "list.sort()\n",
    "print(\"largest number :\",list[-1])\n",
    "print(\"smallest number :\",list[0])\n",
    "print(\"second largest number :\",list[-2])\n",
    "print(\"second smallest number :\",list[1])"
   ]
  },
  {
   "cell_type": "code",
   "execution_count": null,
   "metadata": {},
   "outputs": [],
   "source": [
    "#count the number of strings from a given list of strings. \n",
    "# The string length is 2 or more and the first and last characters are the same.\n",
    "List = ['abc', 'xyz', 'aba', '1221']\n",
    "length = len(List)\n",
    "count=0\n",
    "for word in List:\n",
    "    if(length>1):\n",
    "        if word[0]==word[-1]:\n",
    "           count+=1\n",
    "print(count)"
   ]
  },
  {
   "cell_type": "code",
   "execution_count": null,
   "metadata": {},
   "outputs": [],
   "source": [
    "#remove duplicates from a list.\n",
    "list = [1,5,2,3,2]\n",
    "list1=[]\n",
    "for i in list:\n",
    "    if i not in list1:\n",
    "        list1.append(i)\n",
    "print(list1)\n",
    "        "
   ]
  },
  {
   "cell_type": "code",
   "execution_count": null,
   "metadata": {},
   "outputs": [],
   "source": [
    "#check if a list is empty or not.\n",
    "list = []\n",
    "if len(list)==0:\n",
    "    print(\"empty list\")\n",
    "else:\n",
    "    print(\"not empty list\")"
   ]
  },
  {
   "cell_type": "code",
   "execution_count": null,
   "metadata": {},
   "outputs": [],
   "source": [
    "# find the list of words that are longer than n from a given list of words\n",
    "n = int(input(\"enter number\"))\n",
    "list = ['banana','apple','ber','pinapple']\n",
    "list2=[]\n",
    "for i in list:\n",
    "    if(len(i)>n):\n",
    "        list2.append(i)\n",
    "print(list2)"
   ]
  },
  {
   "cell_type": "code",
   "execution_count": null,
   "metadata": {},
   "outputs": [],
   "source": [
    "#write function that takes two lists and returns True if they have at least one common member.\n",
    "def list(list1,list2):\n",
    "    for i in list1:\n",
    "        for j in list2:\n",
    "            if i==j:\n",
    "                return True\n",
    "    else:\n",
    "        return False\n",
    "list1 = [1,2,3,4,5,6]\n",
    "list2 = [7,8,9]\n",
    "a = list(list1,list2)\n",
    "print(a)\n"
   ]
  },
  {
   "cell_type": "code",
   "execution_count": null,
   "metadata": {},
   "outputs": [],
   "source": [
    "# print a specified list after removing the 0th, 4th and 5th elements.\n",
    "list  = ['Red', 'Green', 'White', 'Black', 'Pink', 'Yellow']\n",
    "list. remove('Red')\n",
    "list. remove('Pink')\n",
    "list. remove('Yellow')\n",
    "print(list)\n",
    "\n",
    "#second\n",
    "list  = ['Red', 'Green', 'White', 'Black', 'Pink', 'Yellow']\n",
    "new_list = []\n",
    "for index,value in enumerate (list):\n",
    "    if index not in [0,4,5]:\n",
    "        new_list.append(value)\n",
    "print(new_list)"
   ]
  },
  {
   "cell_type": "code",
   "execution_count": null,
   "metadata": {},
   "outputs": [],
   "source": [
    "#removing even numbers from it.\n",
    "list = [10,12,13,15,18,20]\n",
    "new_list =[]\n",
    "for i in list:\n",
    "    if i%2!=0:\n",
    "        new_list.append(i)\n",
    "print(new_list)\n",
    "        \n",
    "    "
   ]
  },
  {
   "cell_type": "code",
   "execution_count": null,
   "metadata": {},
   "outputs": [],
   "source": [
    "#print a list of the first and last 5 elements where the values are square numbers between 1 and 30\n",
    "l = []\n",
    "for i in range(31):\n",
    "    l.append(i**2)\n",
    "print(\"first\" ,l[:5])\n",
    "print('last', l[-5:])"
   ]
  },
  {
   "cell_type": "code",
   "execution_count": null,
   "metadata": {},
   "outputs": [],
   "source": [
    "#difference between the two lists.\n",
    "\n",
    "list_a = [1, 2, 3, 4, 5, 6, 'yellow']\n",
    "list_b = [1, 2, 3, 4, 5]\n",
    "set1 = set(list_a)\n",
    "set2 = set(list_b)\n",
    "new_list = list(set1-set2)\n",
    "print(new_list)\n",
    "    "
   ]
  },
  {
   "cell_type": "code",
   "execution_count": null,
   "metadata": {},
   "outputs": [],
   "source": [
    "#common between the two lists.\n",
    "list_a = [1, 2, 3, 4, 5, 6, 'yellow']\n",
    "list_b = [1, 2, 3, 4, 5]\n",
    "set1 = set(list_a)\n",
    "set2 = set(list_b)\n",
    "new_list = list(set1.intersection(set2))\n",
    "print(new_list)\n",
    "    "
   ]
  },
  {
   "cell_type": "code",
   "execution_count": null,
   "metadata": {},
   "outputs": [],
   "source": [
    "# access the index of a list.\n",
    "list = [5,10,15,20]\n",
    "for index,value in enumerate(list):\n",
    "    print(index,value)"
   ]
  },
  {
   "cell_type": "code",
   "execution_count": null,
   "metadata": {},
   "outputs": [],
   "source": [
    "# append a list to the second list.\n",
    "list1 = [5,10,15,20]\n",
    "list2 = ['c','a','b']\n",
    "list3 = list1+list2\n",
    "print(list3)\n",
    "\n",
    "#second method\n",
    "list1.append(list2)\n",
    "print(list1)"
   ]
  },
  {
   "cell_type": "code",
   "execution_count": null,
   "metadata": {},
   "outputs": [],
   "source": [
    "# select an item randomly from a list.\n",
    "import random\n",
    "list2 = ['c','a','b','g','o']\n",
    "a = random.choice(list2)\n",
    "print(a)\n"
   ]
  },
  {
   "cell_type": "code",
   "execution_count": null,
   "metadata": {},
   "outputs": [],
   "source": [
    "#to get unique values from a list.\n",
    "my_list = [10, 20, 30, 40, 20, 50, 60, 40]\n",
    "new_set = set(my_list)\n",
    "new_list = list(new_set)\n",
    "print(new_list)"
   ]
  },
  {
   "cell_type": "code",
   "execution_count": null,
   "metadata": {},
   "outputs": [],
   "source": [
    "#get the frequency of elements in a list\n",
    "my_list = [10, 20, 30, 40, 20, 50, 60, 40]\n",
    "dict = {}\n",
    "for  i in my_list:\n",
    "    if i in dict:\n",
    "        dict[i]+=1\n",
    "    else:\n",
    "        dict[i]=1\n",
    "print(dict)\n",
    " "
   ]
  },
  {
   "cell_type": "code",
   "execution_count": null,
   "metadata": {},
   "outputs": [],
   "source": [
    "#count the number of elements in a list within a specified range.\n",
    "list = [1, 2, 3, 4, 5,6,7,8]\n",
    "min = 5\n",
    "max= 7\n",
    "count =0\n",
    "for i in list:\n",
    "    if i in range(min,max+1):\n",
    "        count+=1\n",
    "print(count)      "
   ]
  },
  {
   "cell_type": "code",
   "execution_count": 6,
   "metadata": {},
   "outputs": [
    {
     "name": "stdout",
     "output_type": "stream",
     "text": [
      "[2, 5, 'red']\n"
     ]
    }
   ],
   "source": [
    "# find common items in two lists.\n",
    "list1 = [1, 2, 3, 4, 5, 'red']\n",
    "list2 = ['yellow', 'red', 'blue', 2, 5]\n",
    "common = []\n",
    "for i in list1:\n",
    "    if i in list2:\n",
    "        common.append(i)\n",
    "print(common)"
   ]
  },
  {
   "cell_type": "code",
   "execution_count": 7,
   "metadata": {},
   "outputs": [
    {
     "ename": "TypeError",
     "evalue": "'int' object is not iterable",
     "output_type": "error",
     "traceback": [
      "\u001b[1;31m---------------------------------------------------------------------------\u001b[0m",
      "\u001b[1;31mTypeError\u001b[0m                                 Traceback (most recent call last)",
      "Cell \u001b[1;32mIn[7], line 3\u001b[0m\n\u001b[0;32m      1\u001b[0m \u001b[38;5;66;03m#convert a list of multiple integers into a single integer.\u001b[39;00m\n\u001b[0;32m      2\u001b[0m \u001b[38;5;28mlist\u001b[39m \u001b[38;5;241m=\u001b[39m [\u001b[38;5;241m11\u001b[39m, \u001b[38;5;241m33\u001b[39m, \u001b[38;5;241m50\u001b[39m]\n\u001b[1;32m----> 3\u001b[0m a \u001b[38;5;241m=\u001b[39m \u001b[38;5;124;43m'\u001b[39;49m\u001b[38;5;124;43m'\u001b[39;49m\u001b[38;5;241;43m.\u001b[39;49m\u001b[43mjoin\u001b[49m\u001b[43m(\u001b[49m\u001b[38;5;28;43mmap\u001b[39;49m\u001b[43m(\u001b[49m\u001b[38;5;28;43mtuple\u001b[39;49m\u001b[43m,\u001b[49m\u001b[38;5;28;43mlist\u001b[39;49m\u001b[43m)\u001b[49m\u001b[43m)\u001b[49m\n\u001b[0;32m      4\u001b[0m \u001b[38;5;28mprint\u001b[39m(a)\n",
      "\u001b[1;31mTypeError\u001b[0m: 'int' object is not iterable"
     ]
    }
   ],
   "source": [
    "#convert a list of multiple integers into a single integer.\n",
    "list = [11, 33, 50]\n",
    "a = ''.join(map(str,list))\n",
    "print(a)"
   ]
  },
  {
   "cell_type": "code",
   "execution_count": null,
   "metadata": {},
   "outputs": [],
   "source": [
    "# split a list based on the first character of a word.\n",
    "\n",
    "def split_list(input_list):\n",
    "    dict = {}\n",
    "    for word in input_list:\n",
    "        first_char = word[0]\n",
    "        if first_char in dict:\n",
    "            dict[first_char].append(word)\n",
    "        else:\n",
    "            dict[first_char] = [word]\n",
    "    return dict\n",
    "\n",
    "word_list = ['apple', 'banana', 'cat', 'dog', 'car', 'elephant']\n",
    "result = split_list(word_list)\n",
    "for key, value in result.items():\n",
    "    print(f\"Words starting with '{key}': {value}\")\n"
   ]
  },
  {
   "cell_type": "code",
   "execution_count": null,
   "metadata": {},
   "outputs": [],
   "source": [
    "list1 = ['a', 'b', 'c', 'd', 'e', 'f']\n",
    "list2 = ['d', 'e', 'f', 'g', 'h']\n",
    "\n",
    "print('missing', set(list1) - set(list2))\n",
    "print('additional', set(list2) - set(list1))\n"
   ]
  },
  {
   "cell_type": "code",
   "execution_count": null,
   "metadata": {},
   "outputs": [],
   "source": [
    "#split a list into different variables.\n",
    "list = [1, 2, 'a']\n",
    "x,y,z = list\n",
    "print(x)\n",
    "print(y)\n",
    "print(z)"
   ]
  },
  {
   "cell_type": "code",
   "execution_count": null,
   "metadata": {},
   "outputs": [],
   "source": [
    "# insert an element before each element of a list.\n",
    "my_list = [0, 1, 2, 3, 4, 5]\n",
    "element = 'x'\n",
    "for i in range(0,len(my_list)):\n",
    "    my_list.insert(i*2,element)\n",
    "print(my_list)"
   ]
  },
  {
   "cell_type": "code",
   "execution_count": 5,
   "metadata": {},
   "outputs": [
    {
     "name": "stdout",
     "output_type": "stream",
     "text": [
      "[7, 0]\n",
      "[1, 2]\n",
      "[7, 8]\n",
      "[4, 3]\n",
      "[6, 9]\n",
      "[3, 4]\n"
     ]
    }
   ],
   "source": [
    "#print nested lists (each list on a new line) using the print() function.\n",
    "my_list = [ [7, 0],  [1, 2],  [7, 8],  [4, 3],  [6, 9],  [3, 4]]\n",
    "for i in my_list:\n",
    "    print(i)"
   ]
  },
  {
   "cell_type": "code",
   "execution_count": null,
   "metadata": {},
   "outputs": [],
   "source": [
    "list1 = [\"red\", \"orange\", \"green\", \"blue\", \"white\"]\n",
    "list2 =[\"black\", \"yellow\", \"green\", \"blue\"]\n",
    "set1 = set(list1)\n",
    "set2 = set(list2)\n",
    "new_list = list(set1-set2)\n",
    "new_list2 = list(set2-set1)\n",
    "print(new_list)\n",
    "print(new_list2)\n"
   ]
  },
  {
   "cell_type": "code",
   "execution_count": null,
   "metadata": {},
   "outputs": [],
   "source": [
    "#convert a string to a list.\n",
    "string = 'abracadabra'\n",
    "list = list(string)\n",
    "print(list)\n",
    "list = string.split()\n",
    "print(list)"
   ]
  }
 ],
 "metadata": {
  "kernelspec": {
   "display_name": "Python 3",
   "language": "python",
   "name": "python3"
  },
  "language_info": {
   "codemirror_mode": {
    "name": "ipython",
    "version": 3
   },
   "file_extension": ".py",
   "mimetype": "text/x-python",
   "name": "python",
   "nbconvert_exporter": "python",
   "pygments_lexer": "ipython3",
   "version": "3.12.2"
  }
 },
 "nbformat": 4,
 "nbformat_minor": 2
}
