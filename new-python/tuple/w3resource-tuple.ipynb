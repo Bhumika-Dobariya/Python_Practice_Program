{
 "cells": [
  {
   "cell_type": "code",
   "execution_count": null,
   "metadata": {},
   "outputs": [],
   "source": [
    "#create a tuple with different data types\n",
    "tuple = (10,2.0,'a', ['a', 'b', 'c'],'True')\n",
    "print(tuple)"
   ]
  },
  {
   "cell_type": "code",
   "execution_count": null,
   "metadata": {},
   "outputs": [],
   "source": [
    " #create a tuple of numbers and print one item\n",
    "tuple = (1,2,3,4,5,6)\n",
    "print(tuple)\n",
    "tuple = 6,\n",
    "print(tuple)\n",
    " "
   ]
  },
  {
   "cell_type": "code",
   "execution_count": null,
   "metadata": {},
   "outputs": [],
   "source": [
    "#unpack a tuple into several variables.\n",
    "tuple = (1,2,3,4)\n",
    "a,b,c,d = tuple\n",
    "print(a,b,c,d)\n",
    "print(a+b+c+d)\n"
   ]
  },
  {
   "cell_type": "code",
   "execution_count": null,
   "metadata": {},
   "outputs": [],
   "source": [
    "# add an item in a tuple.\n",
    "tuple = (1,2,3,4,5)\n",
    "new_tuple = tuple+(6,)\n",
    "print(new_tuple)\n",
    "\n",
    "#second\n",
    "new_tuple = tuple[:2]+(10,)+tuple[2:]\n",
    "print(new_tuple)"
   ]
  },
  {
   "cell_type": "code",
   "execution_count": null,
   "metadata": {},
   "outputs": [],
   "source": [
    "#convert a tuple to a string.\n",
    "tuple = (1,2,3,4,5)\n",
    "new_tuple = ''.join(tuple)\n",
    "print(new_tuple)"
   ]
  },
  {
   "cell_type": "code",
   "execution_count": null,
   "metadata": {},
   "outputs": [],
   "source": [
    "#get the 4th element from the last element of a tuple.\n",
    "tuple = (1,5,3,10,8,9,6)\n",
    "a = tuple[-4]\n",
    "print(a)\n",
    "    "
   ]
  },
  {
   "cell_type": "code",
   "execution_count": null,
   "metadata": {},
   "outputs": [],
   "source": [
    "#create the colon of a tuple.\n",
    "my_tuple = (':',)\n",
    "my_colon, = my_tuple\n",
    "print(my_colon)"
   ]
  },
  {
   "cell_type": "code",
   "execution_count": null,
   "metadata": {},
   "outputs": [],
   "source": [
    "#find repeated items in a tuple.\n",
    "tuple = (1,5,3,5,8,5,6)\n",
    "a = tuple.count(5)\n",
    "print(a)\n",
    "\n",
    "#second\n",
    "tuple = (1,5,3,5,8,5,6)\n",
    "tuple1 = []\n",
    "for i in tuple:\n",
    "    if tuple.count(i)>1:\n",
    "        tuple1.append(i)\n",
    "print(set(tuple1))\n"
   ]
  },
  {
   "cell_type": "code",
   "execution_count": null,
   "metadata": {},
   "outputs": [],
   "source": [
    "#element exists within a tuple\n",
    "tuple = (10,50,30,80,60)\n",
    "if 10 in tuple:\n",
    "    print('10 is in', tuple)\n",
    "else:\n",
    "    print('10 is NOT in',tuple)\n",
    "    "
   ]
  },
  {
   "cell_type": "code",
   "execution_count": null,
   "metadata": {},
   "outputs": [],
   "source": [
    "#convert a list to a tuple.\n",
    "list = [10,50,30,80,60]\n",
    "a = tuple(list)\n",
    "print(a)"
   ]
  },
  {
   "cell_type": "code",
   "execution_count": null,
   "metadata": {},
   "outputs": [],
   "source": [
    "#remove an item from a tuple.\n",
    "tuple = (10,50,30,80,60)\n",
    "a = tuple[:2]+tuple[3:]\n",
    "print(a)"
   ]
  },
  {
   "cell_type": "code",
   "execution_count": null,
   "metadata": {},
   "outputs": [],
   "source": [
    "#slice a tuple.\n",
    "tuple = (10,50,30,80,60,70,20,100,90)\n",
    "tuple1 = tuple[:5]\n",
    "tuple2 = tuple[5:]\n",
    "print(tuple1)\n",
    "print(tuple2)"
   ]
  },
  {
   "cell_type": "code",
   "execution_count": null,
   "metadata": {},
   "outputs": [],
   "source": [
    "#find the index of an item in a tuple.\n",
    "tuple = (2,3,14,1,20)\n",
    "a = tuple.index(20)\n",
    "print(a)"
   ]
  },
  {
   "cell_type": "code",
   "execution_count": null,
   "metadata": {},
   "outputs": [],
   "source": [
    "# find the length of a tuple.\n",
    "tuple = (1,5,8,9)\n",
    "length = len(tuple)\n",
    "print(length)"
   ]
  },
  {
   "cell_type": "code",
   "execution_count": null,
   "metadata": {},
   "outputs": [],
   "source": [
    "# convert a tuple to a dictionary.\n",
    "tuple = ('a',1,'c',3)\n",
    "dict = {}\n",
    "for i in range(0, len(tuple), 2):\n",
    "    dict[tuple[i]] = tuple[i+1]\n",
    "print(dict)"
   ]
  },
  {
   "cell_type": "code",
   "execution_count": null,
   "metadata": {},
   "outputs": [],
   "source": [
    "#unzip a list of tuples into individual lists.\n",
    "my_list = [(1, 2), ('a', 'b'), (True, False)]\n",
    "new_list = []\n",
    "for i in my_list:\n",
    "    new_list.append(list(i))\n",
    "print(*new_list)"
   ]
  },
  {
   "cell_type": "code",
   "execution_count": null,
   "metadata": {},
   "outputs": [],
   "source": [
    "#reverse a tuple.\n",
    "tuple = (10,20,30,40)\n",
    "a = tuple[::-1]\n",
    "print(a)"
   ]
  },
  {
   "cell_type": "code",
   "execution_count": null,
   "metadata": {},
   "outputs": [],
   "source": [
    "# convert a list of tuples into a dictionary.\n",
    "my_list = [('a', 1), ('b', 2)]\n",
    "for i in my_list:\n",
    "    my_dict = {i[0]:i[1] }\n",
    "    print(my_dict)\n"
   ]
  },
  {
   "cell_type": "code",
   "execution_count": null,
   "metadata": {},
   "outputs": [],
   "source": [
    "#print a tuple with string formatting.\n",
    "tuple = (100, 200, 300)\n",
    "print('This is a tuple {}'.format(tuple))"
   ]
  },
  {
   "cell_type": "code",
   "execution_count": null,
   "metadata": {},
   "outputs": [],
   "source": [
    "#replace the last value of tuples in a list.\n",
    "list1 = [(1, 2, 3), (4, 5, 6), (7, 8, 9)]\n",
    "list2 = []\n",
    "for i in list1:\n",
    "    a = i[:-1]+(100,)\n",
    "    list2.append(a)\n",
    "print(\"Updated list:\", list2)\n"
   ]
  },
  {
   "cell_type": "code",
   "execution_count": null,
   "metadata": {},
   "outputs": [],
   "source": [
    "#emove an empty tuple(s) from a list of tuples.\n",
    "list=  [(), (), ('',), ('a', 'b'), ('a', 'b', 'c'), ('d')]\n",
    "new_list = []\n",
    "for i in list:\n",
    "    if i!= ():\n",
    "        new_list.append(i)\n",
    "print(new_list)"
   ]
  },
  {
   "cell_type": "code",
   "execution_count": null,
   "metadata": {},
   "outputs": [],
   "source": [
    "#count the elements in a list until an element is a tuple.\n",
    "num = [10, 20, 30, (10, 20), 40]\n",
    "count = 0\n",
    "for i in num:\n",
    "     if not isinstance(i, tuple):\n",
    "        count += 1\n",
    "     else:\n",
    "        break\n",
    "print(count)"
   ]
  },
  {
   "cell_type": "code",
   "execution_count": null,
   "metadata": {},
   "outputs": [],
   "source": [
    "#convert a given string list to a tuple\n",
    "origin_string = 'python 3.0'\n",
    "string_tuple = tuple(origin_string)\n",
    "print(string_tuple)\n",
    "print(type(string_tuple))"
   ]
  },
  {
   "cell_type": "code",
   "execution_count": null,
   "metadata": {},
   "outputs": [],
   "source": [
    "#calculate the product, multiplying all the numbers in a given tuple.\n",
    "tuple = (4, 3, 2, 2, -1, 18)\n",
    "product = 1\n",
    "for i in tuple:\n",
    "    product*=i\n",
    "print(product)\n",
    "\n",
    "#second\n",
    "tuple = (2, 4, 8, 8, 3, 2, 9)\n",
    "product = 1\n",
    "for i in tuple:\n",
    "    product*=i\n",
    "print(product)"
   ]
  },
  {
   "cell_type": "code",
   "execution_count": null,
   "metadata": {},
   "outputs": [],
   "source": [
    "#calculate the average value of the numbers in a given tuple of tuples.\n",
    "tuple_of_tuples = ((10, 10, 10, 12), (30, 45, 56, 45), (81, 80, 39, 32), (1, 2, 3, 4))\n",
    "\n",
    "transposed_tuple = tuple(zip(*tuple_of_tuples))\n",
    "\n",
    "column_sums = [sum(column) for column in transposed_tuple]\n",
    "\n",
    "num_rows = len(tuple_of_tuples)\n",
    "\n",
    "average_values = [sum / num_rows for sum in column_sums]\n",
    "\n",
    "print(\"Average value of the numbers of the said tuple of tuples:\")\n",
    "print(average_values)\n"
   ]
  },
  {
   "cell_type": "code",
   "execution_count": null,
   "metadata": {},
   "outputs": [],
   "source": [
    "#convert a tuple of string values to a tuple of integer values.\n",
    "# Original tuple of string values\n",
    "original_tuple = (('333', '33'), ('1416', '55'))\n",
    "\n",
    "new_tuple = []\n",
    "\n",
    "for inner_tuple in original_tuple:\n",
    "    converted_values = []\n",
    "    for value in inner_tuple:\n",
    "        converted_values.append(int(value))\n",
    "    new_tuple.append(tuple(converted_values))\n",
    "\n",
    "new_tuple = tuple(new_tuple)\n",
    "\n",
    "print(\"Original tuple:\")\n",
    "print(original_tuple)\n",
    "print(\"New tuple :\")\n",
    "print(new_tuple)\n"
   ]
  },
  {
   "cell_type": "code",
   "execution_count": null,
   "metadata": {},
   "outputs": [],
   "source": [
    "#onvert a given tuple of positive integers into an integer.\n",
    "original_tuple = (1, 2, 3)\n",
    "\n",
    "converted_string = \"\"\n",
    "\n",
    "for num in original_tuple:\n",
    "    converted_string += str(num)\n",
    "\n",
    "converted_integer = int(converted_string)\n",
    "\n",
    "print(\"Original tuple:\", original_tuple)\n",
    "print(\"Converted integer:\", converted_integer)\n"
   ]
  },
  {
   "cell_type": "code",
   "execution_count": null,
   "metadata": {},
   "outputs": [],
   "source": [
    "#check if a specified element appears in a tuple of tuples.\n",
    "\n",
    "tuple_of_tuples = (('Red', 'White', 'Blue'), ('Green', 'Pink', 'Purple'), ('Orange', 'Yellow', 'Lime'))\n",
    "\n",
    "print(\"Check if White present in said tuple of tuples!\")\n",
    "print(any('White' in tup for tup in tuple_of_tuples))\n",
    "\n",
    "print(\"Check if White present in said tuple of tuples!\")\n",
    "print(any('Green' in tup for tup in tuple_of_tuples))\n",
    "\n",
    "print(\"Check if Olive present in said tuple of tuples!\")\n",
    "print(any('Olive' in tup for tup in tuple_of_tuples))\n"
   ]
  },
  {
   "cell_type": "code",
   "execution_count": null,
   "metadata": {},
   "outputs": [],
   "source": [
    "# compute the element-wise sum of given tuples.\n",
    "tuple1 = (1, 2, 3, 4)\n",
    "tuple2 = (3, 5, 2, 1)\n",
    "tuple3 = (2, 2, 3, 1)\n",
    "res = tuple(map(sum, zip(tuple1, tuple2, tuple3)))\n",
    "print(\"Sum of Elements:\",res)"
   ]
  },
  {
   "cell_type": "code",
   "execution_count": null,
   "metadata": {},
   "outputs": [],
   "source": [
    "#compute the sum of all the elements of each tuple stored inside a list of tuples.\n",
    "list_of_tuples = [(1, 2), (2, 3), (3, 4)]\n",
    "sums = []\n",
    "\n",
    "for tup in list_of_tuples:\n",
    "    tuple_sum = 0\n",
    "    for num in tup:\n",
    "        tuple_sum += num\n",
    "    sums.append(tuple_sum)\n",
    "print(sums)"
   ]
  },
  {
   "cell_type": "code",
   "execution_count": null,
   "metadata": {},
   "outputs": [],
   "source": [
    "#convert a given list of tuples to a list of lists\n",
    "list_of_tuples = [(1, 2), (2, 3), (3, 4)]\n",
    "list_of_lists = []                                                          \n",
    "for tuple in list_of_tuples:\n",
    "        list_of_lists.append(list(tuple))\n",
    "print(list_of_lists)\n"
   ]
  }
 ],
 "metadata": {
  "kernelspec": {
   "display_name": "Python 3",
   "language": "python",
   "name": "python3"
  },
  "language_info": {
   "codemirror_mode": {
    "name": "ipython",
    "version": 3
   },
   "file_extension": ".py",
   "mimetype": "text/x-python",
   "name": "python",
   "nbconvert_exporter": "python",
   "pygments_lexer": "ipython3",
   "version": "3.12.2"
  }
 },
 "nbformat": 4,
 "nbformat_minor": 2
}
