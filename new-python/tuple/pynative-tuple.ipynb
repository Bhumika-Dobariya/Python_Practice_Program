{
 "cells": [
  {
   "cell_type": "code",
   "execution_count": 14,
   "metadata": {},
   "outputs": [
    {
     "name": "stdout",
     "output_type": "stream",
     "text": [
      "(50, 40, 30, 20, 10)\n"
     ]
    }
   ],
   "source": [
    "#Reverse the tuple\n",
    "tuple1 = (10, 20, 30, 40, 50)\n",
    "a =tuple1[::-1]\n",
    "print(a)"
   ]
  },
  {
   "cell_type": "code",
   "execution_count": 15,
   "metadata": {},
   "outputs": [
    {
     "name": "stdout",
     "output_type": "stream",
     "text": [
      "20\n"
     ]
    }
   ],
   "source": [
    "#Access value 20 from the tuple\n",
    "tuple1 = (\"Orange\", [10, 20, 30], (5, 15, 25))\n",
    "a = tuple1[1][1]\n",
    "print(a)\n"
   ]
  },
  {
   "cell_type": "code",
   "execution_count": 16,
   "metadata": {},
   "outputs": [
    {
     "name": "stdout",
     "output_type": "stream",
     "text": [
      "(50,)\n"
     ]
    }
   ],
   "source": [
    "#Create a tuple with single item 50\n",
    "tuple = (50,)\n",
    "print(tuple)"
   ]
  },
  {
   "cell_type": "code",
   "execution_count": 19,
   "metadata": {},
   "outputs": [
    {
     "name": "stdout",
     "output_type": "stream",
     "text": [
      "10\n",
      "20\n",
      "30\n",
      "40\n"
     ]
    }
   ],
   "source": [
    "#Unpack the tuple into 4 variables\n",
    "tuple1 = (10, 20, 30, 40)\n",
    "a,b,c,d = tuple1\n",
    "print(a)\n",
    "print(b)\n",
    "print(c)\n",
    "print(d)"
   ]
  },
  {
   "cell_type": "code",
   "execution_count": 22,
   "metadata": {},
   "outputs": [
    {
     "name": "stdout",
     "output_type": "stream",
     "text": [
      "(99, 88)\n",
      "(11, 22)\n"
     ]
    }
   ],
   "source": [
    "#Swap two tuples in Python\n",
    "tuple1 = (11, 22)\n",
    "tuple2 = (99, 88)\n",
    "temp = tuple1\n",
    "tuple1 = tuple2\n",
    "tuple2 = temp\n",
    "print(tuple1)\n",
    "print(tuple2)"
   ]
  },
  {
   "cell_type": "code",
   "execution_count": 25,
   "metadata": {},
   "outputs": [
    {
     "name": "stdout",
     "output_type": "stream",
     "text": [
      "(44, 55)\n"
     ]
    }
   ],
   "source": [
    "#Copy specific elements from one tuple to a new tuple\n",
    "tuple = (11, 22, 33, 44, 55, 66)\n",
    "tuple1 = tuple[3:-1]\n",
    "print(tuple1)"
   ]
  },
  {
   "cell_type": "code",
   "execution_count": 27,
   "metadata": {},
   "outputs": [
    {
     "name": "stdout",
     "output_type": "stream",
     "text": [
      "(11, [222, 33], 44, 55)\n"
     ]
    }
   ],
   "source": [
    "# Modify the tuple\n",
    "tuple1 = (11, [22, 33], 44, 55)\n",
    "tuple1[1][0]=222\n",
    "print(tuple1)"
   ]
  },
  {
   "cell_type": "code",
   "execution_count": 30,
   "metadata": {},
   "outputs": [
    {
     "name": "stdout",
     "output_type": "stream",
     "text": [
      "2\n"
     ]
    }
   ],
   "source": [
    "#Counts the number of occurrences of item 50 from a tuple\n",
    "tuple1 = (50, 10, 60, 70, 50)\n",
    "a =tuple1.count(50)\n",
    "print(a)"
   ]
  },
  {
   "cell_type": "code",
   "execution_count": 35,
   "metadata": {},
   "outputs": [
    {
     "name": "stdout",
     "output_type": "stream",
     "text": [
      "all item is same\n",
      "all item is same\n",
      "all item is same\n",
      "not same\n"
     ]
    }
   ],
   "source": [
    "#Check if all items in the tuple are the same\n",
    "tuple1 = (45, 45, 55, 45)\n",
    "for i in tuple1:\n",
    "    if i==tuple1[0]:\n",
    "      print(\"all item is same\")\n",
    "    else:\n",
    "        print(\"not same\")"
   ]
  }
 ],
 "metadata": {
  "kernelspec": {
   "display_name": "Python 3",
   "language": "python",
   "name": "python3"
  },
  "language_info": {
   "codemirror_mode": {
    "name": "ipython",
    "version": 3
   },
   "file_extension": ".py",
   "mimetype": "text/x-python",
   "name": "python",
   "nbconvert_exporter": "python",
   "pygments_lexer": "ipython3",
   "version": "3.12.2"
  }
 },
 "nbformat": 4,
 "nbformat_minor": 2
}
