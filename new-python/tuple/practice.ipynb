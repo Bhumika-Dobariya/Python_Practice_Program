{
 "cells": [
  {
   "cell_type": "code",
   "execution_count": null,
   "metadata": {},
   "outputs": [],
   "source": [
    "tuple1 = (10,20.5,\"abc\")\n",
    "print(tuple1[0])\n",
    "print(tuple1[1])\n",
    "print(tuple1[2])"
   ]
  },
  {
   "cell_type": "code",
   "execution_count": null,
   "metadata": {},
   "outputs": [],
   "source": [
    "#Concatenate two tuples and create a new tuple.\n",
    "tuple1 = (1,2,3,4)\n",
    "tuple2 = (5,6,7,8)\n",
    "new_tuple = tuple1+tuple2\n",
    "print(new_tuple)"
   ]
  },
  {
   "cell_type": "code",
   "execution_count": null,
   "metadata": {},
   "outputs": [],
   "source": [
    "#Unpack a tuple into individual variables and print them.\n",
    "fruits = (\"apple\",\"banana\",\"cherry\")\n",
    "a,b,c = fruits\n",
    "print(a)\n",
    "print(b)\n",
    "print(c)"
   ]
  },
  {
   "cell_type": "code",
   "execution_count": null,
   "metadata": {},
   "outputs": [],
   "source": [
    "#Write a function to return the reverse of a tuple.\n",
    "def reverse_tuple(tuple):\n",
    "    return tuple[::-1]\n",
    "\n",
    "tuple = (1,2,3,4,)\n",
    "result= reverse_tuple(tuple)\n",
    "print(result)"
   ]
  },
  {
   "cell_type": "code",
   "execution_count": null,
   "metadata": {},
   "outputs": [],
   "source": [
    "#Calculate the sum of elements in a tuple of integers\n",
    "def sum_tuple(tuple):\n",
    "    sum= 0\n",
    "    for i in tuple:\n",
    "        sum = sum+i\n",
    "    return sum\n",
    "\n",
    "tuple = (1,2,3,4,)\n",
    "a = sum_tuple(tuple)\n",
    "print(a)"
   ]
  },
  {
   "cell_type": "code",
   "execution_count": null,
   "metadata": {},
   "outputs": [],
   "source": [
    "#Find the index of a specific element in a tuple.\n",
    "\n",
    "tuple = (1,2,3,4,5,6,)\n",
    "result = tuple.index(4)\n",
    "print(result)"
   ]
  },
  {
   "cell_type": "code",
   "execution_count": null,
   "metadata": {},
   "outputs": [],
   "source": [
    "#Check if an element exists in a tuple.\n",
    "\n",
    "tuple = (1,2,3,4,5,)\n",
    "n=30\n",
    "if n in tuple:\n",
    "    print(\"yes\")\n",
    "else:\n",
    "    print(\"no\")"
   ]
  },
  {
   "cell_type": "code",
   "execution_count": null,
   "metadata": {},
   "outputs": [],
   "source": [
    "#Convert a tuple into a list and vice versa.\n",
    "\n",
    "tuple = (1,2,3,4,5,)\n",
    "tuple1 = list(tuple)\n",
    "print(tuple1)"
   ]
  },
  {
   "cell_type": "code",
   "execution_count": null,
   "metadata": {},
   "outputs": [],
   "source": [
    "#Write a function to sort a tuple of strings alphabetically.\n",
    "def sort_tuple(n):\n",
    "    a = sorted(n)\n",
    "    return a\n",
    "\n",
    "tuple = (10,12,3,9,5,6,)\n",
    "result = sort_tuple(tuple)\n",
    "print(result)"
   ]
  },
  {
   "cell_type": "code",
   "execution_count": null,
   "metadata": {},
   "outputs": [],
   "source": [
    "#Compare two tuples element-wise and determine if they are equal.\n",
    "\n",
    "tuple1 = (1,2,3,4,)\n",
    "tuple2 = (1,2,3,4,)\n",
    "if tuple1 ==tuple2:\n",
    "    print(\"equal\")\n",
    "else:\n",
    "    print(\"not equal\")"
   ]
  }
 ],
 "metadata": {
  "kernelspec": {
   "display_name": "Python 3",
   "language": "python",
   "name": "python3"
  },
  "language_info": {
   "codemirror_mode": {
    "name": "ipython",
    "version": 3
   },
   "file_extension": ".py",
   "mimetype": "text/x-python",
   "name": "python",
   "nbconvert_exporter": "python",
   "pygments_lexer": "ipython3",
   "version": "3.12.2"
  }
 },
 "nbformat": 4,
 "nbformat_minor": 2
}
