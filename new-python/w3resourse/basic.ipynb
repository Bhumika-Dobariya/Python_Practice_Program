{
 "cells": [
  {
   "cell_type": "code",
   "execution_count": null,
   "metadata": {},
   "outputs": [],
   "source": [
    "print(\"Twinkle, twinkle, little star, \\n\\tHow I wonder what you are! \\n\\t\\tUp above the world so high \\n\\t\\tLike a diamond in the sky.\\nTwinkle, twinkle, little star, \\n\\tHow I wonder what you are!\")"
   ]
  },
  {
   "cell_type": "code",
   "execution_count": null,
   "metadata": {},
   "outputs": [],
   "source": [
    "import sys\n",
    "print(\"python version\")\n",
    "print(sys.version)\n",
    "print(sys.version_info)"
   ]
  },
  {
   "cell_type": "code",
   "execution_count": null,
   "metadata": {},
   "outputs": [],
   "source": [
    "import datetime\n",
    "a = datetime.datetime.now()\n",
    "print(a)\n",
    "\n",
    "import datetime\n",
    "a = datetime.date.today()\n",
    "print(a)\n",
    "\n",
    "import datetime\n",
    "a = datetime.datetime.now()\n",
    "time = a.strftime(\"%H:%M:%S\")\n",
    "print(time)"
   ]
  },
  {
   "cell_type": "code",
   "execution_count": null,
   "metadata": {},
   "outputs": [],
   "source": [
    "r = float(input(\"enter radius\"))\n",
    "pie = 3.14\n",
    "area = pie*r*r\n",
    "print(\"area of circle\",area)"
   ]
  },
  {
   "cell_type": "code",
   "execution_count": null,
   "metadata": {},
   "outputs": [],
   "source": [
    "first = input(\"first name\")\n",
    "last = input(\"last name\")\n",
    "\n",
    "print(last +\" \" + first)\n"
   ]
  },
  {
   "cell_type": "code",
   "execution_count": null,
   "metadata": {},
   "outputs": [],
   "source": [
    "#6\n",
    "n  =int(input(\"enter number\"))\n",
    "list=[]\n",
    "for i in range(1,n):\n",
    "    a = int(input())\n",
    "    list.append(a)\n",
    "   \n",
    "print(\"list=\",list)\n",
    "a = tuple(list)\n",
    "print(\"tuple=\",a)\n"
   ]
  },
  {
   "cell_type": "code",
   "execution_count": null,
   "metadata": {},
   "outputs": [],
   "source": [
    "list = [\"Red\",\"Green\",\"White\" ,\"Black\"]\n",
    "print(list[0],list[-1])\n"
   ]
  },
  {
   "cell_type": "code",
   "execution_count": null,
   "metadata": {},
   "outputs": [],
   "source": [
    "#9\n",
    "exam_date = (11,12,2014)\n",
    "\n",
    "# The '%i' placeholders are filled with the values from the 'exam_st_date' tuple\n",
    "\n",
    "print(\"your exam will start from : %i / %i / %i\" % exam_date)\n"
   ]
  },
  {
   "cell_type": "code",
   "execution_count": null,
   "metadata": {},
   "outputs": [],
   "source": [
    "n = 3\n",
    "a =5\n",
    "sum = 0\n",
    "for i in range(1,n+1):\n",
    "    sum = sum+a\n",
    "    a = a*10+5\n",
    "print(sum)"
   ]
  },
  {
   "cell_type": "code",
   "execution_count": null,
   "metadata": {},
   "outputs": [],
   "source": [
    "#12\n",
    "import calendar\n",
    "y = int(input('enter year'))\n",
    "m = int(input(\"enter month\"))\n",
    "print(calendar.month(y,m))"
   ]
  },
  {
   "cell_type": "code",
   "execution_count": null,
   "metadata": {},
   "outputs": [],
   "source": [
    "print(\"\"\"\n",
    "a string that you \"don't\" have to escape\n",
    "this\n",
    "is a____mltiline\n",
    "heredoc string----->example\n",
    "\"\"\")"
   ]
  },
  {
   "cell_type": "code",
   "execution_count": null,
   "metadata": {},
   "outputs": [],
   "source": [
    "#14\n",
    "from datetime import date\n",
    "date1 = date(2015,2,5)\n",
    "date2 = date(2015,2,15)\n",
    "a = date2-date1\n",
    "print(a.days)"
   ]
  },
  {
   "cell_type": "code",
   "execution_count": null,
   "metadata": {},
   "outputs": [],
   "source": [
    "#15\n",
    "r = int(input(\"enter radius\"))\n",
    "pie = 3.14\n",
    "volume_sphere = (4/3)*3.14*r*r*r\n",
    "print(volume_sphere)"
   ]
  },
  {
   "cell_type": "code",
   "execution_count": null,
   "metadata": {},
   "outputs": [],
   "source": [
    "#16\n",
    "def difference(n):\n",
    "    if n<=17:\n",
    "        return 17-n\n",
    "    else:\n",
    "        return(n-17)*2\n",
    "a  = difference(30)\n",
    "print(a)\n",
    "    "
   ]
  },
  {
   "cell_type": "code",
   "execution_count": null,
   "metadata": {},
   "outputs": [],
   "source": [
    "def sum(a,b,c):\n",
    "    if a==b==c:\n",
    "        sum = a+b+c\n",
    "        sum = sum*3\n",
    "        return sum\n",
    "print(sum(5,10,15))\n",
    "print(sum(5,5,5))"
   ]
  },
  {
   "cell_type": "code",
   "execution_count": null,
   "metadata": {},
   "outputs": [],
   "source": [
    "def string(n):\n",
    "    l = len(n)\n",
    "    if (n[:2]=='is'):\n",
    "        return n\n",
    "    else:\n",
    "        return 'is' + n\n",
    "a = string(\"bhumi\")\n",
    "print(a)"
   ]
  },
  {
   "cell_type": "code",
   "execution_count": null,
   "metadata": {},
   "outputs": [],
   "source": [
    "list = [1,2,4,5,4,4]\n",
    "a = list.count(4)\n",
    "print(a)"
   ]
  },
  {
   "cell_type": "code",
   "execution_count": null,
   "metadata": {},
   "outputs": [],
   "source": [
    "n = int(input(\"enter number\"))\n",
    "if(n%i==0):\n",
    "    print(\"even\")\n",
    "else:\n",
    "    print(\"odd\")\n",
    "    "
   ]
  }
 ],
 "metadata": {
  "kernelspec": {
   "display_name": "Python 3",
   "language": "python",
   "name": "python3"
  },
  "language_info": {
   "codemirror_mode": {
    "name": "ipython",
    "version": 3
   },
   "file_extension": ".py",
   "mimetype": "text/x-python",
   "name": "python",
   "nbconvert_exporter": "python",
   "pygments_lexer": "ipython3",
   "version": "3.12.2"
  }
 },
 "nbformat": 4,
 "nbformat_minor": 2
}
