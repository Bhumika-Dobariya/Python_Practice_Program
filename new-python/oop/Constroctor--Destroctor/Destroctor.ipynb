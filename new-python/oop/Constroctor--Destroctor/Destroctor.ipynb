{
 "cells": [
  {
   "cell_type": "code",
   "execution_count": 3,
   "metadata": {},
   "outputs": [
    {
     "name": "stdout",
     "output_type": "stream",
     "text": [
      "Inside Constructor\n",
      "Object initialized\n",
      "Hello, my name is Emma\n",
      "Inside destructor\n",
      "Object destroyed\n"
     ]
    }
   ],
   "source": [
    "class Student:\n",
    "\n",
    "    # constructor\n",
    "    def __init__(self, name):\n",
    "        print('Inside Constructor')\n",
    "        self.name = name\n",
    "        print('Object initialized')\n",
    "\n",
    "    def show(self):\n",
    "        print('Hello, my name is', self.name)\n",
    "\n",
    "    # destructor\n",
    "    def __del__(self):\n",
    "        print('Inside destructor')\n",
    "        print('Object destroyed')\n",
    "\n",
    "s1 = Student('Emma')\n",
    "s1.show()\n",
    "\n",
    "del s1\n"
   ]
  }
 ],
 "metadata": {
  "kernelspec": {
   "display_name": "Python 3",
   "language": "python",
   "name": "python3"
  },
  "language_info": {
   "codemirror_mode": {
    "name": "ipython",
    "version": 3
   },
   "file_extension": ".py",
   "mimetype": "text/x-python",
   "name": "python",
   "nbconvert_exporter": "python",
   "pygments_lexer": "ipython3",
   "version": "3.12.2"
  }
 },
 "nbformat": 4,
 "nbformat_minor": 2
}
