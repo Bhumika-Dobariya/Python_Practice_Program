{
 "cells": [
  {
   "cell_type": "code",
   "execution_count": null,
   "metadata": {},
   "outputs": [],
   "source": [
    "from abc import ABC, abstractmethod\n",
    "\n",
    "class AbstractAnimal(ABC):\n",
    "    @abstractmethod\n",
    "    def speak(self):\n",
    "        pass\n",
    "\n",
    "class Dog(AbstractAnimal):\n",
    "    def speak(self):\n",
    "        return \"Boww Boww!\"\n",
    "\n",
    "dog = Dog()\n",
    "print(dog.speak())"
   ]
  },
  {
   "cell_type": "code",
   "execution_count": null,
   "metadata": {},
   "outputs": [],
   "source": [
    "from abc import ABC, abstractmethod\n",
    "class democlass(ABC):\n",
    "   @abstractmethod\n",
    "   def method1(self):\n",
    "      print (\"abstract method\")\n",
    "      return\n",
    "   def method2(self):\n",
    "      print (\"concrete method\")\n",
    "\n",
    "class concreteclass(democlass):\n",
    "   def method1(self):\n",
    "      super().method1()\n",
    "      return\n",
    "      \n",
    "obj = concreteclass()\n",
    "obj.method1()\n",
    "obj.method2()"
   ]
  },
  {
   "cell_type": "code",
   "execution_count": null,
   "metadata": {},
   "outputs": [],
   "source": [
    "from abc import ABC,abstractmethod\n",
    "class DefenceForce(ABC):\n",
    "    @abstractmethod\n",
    "    def area(self):\n",
    "        pass\n",
    "    def gun(self):\n",
    "        print(\"gun,ak47\")\n",
    "        \n",
    "class ArmyForce(DefenceForce):\n",
    "    def area(self):\n",
    "        print(\"armyforce area -land\")\n",
    "\n",
    "class NevyForce(DefenceForce):\n",
    "    def area(self):\n",
    "        print(\"nevyforce area -water\")\n",
    "        \n",
    "class AirForce(DefenceForce):\n",
    "    def area(self):\n",
    "        print(\"nevyforce area -water\")\n",
    "\n",
    "A1 = ArmyForce()\n",
    "N1 = NevyForce()\n",
    "A2 = AirForce()\n",
    "\n",
    "A1. gun()\n",
    "A1.area()\n",
    "\n",
    "N1.gun()\n",
    "N1.area()\n",
    "\n",
    "A2.gun()\n",
    "A2.area()"
   ]
  },
  {
   "cell_type": "code",
   "execution_count": null,
   "metadata": {},
   "outputs": [],
   "source": []
  }
 ],
 "metadata": {
  "kernelspec": {
   "display_name": "Python 3",
   "language": "python",
   "name": "python3"
  },
  "language_info": {
   "codemirror_mode": {
    "name": "ipython",
    "version": 3
   },
   "file_extension": ".py",
   "mimetype": "text/x-python",
   "name": "python",
   "nbconvert_exporter": "python",
   "pygments_lexer": "ipython3",
   "version": "3.12.2"
  }
 },
 "nbformat": 4,
 "nbformat_minor": 2
}
