{
 "cells": [
  {
   "cell_type": "code",
   "execution_count": 12,
   "metadata": {},
   "outputs": [
    {
     "name": "stdout",
     "output_type": "stream",
     "text": [
      "bhumi\n",
      "25\n",
      "250000\n",
      "age after modification 20\n",
      "salary after modification 50000\n"
     ]
    }
   ],
   "source": [
    "\"\"\"Employee Information: Define a class Employee with private attributes name, age, and salary. Implement methods to set and get these attributes. Ensure that the age and salary \n",
    "attributes cannot be directly modified from outside the class.\"\"\"\n",
    "\n",
    "class Employee:\n",
    "    def __init__(self,name,age,salary):\n",
    "        self.__name=name\n",
    "        self.__age = age\n",
    "        self.__salary = salary\n",
    "        \n",
    "    def get_name(self):\n",
    "        return self.__name    \n",
    "    def get_age(self):\n",
    "        return self.__age\n",
    "    def get_salary(self):\n",
    "        return self.__salary\n",
    "    \n",
    "    def set_name(self,name):\n",
    "        self.__name=name\n",
    "    def set_age(self,age):\n",
    "        self.__age=age\n",
    "    def set_salary(self,salary):\n",
    "        self.__salary=salary\n",
    "    \n",
    "e1= Employee(\"bhumi\",25,250000)\n",
    "print(e1.get_name())\n",
    "print(e1.get_age())\n",
    "print(e1.get_salary())\n",
    "\n",
    "e1.__age =20\n",
    "e1.__salary = 50000\n",
    "\n",
    "e1.set_age (20)\n",
    "e1.set_salary (50000)\n",
    "\n",
    "print(\"age after modification\",e1.get_age())\n",
    "print(\"salary after modification\",e1.get_salary())"
   ]
  },
  {
   "cell_type": "code",
   "execution_count": 14,
   "metadata": {},
   "outputs": [
    {
     "name": "stdout",
     "output_type": "stream",
     "text": [
      "deposit 600\n",
      "withdraw 400\n",
      "final balance 400\n"
     ]
    }
   ],
   "source": [
    "\"\"\"Design a Python class for a bank account. Encapsulate the account balance as a private attribute and provide methods to deposit and withdraw funds securely.\"\"\"\n",
    "class Bank_account:\n",
    "    def __init__(self,balance=0):\n",
    "        self._balance =balance\n",
    "        \n",
    "    def deposit(self,amount):\n",
    "        if amount>0:\n",
    "            self._balance+=amount\n",
    "            print(\"deposit\",self._balance)\n",
    "        else:\n",
    "            print(\"enter positive amount\")\n",
    "    def withdraw(self,amount):\n",
    "        if amount<=self._balance:\n",
    "            self._balance-=amount\n",
    "            print(\"withdraw\",self._balance)\n",
    "        else:\n",
    "            print(\"insuficient balance\")\n",
    "    \n",
    "    def get_balance(self):\n",
    "        return self._balance\n",
    "                    \n",
    "a = Bank_account(100) \n",
    "a.deposit(500)   \n",
    "a.withdraw(200)\n",
    "print(\"final balance\",a.get_balance()) \n"
   ]
  },
  {
   "cell_type": "code",
   "execution_count": 26,
   "metadata": {},
   "outputs": [
    {
     "name": "stdout",
     "output_type": "stream",
     "text": [
      "abc\n",
      "a\n",
      "20\n",
      "after xyz\n",
      "after a\n",
      "after 30\n"
     ]
    }
   ],
   "source": [
    "class Student_info:\n",
    "    def __init__(self,name,grade,roll_no):\n",
    "        self.__name =name\n",
    "        self.__grade =grade\n",
    "        self.__roll_no =roll_no\n",
    "        \n",
    "    def get_name(self):\n",
    "        return self.__name\n",
    "    def get_grade(self):\n",
    "        return self.__grade\n",
    "    def get_roll_no(self):\n",
    "        return self.__roll_no\n",
    "    \n",
    "    def set_name(self,name):\n",
    "        self.__name =name\n",
    "    def set_grade(self,grade):\n",
    "        self.__grade =grade\n",
    "    def set_roll_no(self,roll_no):\n",
    "        self.__roll_no =roll_no\n",
    "\n",
    "s1 = Student_info(\"abc\",'a',20)\n",
    "print(s1.get_name())\n",
    "print(s1.get_grade())\n",
    "print(s1.get_roll_no())\n",
    "\n",
    "s1.__name = \"xyz\"\n",
    "s1.__grade = \"b\"\n",
    "s1.__roll_no =20\n",
    "\n",
    "s1.set_name(\"xyz\")\n",
    "s1.set_grade('a')\n",
    "s1.set_roll_no(30)\n",
    "\n",
    "print(\"after\",s1.get_name())\n",
    "print(\"after\",s1.get_grade())\n",
    "print(\"after\",s1.get_roll_no())"
   ]
  },
  {
   "cell_type": "code",
   "execution_count": 25,
   "metadata": {},
   "outputs": [
    {
     "name": "stdout",
     "output_type": "stream",
     "text": [
      "bhumi\n",
      "b\n",
      "20\n"
     ]
    }
   ],
   "source": [
    "class Student_info:\n",
    "    def __init__(self,name,grade,roll_no):\n",
    "        self._name =name\n",
    "        self._grade =grade\n",
    "        self._roll_no =roll_no\n",
    "    \n",
    "        \n",
    "    @property\n",
    "    def name(self):\n",
    "        return self._name\n",
    "    @name.setter\n",
    "    def name(self,name):\n",
    "        self._name= name\n",
    "        \n",
    "    @property\n",
    "    def grade(self):\n",
    "        return self._grade\n",
    "    @grade.setter\n",
    "    def grade(self,grade):\n",
    "        self._grade=grade\n",
    "    \n",
    "    @property\n",
    "    def roll_no(self):\n",
    "        return self._roll_no\n",
    "    @roll_no.setter\n",
    "    def roll_no(self,roll_no):\n",
    "        self._roll_no=roll_no    \n",
    "        \n",
    "e1 =  Student_info(\"bhumi\",'b',20)   \n",
    "print(e1.name)\n",
    "print(e1.grade)\n",
    "print(e1.roll_no)\n",
    "\n"
   ]
  }
 ],
 "metadata": {
  "kernelspec": {
   "display_name": "Python 3",
   "language": "python",
   "name": "python3"
  },
  "language_info": {
   "codemirror_mode": {
    "name": "ipython",
    "version": 3
   },
   "file_extension": ".py",
   "mimetype": "text/x-python",
   "name": "python",
   "nbconvert_exporter": "python",
   "pygments_lexer": "ipython3",
   "version": "3.12.2"
  }
 },
 "nbformat": 4,
 "nbformat_minor": 2
}
