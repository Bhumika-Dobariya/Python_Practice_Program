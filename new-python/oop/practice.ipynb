{
 "cells": [
  {
   "cell_type": "code",
   "execution_count": null,
   "metadata": {},
   "outputs": [],
   "source": [
    "class employee:\n",
    "    def putdata(self):\n",
    "        self.id = int(input(\"enter employee id\"))\n",
    "        self.name = input(\"enter employee name\")\n",
    "        self.salary = float(input(\"enter employee salary\"))\n",
    "    def display(self):\n",
    "        print(\"employee id\",self.id)\n",
    "        print(\"employee name\",self.name)\n",
    "        print(\"employee salary\",self.salary)\n",
    "        \n",
    "a = employee()\n",
    "a.putdata()\n",
    "a.display()\n",
    "        "
   ]
  },
  {
   "cell_type": "code",
   "execution_count": null,
   "metadata": {},
   "outputs": [],
   "source": [
    "class Student:\n",
    "    def __init__(self,roll_no,name,marks):\n",
    "        self.roll_no = roll_no\n",
    "        self.name = name\n",
    "        self.marks = marks\n",
    "        \n",
    "    def average(self):\n",
    "        return sum(self.marks)/len(self.marks)\n",
    "    \n",
    "a = Student(1,\"bhumi\",[50,60,70,80])\n",
    "print(a.name)\n",
    "print(a.average())"
   ]
  },
  {
   "cell_type": "code",
   "execution_count": null,
   "metadata": {},
   "outputs": [],
   "source": [
    "class Calculator:\n",
    "    def add(self,a,b):\n",
    "        return self.a + self.b\n",
    "    def sub(self,a,b):\n",
    "        return self.a - self.b\n",
    "    def mlti(self,a,b):\n",
    "        return self.a * self.b\n",
    "    def div(self,a,b):\n",
    "        return self.a / self.b\n",
    "c1 = Calculator(a,b)\n",
    "print(c1.add(10,2))\n",
    "print(c1.sub(10,2))\n",
    "print(c1.mlti(10,2))        \n",
    "print(c1.div(10,2)) "
   ]
  }
 ],
 "metadata": {
  "kernelspec": {
   "display_name": "Python 3",
   "language": "python",
   "name": "python3"
  },
  "language_info": {
   "codemirror_mode": {
    "name": "ipython",
    "version": 3
   },
   "file_extension": ".py",
   "mimetype": "text/x-python",
   "name": "python",
   "nbconvert_exporter": "python",
   "pygments_lexer": "ipython3",
   "version": "3.12.2"
  }
 },
 "nbformat": 4,
 "nbformat_minor": 2
}
