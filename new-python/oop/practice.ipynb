{
 "cells": [
  {
   "cell_type": "code",
   "execution_count": null,
   "metadata": {},
   "outputs": [],
   "source": [
    "class employee:\n",
    "    def putdata(self):\n",
    "        self.id = int(input(\"enter employee id\"))\n",
    "        self.name = input(\"enter employee name\")\n",
    "        self.salary = float(input(\"enter employee salary\"))\n",
    "    def display(self):\n",
    "        print(\"employee id\",self.id)\n",
    "        print(\"employee name\",self.name)\n",
    "        print(\"employee salary\",self.salary)\n",
    "        \n",
    "a = employee()\n",
    "a.putdata()\n",
    "a.display()\n",
    "        "
   ]
  },
  {
   "cell_type": "code",
   "execution_count": null,
   "metadata": {},
   "outputs": [],
   "source": [
    "class Student:\n",
    "    def __init__(self,roll_no,name,marks):\n",
    "        self.roll_no = roll_no\n",
    "        self.name = name\n",
    "        self.marks = marks\n",
    "        \n",
    "    def average(self):\n",
    "        return sum(self.marks)/len(self.marks)\n",
    "    \n",
    "a = Student(1,\"bhumi\",[50,60,70,80])\n",
    "print(a.name)\n",
    "print(a.average())"
   ]
  },
  {
   "cell_type": "code",
   "execution_count": null,
   "metadata": {},
   "outputs": [],
   "source": [
    "class Calculator:\n",
    "    def add(self,a,b):\n",
    "        return a + b\n",
    "    def sub(self,a,b):\n",
    "        return a - b\n",
    "    def mlti(self,a,b):\n",
    "        return a * b\n",
    "    def div(self,a,b):\n",
    "        return a / b\n",
    "c1 = Calculator()\n",
    "print(c1.add(10,2))\n",
    "print(c1.sub(10,2))\n",
    "print(c1.mlti(10,2))        \n",
    "print(c1.div(10,2)) "
   ]
  },
  {
   "cell_type": "code",
   "execution_count": null,
   "metadata": {},
   "outputs": [],
   "source": [
    "\"\"\"Create a Python class named Rectangle with attributes length and width. Include a method calculate_area() that returns the area of the rectangle.\"\"\"\n",
    "class Rectangle:\n",
    "    def __init__(self,length,width):\n",
    "        self.length = length\n",
    "        self.width = width\n",
    "        \n",
    "    def calculate_area(self):\n",
    "        return self.length*self.width\n",
    "r1 = Rectangle(5,7)\n",
    "print(r1.calculate_area())\n"
   ]
  },
  {
   "cell_type": "code",
   "execution_count": null,
   "metadata": {},
   "outputs": [],
   "source": [
    "class Employee:\n",
    "    def __init__(self,name,salary,designation):\n",
    "        self.name = name\n",
    "        self.salary =salary\n",
    "        self.designation =designation\n",
    "        \n",
    "    def display_info(self):\n",
    "        print(self.name,self.salary,self.designation)\n",
    "e1 = Employee(\"bhumi\",20000,\"abc\")\n",
    "e1.display_info()"
   ]
  },
  {
   "cell_type": "code",
   "execution_count": null,
   "metadata": {},
   "outputs": [],
   "source": [
    "#Sure, here's an implementation of the Shape base class with a method calculate_area(), along with its subclasses Rectangle, Circle, and Triangle, each implementing its own calculate_area() method:\n",
    "class Shape:\n",
    "    def calculate_area():\n",
    "        pass\n",
    "\n",
    "class Rectangle(Shape):\n",
    "    def __init__(self,length,widgth):\n",
    "         self.length = length\n",
    "         self.widgth = widgth\n",
    "    def calculate_area(self):\n",
    "        return self.length *self.widgth\n",
    "    \n",
    "class Circle(Shape):\n",
    "    def __init__(self, radius):\n",
    "        self.radius = radius\n",
    "    \n",
    "    def calculate_area(self):\n",
    "        return  self.radius ** 2\n",
    "\n",
    "class Triangle(Shape):\n",
    "    def __init__(self, base, height):\n",
    "        self.base = base\n",
    "        self.height = height\n",
    "    \n",
    "    def calculate_area(self):\n",
    "        return 0.5 * self.base * self.height \n",
    "    \n",
    "rectangle = Rectangle(5, 4)\n",
    "print(\"Area of rectangle:\", rectangle.calculate_area()) \n",
    "\n",
    "circle = Circle(3)\n",
    "print(\"Area of circle:\", circle.calculate_area())  \n",
    "\n",
    "triangle = Triangle(6, 4)\n",
    "print(\"Area of triangle:\", triangle.calculate_area())       "
   ]
  },
  {
   "cell_type": "code",
   "execution_count": null,
   "metadata": {},
   "outputs": [],
   "source": [
    "#Implement a base class Animal with methods speak() and move(). Subclass Animal to create specific animals like Dog, Cat, and Bird, each overriding the speak() and move() methods.\n",
    "class Animal:\n",
    "    def speak(self):\n",
    "        pass\n",
    "    def move(self):\n",
    "        pass\n",
    "class Dog(Animal):\n",
    "    def speak(self):\n",
    "        print(\"speak woof\")\n",
    "    def move(self):\n",
    "        print(\"running\")\n",
    "\n",
    "class Cat(Animal):\n",
    "     def speak(self):\n",
    "        print(\"meow meow\")\n",
    "     def move(self):\n",
    "        print(\"walking\")\n",
    "        \n",
    "class Bird(Animal):\n",
    "     def speak(self):\n",
    "        print(\"chi chi\")\n",
    "     def move(self):\n",
    "        print(\"flying\")\n",
    "\n",
    "C1 = Cat()\n",
    "C1.speak()\n",
    "C1.move()\n",
    "\n",
    "b1 =Bird()\n",
    "b1.speak()\n",
    "b1.move()"
   ]
  },
  {
   "cell_type": "code",
   "execution_count": null,
   "metadata": {},
   "outputs": [],
   "source": [
    "\"\"\"Design a class Employee with a method calculate_salary(). Subclass Employee to create specific types of employees like Manager, Developer, and Salesperson, \n",
    "each with its own implementation of calculate_salary().\"\"\"\n",
    "\n",
    "class Employee:\n",
    "    def calculate_salary():\n",
    "        pass\n",
    "class Manager(Employee):\n",
    "    def calculate_salary(self):\n",
    "        return 10000\n",
    "        \n",
    "class Developer(Employee):\n",
    "    def calculate_salary(self):\n",
    "        return 20000 \n",
    "\n",
    "class Sales_person(Employee):\n",
    "    def calculate_salary(self):\n",
    "        return 30000 \n",
    "\n",
    "\n",
    "d1 = Developer()\n",
    "print(d1.calculate_salary())\n",
    "\n",
    "s1 = Sales_person()\n",
    "print(s1.calculate_salary())"
   ]
  },
  {
   "cell_type": "code",
   "execution_count": null,
   "metadata": {},
   "outputs": [],
   "source": [
    "class Vahical:\n",
    "    def start_engine():\n",
    "        pass\n",
    "class Car(Vahical):\n",
    "    def start_engine(self):\n",
    "        print(\"start engine of car\")\n",
    "\n",
    "class Motocycle(Vahical):\n",
    "    def start_engine(self):\n",
    "        print(\"start engine of motor-cycle\")\n",
    "           \n",
    "class Truck(Vahical):\n",
    "    def start_engine(self):\n",
    "        print(\"start engine of truck\") \n",
    "        \n",
    "c1 = Car()\n",
    "c1.start_engine()"
   ]
  },
  {
   "cell_type": "code",
   "execution_count": null,
   "metadata": {},
   "outputs": [],
   "source": [
    "#method overriding\n",
    "\"\"\" Create a Python class Animal with a method make_sound() that prints \"Animal makes a sound\". Then, create a subclass Dog that overrides the make_sound() method to print \"Dog barks\". \n",
    "Create instances of both classes and call the make_sound() method on each instance.\"\"\"\n",
    "class Animal:\n",
    "    def make_sound(self):\n",
    "        print(\"animal make sound\")\n",
    "\n",
    "class Dog(Animal):\n",
    "    def make_sound(self):\n",
    "        print(\"dog barks\")\n",
    "    \n",
    "d1 = Dog()\n",
    "d1.make_sound()"
   ]
  },
  {
   "cell_type": "code",
   "execution_count": null,
   "metadata": {},
   "outputs": [],
   "source": [
    "#method overriding\n",
    "\"\"\"Define a class Shape with a method area() that returns 0. Then, create subclasses Rectangle and Circle that override the area() method to calculate the area of the respective shapes. \n",
    "Test the area() method with instances of both subclasses.\"\"\"\n",
    "\n",
    "class Shape:\n",
    "    def area(self):\n",
    "        return 0\n",
    "\n",
    "class Rectangle:\n",
    "    def __init__(self,length,widgth):\n",
    "        self.length =length\n",
    "        self.widgth =widgth\n",
    "    def area(self):\n",
    "        return self.length*self.widgth\n",
    "    \n",
    "class Circle:\n",
    "    def __init__(self,radius):\n",
    "        self.radius =radius\n",
    "    \n",
    "    def area(self):\n",
    "        return 3.14*self.radius**2   \n",
    "    \n",
    "r1 =Rectangle(5,7)\n",
    "c1 =Circle(2)\n",
    "\n",
    "print(r1.area())\n",
    "print(c1.area() )      "
   ]
  },
  {
   "cell_type": "code",
   "execution_count": null,
   "metadata": {},
   "outputs": [],
   "source": [
    "#method overriding\n",
    "\"\"\"Create a base class Vehicle with a method drive() that prints \"Vehicle is being driven\". Then, create a subclass Car that overrides the drive() method to print \"Car is being driven fast\". \n",
    "Create instances of both classes and call the drive() method on each instance.\"\"\"\n",
    "\n",
    "class Vehicle:\n",
    "    def drive(self):\n",
    "        print(\"Vehicle is being driven\")\n",
    "class Car:\n",
    "    def drive(self):\n",
    "        print(\"car is being driven fast\")    \n",
    "\n",
    "v1 = Vehicle()\n",
    "v1.drive()\n",
    "\n",
    "c1 =Car()\n",
    "c1.drive()   "
   ]
  },
  {
   "cell_type": "code",
   "execution_count": 30,
   "metadata": {},
   "outputs": [
    {
     "name": "stdout",
     "output_type": "stream",
     "text": [
      "10\n",
      "2\n"
     ]
    }
   ],
   "source": [
    "#method overloading\n",
    "\"\"\"Define a Python class Calculator with a method add() that takes either one or two arguments. If one argument is provided, it should return the argument. If two arguments are provided, it should return their sum. \n",
    "Test the add() method with different argument combinations.\"\"\"\n",
    "\n",
    "class Calculator:\n",
    "    def add(self, a, b=None):\n",
    "        if b is None:\n",
    "            return a\n",
    "        else:\n",
    "            return a + b\n",
    "\n",
    "c1 = Calculator()\n",
    "\n",
    "print(c1.add(5, 5))\n",
    "print(c1.add(2))     \n",
    "\n",
    "     "
   ]
  },
  {
   "cell_type": "code",
   "execution_count": 34,
   "metadata": {},
   "outputs": [
    {
     "name": "stdout",
     "output_type": "stream",
     "text": [
      "hello\n",
      "hellobhumi\n"
     ]
    }
   ],
   "source": [
    "\"\"\"Implement a class StringManipulator with a method concat() that concatenates two strings. However, if only one string is provided, the method should return the string as it is. Test the concat() m\n",
    "ethod with different argument types.\"\"\"\n",
    "\n",
    "class Stringmanipulator:\n",
    "    def concat(self,string1,string2=None):\n",
    "        if string2 is None:\n",
    "            return string1\n",
    "        else:\n",
    "            return string1+string2\n",
    "\n",
    "s1 = Stringmanipulator()\n",
    "print(s1.concat(\"hello\"))\n",
    "print(s1.concat(\"hello\",\"bhumi\"))\n",
    "        "
   ]
  },
  {
   "cell_type": "code",
   "execution_count": 39,
   "metadata": {},
   "outputs": [
    {
     "name": "stdout",
     "output_type": "stream",
     "text": [
      "12\n",
      "8\n",
      "20\n",
      "5.0\n"
     ]
    }
   ],
   "source": [
    "\"\"\"Create a class MathOperations with a method calculate() that takes two numbers and an operation symbol ('+', '-', '*', '/') as arguments. Implement method overloading to perform different\n",
    "arithmetic operations based on the symbol provided. Test the calculate() method with different operations.\"\"\"\n",
    "class MathOperator:\n",
    "    def calculate(self,a,b,operation):\n",
    "        if operation ==\"+\":\n",
    "            return a+b\n",
    "        elif operation ==\"-\":\n",
    "            return a-b\n",
    "        elif operation ==\"*\":\n",
    "            return a*b\n",
    "        elif operation ==\"/\":\n",
    "            return a/b\n",
    "        else:\n",
    "            return \"invalid operation\"\n",
    "        \n",
    "c1=MathOperator()\n",
    "print(c1.calculate(10,2,'+'))\n",
    "print(c1.calculate(10,2,'-'))\n",
    "print(c1.calculate(10,2,'*'))\n",
    "print(c1.calculate(10,2,'/'))"
   ]
  },
  {
   "cell_type": "code",
   "execution_count": 52,
   "metadata": {},
   "outputs": [
    {
     "name": "stdout",
     "output_type": "stream",
     "text": [
      "100\n",
      "20\n",
      "1000\n"
     ]
    }
   ],
   "source": [
    "\"\"\"Define a class Vehicle with a method move() that represents the movement of different types of vehicles. Use method overloading to handle different modes of transportation such as cars, \n",
    "bicycles, and airplanes. Each mode of transportation may require different parameters or methods for movement\"\"\"\n",
    "\n",
    "class Vehicle:\n",
    "    def move(self):\n",
    "        pass\n",
    "class Car(Vehicle):\n",
    "    def move(self,speed):\n",
    "        print(speed)\n",
    "    \n",
    "class Bicycle(Vehicle):\n",
    "    def move(self,pedal_speed):\n",
    "        print(pedal_speed)\n",
    "    \n",
    "class Airplain(Vehicle):\n",
    "    def move(self, altitude):\n",
    "        print(altitude)\n",
    "        \n",
    "c1 = Car()\n",
    "b1 = Bicycle()\n",
    "a1 = Airplain()\n",
    "\n",
    "c1.move(100)\n",
    "b1.move(20)\n",
    "a1.move(1000)"
   ]
  },
  {
   "cell_type": "code",
   "execution_count": 54,
   "metadata": {},
   "outputs": [
    {
     "name": "stdout",
     "output_type": "stream",
     "text": [
      "woof woof\n",
      "meow,meow\n",
      "flying\n"
     ]
    }
   ],
   "source": [
    "\"\"\"Create a class Animal with a method sound() that represents the sound made by different animals. Use method overloading to handle different types of animals such as dogs, cats, and birds. Each type of animal may produce different sounds, and the method should\n",
    "return the appropriate sound for each animal.\"\"\"\n",
    "class Animal:\n",
    "    def sound(self):\n",
    "        pass\n",
    "class Dog:\n",
    "    def sound(self):\n",
    "        print(\"woof woof\")\n",
    "        \n",
    "class Cats:\n",
    "    def sound(self):\n",
    "        print(\"meow,meow\")\n",
    "class Birds:\n",
    "    def sound(self):\n",
    "        print(\"tweet\")\n",
    "        \n",
    "d1 =Dog()\n",
    "d1.sound()\n",
    "\n",
    "c1 =Cats()\n",
    "c1.sound()\n",
    "\n",
    "b1 =Birds()\n",
    "b1.sound()"
   ]
  }
 ],
 "metadata": {
  "kernelspec": {
   "display_name": "Python 3",
   "language": "python",
   "name": "python3"
  },
  "language_info": {
   "codemirror_mode": {
    "name": "ipython",
    "version": 3
   },
   "file_extension": ".py",
   "mimetype": "text/x-python",
   "name": "python",
   "nbconvert_exporter": "python",
   "pygments_lexer": "ipython3",
   "version": "3.12.2"
  }
 },
 "nbformat": 4,
 "nbformat_minor": 2
}
