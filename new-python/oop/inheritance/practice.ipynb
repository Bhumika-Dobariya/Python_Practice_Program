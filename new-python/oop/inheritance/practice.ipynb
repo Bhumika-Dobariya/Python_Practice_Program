{
 "cells": [
  {
   "cell_type": "code",
   "execution_count": 23,
   "metadata": {},
   "outputs": [
    {
     "name": "stdout",
     "output_type": "stream",
     "text": [
      "area of rectangle is 35\n",
      "area of circle is 305.2447761824001\n"
     ]
    }
   ],
   "source": [
    "\"\"\"Create a base class Shape with a method area() to calculate the area. Subclass it to create Rectangle and Circle classes, each implementing its own area() method.\"\"\"\n",
    "class Shape:\n",
    "    def area():\n",
    "       pass\n",
    "   \n",
    "class Rectangle(Shape):\n",
    "    def __init__(self,length,widgth):\n",
    "        self.length = length\n",
    "        self.widgth = widgth\n",
    "    def area(self):\n",
    "        return self.length *self.widgth\n",
    "    \n",
    "class Circle(Shape):\n",
    "    def __init__(self,radius):\n",
    "        self.radius = radius\n",
    "    def area(self):\n",
    "        return 3.14**self.radius\n",
    "    \n",
    "r1 = Rectangle(5,7)\n",
    "print(\"area of rectangle is\",r1.area())\n",
    "\n",
    "c1 = Circle(5)\n",
    "print(\"area of circle is\",c1.area())"
   ]
  },
  {
   "cell_type": "code",
   "execution_count": 11,
   "metadata": {},
   "outputs": [
    {
     "name": "stdout",
     "output_type": "stream",
     "text": [
      "abc ab BLACK\n",
      "def abc 2025\n"
     ]
    }
   ],
   "source": [
    "\"\"\"Design a class Vehicle with attributes make and model. Subclass it to create Car and Motorcycle classes, each with additional attributes and methods.\"\"\"\n",
    "class Vehicle:\n",
    "    def __init__(self,make,model):\n",
    "        self.make = make\n",
    "        self.model = model\n",
    "\n",
    "class Car(Vehicle):\n",
    "    def __init__(self,make,model,color):\n",
    "        super().__init__(make,model)\n",
    "        self.color = color\n",
    "  \n",
    "    def print_info(self):\n",
    "        print(self.make,self.model,self.color) \n",
    "\n",
    "class Motorcycle(Vehicle):\n",
    "    def __init__(self,make,model,year):\n",
    "        super().__init__(make,model)\n",
    "        self.year = year\n",
    "       \n",
    "    def print_info(self):\n",
    "        print(self.make,self.model,self.year)      \n",
    "\n",
    "\n",
    "c1 = Car(\"abc\",\"ab\",\"BLACK\")\n",
    "c1.print_info()\n",
    "\n",
    "m1 =Motorcycle(\"def\",\"abc\",2025)\n",
    "m1.print_info()"
   ]
  },
  {
   "cell_type": "code",
   "execution_count": 22,
   "metadata": {},
   "outputs": [
    {
     "name": "stdout",
     "output_type": "stream",
     "text": [
      "name:abs salary : 2000 department a\n",
      "Lbs 12000 B 20\n"
     ]
    }
   ],
   "source": [
    "#Implement a base class Employee with attributes name and salary. Subclass it to create Manager and Developer classes, each with their own methods and attributes.\n",
    "class Employee:\n",
    "    def __init__(self,name,salary):\n",
    "        self.name = name\n",
    "        self.salary =salary\n",
    "        \n",
    "class Manager(Employee):\n",
    "    def __init__(self,name,salary,department):\n",
    "       super(). __init__(name,salary)\n",
    "       self.department = department\n",
    "    \n",
    "    def show(self):\n",
    "        print(f\"name:{self.name} salary : {self.salary} department: {self.department}\")\n",
    "  \n",
    "class Developer(Employee):\n",
    "    def __init__(self,name,salary,department,age):\n",
    "       super(). __init__(name,salary)\n",
    "       self.age = age\n",
    "       self.department = department\n",
    "    \n",
    "    def show(self):\n",
    "        print(self.name,self.salary,self.department,self.age)    \n",
    "    \n",
    "m1 = Manager(\"abs\",2000,\"a\")  \n",
    "m1.show()\n",
    "\n",
    "d1 = Developer(\"Lbs\",12000,\"B\",20)  \n",
    "d1.show()"
   ]
  },
  {
   "cell_type": "code",
   "execution_count": 14,
   "metadata": {},
   "outputs": [
    {
     "name": "stdout",
     "output_type": "stream",
     "text": [
      "color: red, taste :a price :50\n",
      "color: yellow, taste :b price :4\n"
     ]
    }
   ],
   "source": [
    "\"\"\"\n",
    "Certainly! Here's an implementation of the Fruit base class with attributes color and taste, along with its subclasses Apple and Banana\"\"\"\n",
    " \n",
    "class Fruits: \n",
    "    def __init__(self,color,taste):\n",
    "        self.color = color\n",
    "        self.taste = taste \n",
    "class Apple(Fruits):\n",
    "    def __init__(self,color,taste,price):\n",
    "        super() .__init__(color,taste)\n",
    "        self.price = price\n",
    "    def show(self):\n",
    "        print(f\"color: {self.color}, taste :{self.taste} price :{self.price}\")\n",
    "\n",
    "class Banana(Fruits):\n",
    "    def __init__(self,color,taste,quantitiy):\n",
    "        super ().__init__(color,taste)\n",
    "        self.quantity = quantitiy\n",
    "    def show(self):\n",
    "        print(f\"color: {self.color}, taste :{self.taste} price :{self.quantity}\")\n",
    "\n",
    "\n",
    "a1 = Apple(\"red\",\"a\",50)\n",
    "a1.show()\n",
    "\n",
    "b1 = Banana(\"yellow\",\"b\",4)\n",
    "b1.show()"
   ]
  },
  {
   "cell_type": "code",
   "execution_count": 17,
   "metadata": {},
   "outputs": [
    {
     "name": "stdout",
     "output_type": "stream",
     "text": [
      "200\n",
      "60\n",
      "78.5\n",
      "31.400000000000002\n"
     ]
    }
   ],
   "source": [
    "\"\"\"Shape Hierarchy: Define a class Shape with methods area() and perimeter(). Then, create subclasses Rectangle and Circle that inherit from Shape. Implement the area() and perimeter() methods for each subclass to calculate the \n",
    "area and perimeter of rectangles and circles, respectively.\"\"\"\n",
    "\n",
    "class Shape:\n",
    "    def area(self):\n",
    "        pass\n",
    "    def perimeter(self):\n",
    "        pass\n",
    "\n",
    "class Rectangle(Shape):\n",
    "    def __init__(self,length,widgth):\n",
    "        self.length= length\n",
    "        self.widgth = widgth\n",
    "    def area(self):\n",
    "        return self.length*self.widgth\n",
    "    def perimeter(self):\n",
    "        return 2*(self.length+self.widgth)\n",
    "\n",
    "class Circle(Shape):\n",
    "    def __init__(self,radius):\n",
    "        self.radius= radius\n",
    "\n",
    "    def area(self):\n",
    "        return self.radius**2*3.14\n",
    "    def perimeter(self):\n",
    "        return 2*3.14*self.radius\n",
    "r1 = Rectangle(10,20)\n",
    "print(r1.area())\n",
    "print(r1.perimeter())\n",
    "\n",
    "c1 = Circle(5)\n",
    "print(c1.area())\n",
    "print(c1.perimeter())"
   ]
  },
  {
   "cell_type": "code",
   "execution_count": 25,
   "metadata": {},
   "outputs": [
    {
     "name": "stdout",
     "output_type": "stream",
     "text": [
      "model :a make :ab price :2000000\n",
      "start engine of car\n",
      "stop engine of car\n",
      "model :b make :bs year :2025\n",
      "start engine of motorcycle\n",
      "stop engine of motorcycle\n"
     ]
    }
   ],
   "source": [
    "\"\"\"Define a class Vehicle with attributes make and model. Create subclasses Car and Motorcycle that inherit from Vehicle. Implement methods start_engine() and stop_engine() for each subclass to simulate \n",
    "starting and stopping the engine of cars and motorcycles.\"\"\"\n",
    "\n",
    "class Vahicle:\n",
    "    def __init__(self,make,model):\n",
    "        self.make = make\n",
    "        self.model = model\n",
    "\n",
    "class car(Vahicle):\n",
    "    def __init__(self,make,model,price):\n",
    "        super(). __init__(make,model)\n",
    "        self.price =price\n",
    "        \n",
    "    def display(self):\n",
    "        print(f\"model :{self.model} make :{self.make} price :{self.price}\")\n",
    "        \n",
    "    def start_engine (self):\n",
    "        print(\"start engine of car\")\n",
    "        \n",
    "    def stop_engine(self):\n",
    "        print(\"stop engine of car\")\n",
    "    \n",
    "class motorcycle(Vahicle):\n",
    "    def __init__(self,make,model,year):\n",
    "        super(). __init__(make,model)\n",
    "        self.year = year\n",
    "        \n",
    "    def display(self):\n",
    "        print(f\"model :{self.model} make :{self.make} year :{self.year}\")\n",
    "        \n",
    "    def start_engine (self):\n",
    "        print(\"start engine of motorcycle\")\n",
    "        \n",
    "    def stop_engine(self):\n",
    "        print(\"stop engine of motorcycle\")\n",
    "\n",
    "c1 = car(\"ab\",\"a\",2000000)\n",
    "c1.display()\n",
    "c1.start_engine()\n",
    "c1.stop_engine()\n",
    "\n",
    "m1 = motorcycle(\"bs\",\"b\",2025)\n",
    "m1.display()\n",
    "m1.start_engine()\n",
    "m1.stop_engine()"
   ]
  }
 ],
 "metadata": {
  "kernelspec": {
   "display_name": "Python 3",
   "language": "python",
   "name": "python3"
  },
  "language_info": {
   "codemirror_mode": {
    "name": "ipython",
    "version": 3
   },
   "file_extension": ".py",
   "mimetype": "text/x-python",
   "name": "python",
   "nbconvert_exporter": "python",
   "pygments_lexer": "ipython3",
   "version": "3.12.2"
  }
 },
 "nbformat": 4,
 "nbformat_minor": 2
}
