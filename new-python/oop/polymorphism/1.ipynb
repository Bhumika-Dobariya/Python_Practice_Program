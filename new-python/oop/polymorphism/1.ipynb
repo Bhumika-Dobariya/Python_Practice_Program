{
 "cells": [
  {
   "cell_type": "code",
   "execution_count": 1,
   "metadata": {},
   "outputs": [
    {
     "name": "stdout",
     "output_type": "stream",
     "text": [
      "3\n",
      "10\n"
     ]
    }
   ],
   "source": [
    "students = ['Emma', 'Jessa', 'Kelly']\n",
    "school = 'ABC School'\n",
    "\n",
    "# calculate count\n",
    "print(len(students))\n",
    "print(len(school))"
   ]
  },
  {
   "cell_type": "code",
   "execution_count": 3,
   "metadata": {},
   "outputs": [
    {
     "name": "stdout",
     "output_type": "stream",
     "text": [
      "15\n"
     ]
    }
   ],
   "source": [
    "#method overloading\n",
    "def addition(a, b):\n",
    "    c = a + b\n",
    "    print(c)\n",
    "\n",
    "def addition(a, b, c):\n",
    "    d = a + b + c\n",
    "    print(d)\n",
    "    \n",
    "addition(3, 7, 5) "
   ]
  },
  {
   "cell_type": "code",
   "execution_count": null,
   "metadata": {},
   "outputs": [],
   "source": [
    "#method overloading\n",
    "class Shape:\n",
    "    def area(self, a, b=0):\n",
    "        if b > 0:\n",
    "            print('Area of Rectangle is:', a * b)\n",
    "        else:\n",
    "            print('Area of Square is:', a ** 2)\n",
    "\n",
    "square = Shape()\n",
    "square.area(5)\n",
    "\n",
    "rectangle = Shape()\n",
    "rectangle.area(5, 3)"
   ]
  },
  {
   "cell_type": "code",
   "execution_count": 4,
   "metadata": {},
   "outputs": [
    {
     "name": "stdout",
     "output_type": "stream",
     "text": [
      "300\n",
      "JessRoy\n",
      "[10, 20, 30, 'jessa', 'emma', 'kelly']\n"
     ]
    }
   ],
   "source": [
    "#operator overloading\n",
    "print(100 + 200)\n",
    "\n",
    "print('Jess' + 'Roy')\n",
    "\n",
    "print([10, 20, 30] + ['jessa', 'emma', 'kelly'])"
   ]
  },
  {
   "cell_type": "code",
   "execution_count": 5,
   "metadata": {},
   "outputs": [
    {
     "name": "stdout",
     "output_type": "stream",
     "text": [
      "Total number of pages:  700\n"
     ]
    }
   ],
   "source": [
    "#operator overloading\n",
    "class Book:\n",
    "    def __init__(self, pages):\n",
    "        self.pages = pages\n",
    "\n",
    "    # Overloading + operator with magic method\n",
    "    def __add__(self, other):\n",
    "        return self.pages + other.pages\n",
    "\n",
    "b1 = Book(400)\n",
    "b2 = Book(300)\n",
    "print(\"Total number of pages: \", b1 + b2)"
   ]
  },
  {
   "cell_type": "code",
   "execution_count": 6,
   "metadata": {},
   "outputs": [
    {
     "name": "stdout",
     "output_type": "stream",
     "text": [
      "Woof!\n",
      "Meow!\n"
     ]
    }
   ],
   "source": [
    "#method overridding\n",
    "class Animal:\n",
    "    def sound(self):\n",
    "        return \"Generic animal sound\"\n",
    "\n",
    "class Dog(Animal):\n",
    "    def sound(self):\n",
    "        return \"Woof!\"\n",
    "\n",
    "class Cat(Animal):\n",
    "    def sound(self):\n",
    "        return \"Meow!\"\n",
    "\n",
    "dog = Dog()\n",
    "cat = Cat()\n",
    "\n",
    "print(dog.sound())  \n",
    "print(cat.sound())"
   ]
  }
 ],
 "metadata": {
  "kernelspec": {
   "display_name": "Python 3",
   "language": "python",
   "name": "python3"
  },
  "language_info": {
   "codemirror_mode": {
    "name": "ipython",
    "version": 3
   },
   "file_extension": ".py",
   "mimetype": "text/x-python",
   "name": "python",
   "nbconvert_exporter": "python",
   "pygments_lexer": "ipython3",
   "version": "3.12.2"
  }
 },
 "nbformat": 4,
 "nbformat_minor": 2
}
