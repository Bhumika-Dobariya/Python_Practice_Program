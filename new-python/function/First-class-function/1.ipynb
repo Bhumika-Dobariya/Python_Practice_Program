{
 "cells": [
  {
   "cell_type": "code",
   "execution_count": 1,
   "metadata": {},
   "outputs": [
    {
     "name": "stdout",
     "output_type": "stream",
     "text": [
      "46\n"
     ]
    }
   ],
   "source": [
    "def Additions(x,y):\n",
    "    return x+y\n",
    "def example(func, a,b):\n",
    "    var = func(a,b)\n",
    "    return var\n",
    "print(example(Additions,12,34))"
   ]
  },
  {
   "cell_type": "code",
   "execution_count": 2,
   "metadata": {},
   "outputs": [
    {
     "name": "stdout",
     "output_type": "stream",
     "text": [
      "HELLO\n",
      "WELCOME\n"
     ]
    }
   ],
   "source": [
    "#functions are object\n",
    "def abc(txt):\n",
    "    return txt.upper()\n",
    "print((abc(\"hello\")))\n",
    "xyz = abc\n",
    "print(xyz(\"welcome\"))"
   ]
  },
  {
   "cell_type": "code",
   "execution_count": 1,
   "metadata": {},
   "outputs": [
    {
     "name": "stdout",
     "output_type": "stream",
     "text": [
      "MY NAME IS BHUMI\n",
      "my name is bhumi\n"
     ]
    }
   ],
   "source": [
    "#function can be pass argument to other function\n",
    "def fun1(text):\n",
    "    return text.upper()\n",
    "def fun2(text):\n",
    "    return text.lower()\n",
    "def fun3(f):\n",
    "    c = f(\"my name is bhumi\")\n",
    "    print(c)\n",
    "fun3(fun1)\n",
    "fun3(fun2)\n",
    "     "
   ]
  },
  {
   "cell_type": "code",
   "execution_count": 3,
   "metadata": {},
   "outputs": [
    {
     "name": "stdout",
     "output_type": "stream",
     "text": [
      "15\n"
     ]
    }
   ],
   "source": [
    "#function can return another function\n",
    "def fun1(x):\n",
    "    def fun2(y):\n",
    "        return x+y\n",
    "    return fun2\n",
    "a= fun1(10)\n",
    "print(a(5))\n",
    "        "
   ]
  }
 ],
 "metadata": {
  "kernelspec": {
   "display_name": "Python 3",
   "language": "python",
   "name": "python3"
  },
  "language_info": {
   "codemirror_mode": {
    "name": "ipython",
    "version": 3
   },
   "file_extension": ".py",
   "mimetype": "text/x-python",
   "name": "python",
   "nbconvert_exporter": "python",
   "pygments_lexer": "ipython3",
   "version": "3.12.2"
  }
 },
 "nbformat": 4,
 "nbformat_minor": 2
}
