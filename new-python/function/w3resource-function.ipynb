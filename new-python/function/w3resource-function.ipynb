{
 "cells": [
  {
   "cell_type": "code",
   "execution_count": 2,
   "metadata": {},
   "outputs": [
    {
     "name": "stdout",
     "output_type": "stream",
     "text": [
      "15\n"
     ]
    }
   ],
   "source": [
    "# find the maximum of three numbers.\n",
    "def find_maximum(a,b,c):\n",
    "    if(a>b and a>c):\n",
    "        return a\n",
    "    elif(b>a and b>c):\n",
    "        return b\n",
    "    else:\n",
    "        return c\n",
    "print(find_maximum(15,10,2))"
   ]
  },
  {
   "cell_type": "code",
   "execution_count": 17,
   "metadata": {},
   "outputs": [
    {
     "name": "stdout",
     "output_type": "stream",
     "text": [
      "20\n"
     ]
    }
   ],
   "source": [
    "#sum all the numbers in a list.\n",
    "def Sum(list):\n",
    "    sum_list = 0\n",
    "    for  i in list:\n",
    "        sum_list +=i\n",
    "    return sum_list\n",
    "list = (8,2,3,0,7)\n",
    "print(Sum(list))\n"
   ]
  },
  {
   "cell_type": "code",
   "execution_count": 29,
   "metadata": {},
   "outputs": [
    {
     "name": "stdout",
     "output_type": "stream",
     "text": [
      "-336\n"
     ]
    }
   ],
   "source": [
    "#multiply all the numbers in a list\n",
    "def Mltiply(list):\n",
    "    mltiply_list = 1\n",
    "    for  i in list:\n",
    "        mltiply_list = mltiply_list*i\n",
    "    return mltiply_list\n",
    "list = (8,2,3,-1,7)\n",
    "print(Mltiply(list))"
   ]
  },
  {
   "cell_type": "code",
   "execution_count": 30,
   "metadata": {},
   "outputs": [
    {
     "name": "stdout",
     "output_type": "stream",
     "text": [
      "dcba4321\n"
     ]
    }
   ],
   "source": [
    "# reverse a string\n",
    "def Reverse(String):\n",
    "    r_string = String[::-1]\n",
    "    return r_string\n",
    "String =\"1234abcd\"\n",
    "print(Reverse(String))"
   ]
  },
  {
   "cell_type": "code",
   "execution_count": 31,
   "metadata": {},
   "outputs": [
    {
     "name": "stdout",
     "output_type": "stream",
     "text": [
      "120\n"
     ]
    }
   ],
   "source": [
    "def Factorial(n):\n",
    "    Factorial = 1\n",
    "    for i in range(1,n+1):\n",
    "        Factorial = Factorial*i\n",
    "    return Factorial\n",
    "n = int(input(\"enter number\"))\n",
    "print(Factorial(n))\n",
    "    "
   ]
  },
  {
   "cell_type": "code",
   "execution_count": 38,
   "metadata": {},
   "outputs": [
    {
     "name": "stdout",
     "output_type": "stream",
     "text": [
      "number is absent\n",
      "None\n"
     ]
    }
   ],
   "source": [
    "def Number_range(n):\n",
    "    for i in range(1,n+1):\n",
    "        if i==15:\n",
    "            print(\"number is present\")\n",
    "            break\n",
    "    else:\n",
    "        print(\"number is absent\")\n",
    "n = int(input(\"enter number\"))\n",
    "print(Number_range(n))"
   ]
  },
  {
   "cell_type": "code",
   "execution_count": 56,
   "metadata": {},
   "outputs": [
    {
     "name": "stdout",
     "output_type": "stream",
     "text": [
      "No. of Upper case characters: 3\n",
      "No. of Lower case Characters: 12\n",
      "None\n"
     ]
    }
   ],
   "source": [
    "def Count_String(String):\n",
    "    Lower_case =0\n",
    "    Upper_case =0\n",
    "    for i in String:\n",
    "        if i.islower():\n",
    "            Lower_case+=1\n",
    "        elif i.isupper():\n",
    "            Upper_case +=1\n",
    "        else:\n",
    "           pass\n",
    "    print(\"No. of Upper case characters:\", Upper_case)\n",
    "    print(\"No. of Lower case Characters:\", Lower_case )\n",
    "String = 'The quick Brow Fox'\n",
    "print(Count_String(String))\n"
   ]
  },
  {
   "cell_type": "code",
   "execution_count": 60,
   "metadata": {},
   "outputs": [
    {
     "name": "stdout",
     "output_type": "stream",
     "text": [
      "[1, 2, 3, 4, 5]\n"
     ]
    }
   ],
   "source": [
    "#function that takes a list and returns a new list with distinct elements from the first list\n",
    "def new_list(List):\n",
    "    list1 = []\n",
    "    for i in List:\n",
    "        if i not in list1:\n",
    "            list1.append(i)\n",
    "    return list1\n",
    "       \n",
    "List = [1,2,3,3,3,3,4,5]\n",
    "result =new_list(List)\n",
    "print(result)"
   ]
  },
  {
   "cell_type": "code",
   "execution_count": 71,
   "metadata": {},
   "outputs": [
    {
     "name": "stdout",
     "output_type": "stream",
     "text": [
      "True\n"
     ]
    }
   ],
   "source": [
    "#checks whether the number is prime or not.\n",
    "def Prime(n):\n",
    "    if n==1 :\n",
    "        return False\n",
    "    elif n==2:\n",
    "        return True\n",
    "    else:\n",
    "        for i in range(2,n):\n",
    "          if(n%i==0):\n",
    "              return False\n",
    "        return True\n",
    "print(Prime(3))        \n",
    "    \n",
    "    \n",
    "    "
   ]
  },
  {
   "cell_type": "code",
   "execution_count": 79,
   "metadata": {},
   "outputs": [
    {
     "name": "stdout",
     "output_type": "stream",
     "text": [
      "[2, 4, 6, 8]\n"
     ]
    }
   ],
   "source": [
    "#print the even numbers from a given list.\n",
    "def Even_list(List):\n",
    "    list1 =[]\n",
    "    for i in List:\n",
    "        if(i%2==0):\n",
    "            list1.append(i)\n",
    "    return list1\n",
    "List = [1, 2, 3, 4, 5, 6, 7, 8, 9]\n",
    "print(Even_list(List))"
   ]
  },
  {
   "cell_type": "code",
   "execution_count": 82,
   "metadata": {},
   "outputs": [
    {
     "name": "stdout",
     "output_type": "stream",
     "text": [
      "False\n"
     ]
    }
   ],
   "source": [
    "# string is a palindrome or not.\n",
    "def Check_palindrone(string):\n",
    "    result = string[::-1]\n",
    "    if(string == result):\n",
    "        return True\n",
    "    else:\n",
    "        return False\n",
    "\n",
    "string = \"acba\"\n",
    "print(Check_palindrone(string))"
   ]
  },
  {
   "cell_type": "code",
   "execution_count": 87,
   "metadata": {},
   "outputs": [
    {
     "name": "stdout",
     "output_type": "stream",
     "text": [
      "black-green -red-white\n"
     ]
    }
   ],
   "source": [
    "# accepts a hyphen-separated sequence of words as input and prints the words in a hyphen-separated sequence after sorting them alphabetically.\n",
    "items = [n for n in input().split('-')]\n",
    "\n",
    "items.sort()\n",
    "\n",
    "print('-'.join(items)) "
   ]
  },
  {
   "cell_type": "code",
   "execution_count": 91,
   "metadata": {},
   "outputs": [
    {
     "name": "stdout",
     "output_type": "stream",
     "text": [
      "[1, 4, 9, 16, 25, 36, 49, 64, 81, 100, 121, 144, 169, 196, 225, 256, 289, 324, 361, 400, 441, 484, 529, 576, 625, 676, 729, 784, 841, 900]\n"
     ]
    }
   ],
   "source": [
    "def Square(n):\n",
    "    list =  []\n",
    "    for i in range(1,n+1):\n",
    "        a = i*i\n",
    "        list.append(a)\n",
    "    return list\n",
    "print(Square(30))"
   ]
  },
  {
   "cell_type": "code",
   "execution_count": 92,
   "metadata": {},
   "outputs": [
    {
     "name": "stdout",
     "output_type": "stream",
     "text": [
      "this is outer function\n",
      "this is innner function\n"
     ]
    }
   ],
   "source": [
    "def outer_function():\n",
    "    def inner_function():\n",
    "        print(\"this is innner function\")\n",
    "    print(\"this is outer function\")\n",
    "    inner_function()\n",
    "outer_function()"
   ]
  },
  {
   "cell_type": "code",
   "execution_count": 103,
   "metadata": {},
   "outputs": [
    {
     "name": "stdout",
     "output_type": "stream",
     "text": [
      "11\n"
     ]
    }
   ],
   "source": [
    "#detect the number of local variables declared in a function.\n",
    "def text(n):\n",
    "    def add(b):\n",
    "        nonlocal n\n",
    "        n+=1\n",
    "        return n+b\n",
    "    return add\n",
    "a = text(5)\n",
    "print(a)\n"
   ]
  }
 ],
 "metadata": {
  "kernelspec": {
   "display_name": "Python 3",
   "language": "python",
   "name": "python3"
  },
  "language_info": {
   "codemirror_mode": {
    "name": "ipython",
    "version": 3
   },
   "file_extension": ".py",
   "mimetype": "text/x-python",
   "name": "python",
   "nbconvert_exporter": "python",
   "pygments_lexer": "ipython3",
   "version": "3.12.2"
  }
 },
 "nbformat": 4,
 "nbformat_minor": 2
}
