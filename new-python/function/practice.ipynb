{
 "cells": [
  {
   "cell_type": "code",
   "execution_count": 2,
   "metadata": {},
   "outputs": [
    {
     "name": "stdout",
     "output_type": "stream",
     "text": [
      "max is 15\n"
     ]
    }
   ],
   "source": [
    "#max\n",
    "def max(a,b,c):\n",
    "    if(a>b and a>c):\n",
    "        return a\n",
    "    if(b>a and b>c):\n",
    "        return b\n",
    "    if(c>a and c>b):\n",
    "        return c\n",
    "a = max(8,15,9)\n",
    "print(\"max is\",a)\n"
   ]
  },
  {
   "cell_type": "code",
   "execution_count": 32,
   "metadata": {},
   "outputs": [
    {
     "data": {
      "text/plain": [
       "'even'"
      ]
     },
     "execution_count": 32,
     "metadata": {},
     "output_type": "execute_result"
    }
   ],
   "source": [
    "#even, odd\n",
    "def even(num):\n",
    "    if (num%2==0):\n",
    "        return \"even\"\n",
    "    else:\n",
    "        return \"odd\"\n",
    "a = int(input(\"Enter a number \"))\n",
    "even(a)"
   ]
  },
  {
   "cell_type": "code",
   "execution_count": 2,
   "metadata": {},
   "outputs": [
    {
     "name": "stdout",
     "output_type": "stream",
     "text": [
      "20\n"
     ]
    }
   ],
   "source": [
    "#sum of the list numbers\n",
    "def sum(numbers):\n",
    "    sum =0\n",
    "    for x in numbers:\n",
    "        sum= sum+x\n",
    "    return sum\n",
    "print(sum((8,2,3,0,7)))\n"
   ]
  },
  {
   "cell_type": "code",
   "execution_count": 34,
   "metadata": {},
   "outputs": [
    {
     "name": "stdout",
     "output_type": "stream",
     "text": [
      "area of circle is 12.56\n"
     ]
    }
   ],
   "source": [
    "#area of circle\n",
    "def areaofcircle(r):\n",
    "    pie = 3.14\n",
    "    a = pie*r*r\n",
    "    return a\n",
    "c = areaofcircle(2)\n",
    "print(\"area of circle is\",c)"
   ]
  },
  {
   "cell_type": "code",
   "execution_count": 35,
   "metadata": {},
   "outputs": [
    {
     "name": "stdout",
     "output_type": "stream",
     "text": [
      "count the vowels is 3\n",
      "count the constant is 7\n"
     ]
    }
   ],
   "source": [
    "#count vowel constant\n",
    "def count(val):\n",
    "    vov=0\n",
    "    con=0\n",
    "    for i in range(len(val)):\n",
    "        if val[i] in ['a','e','i','o','u']:\n",
    "            vov = vov+1\n",
    "        else:\n",
    "            con = con+1\n",
    "    print(\"count the vowels is\",vov)\n",
    "    print(\"count the constant is\",con)\n",
    "x = input(\"Enter Value: \")\n",
    "count(x)"
   ]
  },
  {
   "cell_type": "code",
   "execution_count": 4,
   "metadata": {},
   "outputs": [
    {
     "name": "stdout",
     "output_type": "stream",
     "text": [
      "-336\n"
     ]
    }
   ],
   "source": [
    "#mltiplication of the list numbers\n",
    "def mlti(numbers):\n",
    "    mlti = 1\n",
    "    for x in numbers:\n",
    "        mlti = mlti*x\n",
    "    return mlti\n",
    "print(mlti((8,2,3,-1,7)))"
   ]
  },
  {
   "cell_type": "code",
   "execution_count": 7,
   "metadata": {},
   "outputs": [
    {
     "name": "stdout",
     "output_type": "stream",
     "text": [
      "dcba4321\n"
     ]
    }
   ],
   "source": [
    "#reverse string\n",
    "def reverse(string):\n",
    "    string = string[::-1]\n",
    "    return string\n",
    "a = \"1234abcd\"\n",
    "print(reverse(a))"
   ]
  },
  {
   "cell_type": "code",
   "execution_count": 5,
   "metadata": {},
   "outputs": [
    {
     "name": "stdout",
     "output_type": "stream",
     "text": [
      "sum of {a} and {b} is 10\n"
     ]
    }
   ],
   "source": [
    "#sum\n",
    "def sum(a,b):\n",
    "    return a+b\n",
    "add = sum(5,5)\n",
    "print (\"sum of {a} and {b} is\",add)"
   ]
  },
  {
   "cell_type": "code",
   "execution_count": 9,
   "metadata": {},
   "outputs": [
    {
     "name": "stdout",
     "output_type": "stream",
     "text": [
      "['Apple', 'Bannana', 'Grapes', 'Orange']\n"
     ]
    }
   ],
   "source": [
    "#accepts different values as parameters and returns a list\n",
    "def myFruits(f1,f2,f3,f4):\n",
    "    fruitlist = [f1,f2,f3,f4]\n",
    "    return fruitlist\n",
    "result = myFruits(\"Apple\",\"Bannana\",\"Grapes\",\"Orange\")\n",
    "print (result)"
   ]
  },
  {
   "cell_type": "code",
   "execution_count": 10,
   "metadata": {},
   "outputs": [
    {
     "name": "stdout",
     "output_type": "stream",
     "text": [
      "{'kitten': 'cat', 'puppy': 'dog', 'pup': 'minni'}\n"
     ]
    }
   ],
   "source": [
    "#Python function that returns a dictionary\n",
    "def myAnimal(a1,a2,a3):\n",
    "    animalgroup ={\"kitten\":a1,'puppy':a2,'pup':a3}\n",
    "    return animalgroup\n",
    "output = myAnimal(\"cat\",'dog','minni')\n",
    "print(output)"
   ]
  },
  {
   "cell_type": "code",
   "execution_count": null,
   "metadata": {},
   "outputs": [],
   "source": [
    "#Python function that returns a tuple\n",
    "def myVeggies(v1,v2,v3):\n",
    "    vegtuple = (v1,v2,v3)\n",
    "    return vegtuple\n",
    "\n",
    "output = myVeggies(\"Carrot\",\"Potato\",\"Tomato\")\n",
    "print(output)"
   ]
  },
  {
   "cell_type": "code",
   "execution_count": 11,
   "metadata": {},
   "outputs": [
    {
     "name": "stdout",
     "output_type": "stream",
     "text": [
      "Dairy Milk\n",
      "Snickers\n",
      "Kitkat\n"
     ]
    }
   ],
   "source": [
    "#Python function that accepts a list as a parameter\n",
    "def myChoclate(clist):\n",
    "    for i in clist:\n",
    "        print(i)\n",
    "chocalatelist = [\"Dairy Milk\",\"Snickers\",\"Kitkat\"]\n",
    "myChoclate(chocalatelist)"
   ]
  },
  {
   "cell_type": "code",
   "execution_count": 13,
   "metadata": {},
   "outputs": [
    {
     "name": "stdout",
     "output_type": "stream",
     "text": [
      "2023 2 14\n"
     ]
    }
   ],
   "source": [
    "def Calendar(year,month,date=''):\n",
    "    print(year,month,date)\n",
    "    \n",
    "Calendar(2023,2,14)"
   ]
  },
  {
   "cell_type": "code",
   "execution_count": 16,
   "metadata": {},
   "outputs": [
    {
     "name": "stdout",
     "output_type": "stream",
     "text": [
      "3 is a palindrome number\n"
     ]
    }
   ],
   "source": [
    "#palindrom number\n",
    "def palindromcheck(num):\n",
    "    temp=num\n",
    "    rev=0\n",
    "    while(num!=0):\n",
    "      rev = rev*10+num%10\n",
    "      num= num//10\n",
    "    if(rev == temp):\n",
    "        print(temp, \"is a palindrome number\")\n",
    "    else:\n",
    "        print(temp, \"is not a palindrome number\")\n",
    "palindromcheck(3)\n",
    "    "
   ]
  },
  {
   "cell_type": "code",
   "execution_count": 25,
   "metadata": {},
   "outputs": [
    {
     "name": "stdout",
     "output_type": "stream",
     "text": [
      "The factorial is 120\n"
     ]
    }
   ],
   "source": [
    "#factorial\n",
    "def factorial(n):\n",
    "    fact = 1\n",
    "    while(n!=0):\n",
    "        fact = fact*n\n",
    "        n = n-1\n",
    "    print(\"The factorial is\",fact)\n",
    "        \n",
    "inputNumber = int(input(\"Enter the number: \"))\n",
    "factorial(inputNumber)"
   ]
  },
  {
   "cell_type": "code",
   "execution_count": 27,
   "metadata": {},
   "outputs": [
    {
     "data": {
      "text/plain": [
       "'present'"
      ]
     },
     "execution_count": 27,
     "metadata": {},
     "output_type": "execute_result"
    }
   ],
   "source": [
    "#Define a function that accepts roll number and returns whether the student is present or absent.\n",
    "def student(alist):\n",
    "    list=[2,10,15,14]\n",
    "    if alist in list:\n",
    "        return \"present\"\n",
    "    else:\n",
    "        return \"absent\"\n",
    "alist = int(input(\"Enter roll no. \")) \n",
    "student(alist)   \n",
    "        "
   ]
  }
 ],
 "metadata": {
  "kernelspec": {
   "display_name": "Python 3",
   "language": "python",
   "name": "python3"
  },
  "language_info": {
   "codemirror_mode": {
    "name": "ipython",
    "version": 3
   },
   "file_extension": ".py",
   "mimetype": "text/x-python",
   "name": "python",
   "nbconvert_exporter": "python",
   "pygments_lexer": "ipython3",
   "version": "3.12.2"
  }
 },
 "nbformat": 4,
 "nbformat_minor": 2
}
