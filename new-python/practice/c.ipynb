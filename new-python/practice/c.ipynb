{
 "cells": [
  {
   "cell_type": "code",
   "execution_count": null,
   "metadata": {},
   "outputs": [],
   "source": [
    "input_list1 = input().split(\",\")\n",
    "input_list2 = input().split(\",\")\n",
    "\n",
    "list1 =[]\n",
    "list2 =[]\n",
    "\n",
    "for i in input_list1:\n",
    "    a= int(i)\n",
    "    list1.append(a)\n",
    "print(\"list1\",list1)\n",
    "\n",
    "for i in input_list2:\n",
    "    a= int(i)\n",
    "    list2.append(a)\n",
    "print(\"list2\",list2)\n",
    "\n",
    "#conconate two list\n",
    "new_list= list1+list2\n",
    "print(\"conconate two list\",new_list)\n",
    "\n",
    "#ascending order\n",
    "new_list.sort()\n",
    "print(\"ascending order\",new_list)\n",
    "\n",
    "set1= set(new_list)\n",
    "print(\"remove duplicate\",list(set1))\n",
    "\n"
   ]
  },
  {
   "cell_type": "code",
   "execution_count": null,
   "metadata": {},
   "outputs": [],
   "source": [
    "\"\"\"write a function that takes a list of integers as input and returns a new list containing only the even numbers from the original list, sorted in descending order\"\"\"\n",
    "def function(list3):\n",
    "    list2=[]\n",
    "    for i in list3:\n",
    "        if (i%2==0):\n",
    "            list2.append(i)        \n",
    "    a = sorted(list2)\n",
    "    return a[::-1]\n",
    "    \n",
    "input_list= input().split(\",\")\n",
    "list3=[]\n",
    "for num in input_list:\n",
    "    b=int(num)\n",
    "    list3.append(b)\n",
    "a=function(list3)\n",
    "print(a)"
   ]
  },
  {
   "cell_type": "code",
   "execution_count": null,
   "metadata": {},
   "outputs": [],
   "source": [
    "list1 = []\n",
    "for i in range(1,11):\n",
    "    if(i%3==0):\n",
    "        square =i*i\n",
    "        list1.append(square)\n",
    "print(list1)"
   ]
  },
  {
   "cell_type": "code",
   "execution_count": null,
   "metadata": {},
   "outputs": [],
   "source": [
    "#given a list of strings, write a Python function to sort the strings based on their lengths, from shortest to longest.\n",
    "def Sorting(lst):\n",
    "    lst2 = sorted(lst, key=len)\n",
    "    return lst2\n",
    "lst = [\"rohan\", \"amy\", \"sa\", \"muhammad\", \"aakash\", \"raunak\", \"chinmoy\"]\n",
    "print(Sorting(lst))"
   ]
  },
  {
   "cell_type": "code",
   "execution_count": null,
   "metadata": {},
   "outputs": [],
   "source": [
    "\"\"\"You are given a list of numbers. Write a Python function to find the largest and smallest numbers in the list and return them as a tuple (smallest, largest)\"\"\"\n",
    "def numbers(list1):\n",
    "    \n",
    "    list_max=list1[0]\n",
    "    list_min=list1[0]\n",
    "    \n",
    "    for i in list1:\n",
    "        if(i>list_max):\n",
    "            list_max=i\n",
    "        elif(i<list_min):\n",
    "            list_min=i\n",
    "    return list_max,list_min\n",
    "    \n",
    "list1= [2,5,7,1,9]\n",
    "a = numbers(list1)\n",
    "print(a)"
   ]
  },
  {
   "cell_type": "code",
   "execution_count": null,
   "metadata": {},
   "outputs": [],
   "source": [
    "#use append method\n",
    "list1 = [1,2,3,4,5,6,7]\n",
    "list1.append(9)\n",
    "\n",
    "#use extend method\n",
    "print(list1)\n",
    "list1.extend([10,11,12])\n",
    "print(list1)\n"
   ]
  },
  {
   "cell_type": "code",
   "execution_count": null,
   "metadata": {},
   "outputs": [],
   "source": [
    "#use of remove,pop and del method\n",
    "list1 = [1,2,3,4,5,6,7]\n",
    "list1.remove(6)\n",
    "list1.pop()\n",
    "del list1\n",
    "print(list1)"
   ]
  },
  {
   "cell_type": "code",
   "execution_count": null,
   "metadata": {},
   "outputs": [],
   "source": [
    "#Explain the difference between shallow copy and deep copy of a list in Python. When might you use one over the other?\n",
    "import copy\n",
    "\n",
    "original_list = [[1, 2, 3], [4, 5, 6]]\n",
    "\n",
    "shallow_copy = copy.copy(original_list)\n",
    "\n",
    "deep_copy = copy.deepcopy(original_list)\n",
    "\n",
    "shallow_copy[0][0] = 10\n",
    "\n",
    "deep_copy[1][1] = 50\n",
    "\n",
    "print(\"Original List:\", original_list)  \n",
    "print(\"Shallow Copy:\", shallow_copy)  #dont change \n",
    "print(\"Deep Copy:\", deep_copy)      #change   \n"
   ]
  },
  {
   "cell_type": "code",
   "execution_count": null,
   "metadata": {},
   "outputs": [],
   "source": [
    "#Write a Python function to count the number of vowels in a given string.\n",
    "def count_vowels(n):\n",
    "    count=0\n",
    "    vowels='aeiou'\n",
    "    for char in n:\n",
    "        if char in vowels:\n",
    "            count+=1\n",
    "    return count\n",
    "n = input(\"enter your string\")\n",
    "a= count_vowels(n)\n",
    "print(a)"
   ]
  },
  {
   "cell_type": "code",
   "execution_count": null,
   "metadata": {},
   "outputs": [],
   "source": [
    "#mplement a function to check if a given string is a palindrome (reads the same backward as forward).\n",
    "def palindrone(n):\n",
    "    if n==n[::-1]:\n",
    "        return True\n",
    "    else:\n",
    "        return False\n",
    "    \n",
    "n = input(\"enter string\")\n",
    "a=palindrone(n)\n",
    "print(a)\n",
    "    "
   ]
  },
  {
   "cell_type": "code",
   "execution_count": 3,
   "metadata": {},
   "outputs": [
    {
     "name": "stdout",
     "output_type": "stream",
     "text": [
      "Bhumi Dobariya\n"
     ]
    }
   ],
   "source": [
    "#Implement a function to capitalize the first letter of each word in a given sentence.\n",
    "\n",
    "def capitalised(n):\n",
    "    return n.title()\n",
    "n= input(\"enter string\")\n",
    "result = capitalised(n)\n",
    "print(result)"
   ]
  }
 ],
 "metadata": {
  "kernelspec": {
   "display_name": "Python 3",
   "language": "python",
   "name": "python3"
  },
  "language_info": {
   "codemirror_mode": {
    "name": "ipython",
    "version": 3
   },
   "file_extension": ".py",
   "mimetype": "text/x-python",
   "name": "python",
   "nbconvert_exporter": "python",
   "pygments_lexer": "ipython3",
   "version": "3.12.2"
  }
 },
 "nbformat": 4,
 "nbformat_minor": 2
}
