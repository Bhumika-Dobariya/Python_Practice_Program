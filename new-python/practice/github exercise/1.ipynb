{
 "cells": [
  {
   "cell_type": "code",
   "execution_count": null,
   "metadata": {},
   "outputs": [],
   "source": [
    "list = []\n",
    "n =3000\n",
    "for i in range(2000,n+1):\n",
    "    if(i%7==0 and i%5!=0):\n",
    "        list.append(str(i))\n",
    "print(','.join(list))"
   ]
  },
  {
   "cell_type": "code",
   "execution_count": null,
   "metadata": {},
   "outputs": [],
   "source": [
    "#Write a program which can compute the factorial of a given numbers\n",
    "n = int(input(\"enter number\"))\n",
    "factorial =1\n",
    "for i in range(1,n+1):\n",
    "    factorial =factorial*i\n",
    "print(factorial)"
   ]
  },
  {
   "cell_type": "code",
   "execution_count": null,
   "metadata": {},
   "outputs": [],
   "source": [
    "\"\"\"write a program to generate a dictionary that contains (i, i*i) such that is an integral number between 1 and n (both included). \n",
    "and then the program should print the dictionary. \"\"\"\n",
    "n=int(input())\n",
    "dict ={}\n",
    "for i in range(1,n+1):\n",
    "    dict[i]=i*i\n",
    "\n",
    "print(dict)"
   ]
  },
  {
   "cell_type": "code",
   "execution_count": null,
   "metadata": {},
   "outputs": [],
   "source": [
    "\"\"\"Write a program which accepts a sequence of comma-separated numbers from console and \n",
    "generate a list and a tuple which contains every number. \"\"\"\n",
    "\n",
    "values=input()\n",
    "l=values.split(\",\")\n",
    "t=tuple(l)\n",
    "print(l)\n",
    "print(t)"
   ]
  },
  {
   "cell_type": "code",
   "execution_count": null,
   "metadata": {},
   "outputs": [],
   "source": [
    "\"\"\"Define a class which has at least two methods: getString: to get a string from console input printString: to print the string in upper case. \n",
    "Also please include simple test function to test the class methods.\"\"\"\n",
    "class Inputstring(object):\n",
    "    def __init__(self):\n",
    "        self.s = \"\"\n",
    "    def getstring(self):\n",
    "        self.s =input()\n",
    "    def printstring(self):\n",
    "        print(self.s.upper())\n",
    "c1 = Inputstring()\n",
    "c1.getstring()\n",
    "c1.printstring()"
   ]
  },
  {
   "cell_type": "code",
   "execution_count": null,
   "metadata": {},
   "outputs": [],
   "source": [
    "items=[x for x in input().split(',')]\n",
    "items.sort()\n",
    "print(','.join(items))\n",
    "    "
   ]
  },
  {
   "cell_type": "code",
   "execution_count": null,
   "metadata": {},
   "outputs": [],
   "source": [
    "user_input = input(\"enter\")\n",
    "items = user_input.split(',')\n",
    "items.sort()\n",
    "sorted_items = ','.join(items)\n",
    "print(sorted_items)"
   ]
  },
  {
   "cell_type": "code",
   "execution_count": null,
   "metadata": {},
   "outputs": [],
   "source": [
    "list =[]\n",
    "x = input(\"enter string\")\n",
    "x.upper()\n",
    "list.append(x)\n",
    "print(list)"
   ]
  },
  {
   "cell_type": "code",
   "execution_count": null,
   "metadata": {},
   "outputs": [],
   "source": [
    "\n",
    "list =[]\n",
    "x = input(\"enter string\")\n",
    "\n",
    "list.append(x.upper())\n",
    "print(list)"
   ]
  },
  {
   "cell_type": "code",
   "execution_count": null,
   "metadata": {},
   "outputs": [],
   "source": [
    "class Parent: # define parent class\n",
    "   def myMethod(self):\n",
    "      print ('Calling parent method')\n",
    "\n",
    "class Child(Parent): # define child class\n",
    "   def myMethod(self):\n",
    "      print ('Calling child method')\n",
    "\n",
    "p1 = Child() # instance of child\n",
    "p1.myMethod() # child calls overridden method"
   ]
  }
 ],
 "metadata": {
  "kernelspec": {
   "display_name": "Python 3",
   "language": "python",
   "name": "python3"
  },
  "language_info": {
   "codemirror_mode": {
    "name": "ipython",
    "version": 3
   },
   "file_extension": ".py",
   "mimetype": "text/x-python",
   "name": "python",
   "nbconvert_exporter": "python",
   "pygments_lexer": "ipython3",
   "version": "3.12.2"
  }
 },
 "nbformat": 4,
 "nbformat_minor": 2
}
