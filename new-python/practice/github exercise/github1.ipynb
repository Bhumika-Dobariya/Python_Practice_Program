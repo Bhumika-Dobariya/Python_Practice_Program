{
 "cells": [
  {
   "cell_type": "code",
   "execution_count": null,
   "metadata": {},
   "outputs": [],
   "source": [
    "\"\"\"Write a program which will find all such numbers which are divisible by 7 but are not a multiple of 5, between 2000 and 3200 (both included). \n",
    "The numbers obtained should be printed in a comma-separated sequence on a single line.\"\"\"\n",
    "list = []\n",
    "n= 3000\n",
    "for i in range(2000,n+1):\n",
    "    if(i%7==0 and i%5!=0):\n",
    "        list.append(str(i))\n",
    "print(','.join(list))"
   ]
  },
  {
   "cell_type": "code",
   "execution_count": null,
   "metadata": {},
   "outputs": [],
   "source": [
    "#Write a program which can compute the factorial of a given numbers. \n",
    "n = int(input(\"enter number\"))\n",
    "factorial = 1\n",
    "for i in range(1,n+1):\n",
    "    factorial = factorial*i\n",
    "print(factorial)"
   ]
  },
  {
   "cell_type": "code",
   "execution_count": null,
   "metadata": {},
   "outputs": [],
   "source": [
    "\"\"\"#With a given integral number n, write a program to generate a dictionary that contains (i, i*i) such that is an integral number between 1 and n (both included). \n",
    "and then the program should print the dictionary.\"\"\"\n",
    "n = int(input(\"enter number\"))\n",
    "dict = {}\n",
    "for i in range(1,n+1):\n",
    "    dict[i] =i*i\n",
    "print(dict)"
   ]
  },
  {
   "cell_type": "code",
   "execution_count": null,
   "metadata": {},
   "outputs": [],
   "source": [
    "#Write a program which accepts a sequence of comma-separated numbers from console and generate a list and a tuple which contains every number.\n",
    "a = input()\n",
    "l = a.split(\",\")\n",
    "t = tuple(l)\n",
    "print(l)\n",
    "print(t)\n",
    "    "
   ]
  },
  {
   "cell_type": "code",
   "execution_count": null,
   "metadata": {},
   "outputs": [],
   "source": [
    "#define a class which has at least two methods: getString: to get a string from console input printString: to print the string in upper case.\n",
    "class String:\n",
    "    def __init__(self):\n",
    "        self.a = \" \"\n",
    "        \n",
    "    def getstring(self):\n",
    "        self.a = input()\n",
    "    \n",
    "    def printstring(self):\n",
    "        print(self.a.upper())\n",
    "\n",
    "obj = String()\n",
    "obj.getstring()\n",
    "obj.printstring()"
   ]
  },
  {
   "cell_type": "code",
   "execution_count": null,
   "metadata": {},
   "outputs": [],
   "source": [
    "# Write a program that accepts a comma separated sequence of words as input and prints the words in a comma-separated sequence after sorting them alphabetically.\n",
    "# Suppose the following input is supplied to the program: without,hello,bag,world \n",
    "value = input()\n",
    "word = value.split(\",\")\n",
    "list1= sorted(word)\n",
    "sorted_sequence = ','.join(list1)\n",
    "print(sorted_sequence)\n"
   ]
  },
  {
   "cell_type": "code",
   "execution_count": null,
   "metadata": {},
   "outputs": [],
   "source": [
    "\"\"\"Write a program that accepts sequence of lines as input and prints the lines after making all characters in the sentence capitalized. \n",
    "Suppose the following input is supplied to the program: Hello world Practice makes perfect\"\"\"\n",
    "lines = []\n",
    "while True:\n",
    "    s = input()\n",
    "    if s:\n",
    "        lines.append(s.upper())\n",
    "    else:\n",
    "        break;\n",
    "\n",
    "for sentence in lines:\n",
    "    print(sentence)"
   ]
  },
  {
   "cell_type": "code",
   "execution_count": null,
   "metadata": {},
   "outputs": [],
   "source": [
    "# Write a program that accepts a sequence of whitespace separated words as input and prints the words after removing all duplicate words and sorting them alphanumerically. \n",
    "input_words = input(\"Enter a  words: \")\n",
    "\n",
    "words = input_words.split()\n",
    "\n",
    "unique_words = list(set(words))\n",
    "\n",
    "sorted_words = sorted(unique_words)\n",
    "\n",
    "print(\"removing duplicates:\")\n",
    "for word in sorted_words:\n",
    "    print(word)"
   ]
  },
  {
   "cell_type": "code",
   "execution_count": null,
   "metadata": {},
   "outputs": [],
   "source": [
    "#Write a program, which will find all such numbers between 1000 and 3000 (both included) such that each digit of the number is an even number. \n",
    "# The numbers obtained should be printed in a comma-separated sequence on a single line.\n",
    "n =3000\n",
    "values = []\n",
    "for i in range(2000,n+1):\n",
    "    s = str(i)\n",
    "    if (int(s[0])%2==0) and (int(s[1])%2==0) and (int(s[2])%2==0) and (int(s[3])%2==0):\n",
    "        values.append(s)\n",
    "print(','.join(values))\n",
    "        \n",
    "       "
   ]
  },
  {
   "cell_type": "code",
   "execution_count": null,
   "metadata": {},
   "outputs": [],
   "source": [
    "n = input(\"enter string\")\n",
    "list1=[]\n",
    "for i in n:\n",
    "   list1.append(i)\n",
    "print(list1)"
   ]
  },
  {
   "cell_type": "code",
   "execution_count": null,
   "metadata": {},
   "outputs": [],
   "source": [
    "#Write a program that accepts a sentence and calculate the number of letters and digits. Suppose the following input is supplied to the program\n",
    "n= input(\"enter string\")\n",
    "letter = 0\n",
    "digit = 0\n",
    "for i in n:\n",
    "    if i .isalpha():\n",
    "       letter+=1\n",
    "    elif i.isdigit():\n",
    "       digit+=1\n",
    "    else:\n",
    "       pass\n",
    "print(letter)\n",
    "print(digit)\n",
    "   "
   ]
  },
  {
   "cell_type": "code",
   "execution_count": null,
   "metadata": {},
   "outputs": [],
   "source": [
    "#: Write a program that accepts a sentence and calculate the number of upper case letters and lower case letters. Suppose the following input is supplied to the program: \n",
    "\n",
    "n= input(\"enter string\")\n",
    "upper = 0\n",
    "lower = 0\n",
    "for i in n:\n",
    "    if i .isupper():\n",
    "       upper+=1\n",
    "    elif i.islower():\n",
    "       lower+=1\n",
    "    else:\n",
    "       pass\n",
    "print(upper)\n",
    "print(lower)\n",
    "   "
   ]
  },
  {
   "cell_type": "code",
   "execution_count": null,
   "metadata": {},
   "outputs": [],
   "source": [
    "#se a list comprehension to square each odd number in a list. The list is input by a sequence of comma-separated numbers. \n",
    "# Suppose the following input is supplied to the program: 1,2,3,4,5,6,7,8,9 Then, the output should be: 1,3,5,7,9\n",
    "value =input()\n",
    "list =[]\n",
    "for x in value.split(','):\n",
    "    if(int(x)%2!=0):\n",
    "      list.append(x)\n",
    "print(','.join(list))\n",
    "       \n",
    "        \n"
   ]
  },
  {
   "cell_type": "code",
   "execution_count": null,
   "metadata": {},
   "outputs": [],
   "source": [
    "# A website requires the users to input username and password to register. Write a program to check the validity of password input by users. Following are the criteria for checking the password:\n",
    "\"\"\"At least 1 letter between [a-z]\n",
    "At least 1 number between [0-9]\n",
    "At least 1 letter between [A-Z]\n",
    "At least 1 character from [$#@]\n",
    "Minimum length of transaction password: 6\n",
    "Maximum length of transaction password: 12 Your program should accept a sequence of comma separated passwords and will check them according to the above criteria. \n",
    "Passwords that match the criteria are to be printed, each separated by a comma. Example If the following passwords are given as input to the program: ABd1234@1,a F1#,2w3E*,2We3345 Then, the output of the program should be: ABd1234@1\"\"\"\n",
    "def validate(password):\n",
    "    if len(password)<6 and len(password)>12:\n",
    "        return False\n",
    "    lowercase =0\n",
    "    uppercase = 0\n",
    "    digit = 0\n",
    "    symbol = 0\n",
    "    for char in password:\n",
    "        if char .islower():\n",
    "            lowercase =1\n",
    "        elif char . isupper():\n",
    "            uppercase =1\n",
    "        elif char.isdigit():\n",
    "            digit = 1  \n",
    "        elif char in password['$','@','#']:\n",
    "            symbol=1\n",
    "    return lowercase,uppercase,digit,symbol\n",
    "def main():\n",
    "    password = input(\"enter your password\")\n",
    "    valid_password = []\n",
    "    for i in password:\n",
    "        if valid_password(i):\n",
    "            valid_password.append(i)\n",
    "    print(','.join(valid_password))\n",
    "if __name__ == \"__main__\":\n",
    "    main()"
   ]
  },
  {
   "cell_type": "code",
   "execution_count": null,
   "metadata": {},
   "outputs": [],
   "source": [
    "#Define a class with a generator which can iterate the numbers, which are divisible by 7, between a given range 0 and n.\n",
    "def putNumbers(n):\n",
    "    for i in range(1,n+1):\n",
    "        if(i%7==0):\n",
    "            yield i\n",
    "result = putNumbers(30)\n",
    "print(next(result))\n",
    "print(next(result))\n",
    "print(next(result))\n",
    "print(next(result))\n",
    "\n",
    "\n"
   ]
  },
  {
   "cell_type": "code",
   "execution_count": null,
   "metadata": {},
   "outputs": [],
   "source": [
    "#Define a class with a generator which can iterate the numbers, which are divisible by 7, between a given range 0 and n.\n",
    "def putNumbers(n):\n",
    "    for i in range(1,n+1):\n",
    "        if(i%7==0):\n",
    "            yield i\n",
    "result = putNumbers(30)\n",
    "for i in result:\n",
    "    print(i)"
   ]
  },
  {
   "cell_type": "code",
   "execution_count": null,
   "metadata": {},
   "outputs": [],
   "source": [
    "#Write a method which can calculate square value of number\n",
    "def square(num):\n",
    "    return num**2\n",
    "print(square(2))\n",
    "print(square(4))"
   ]
  },
  {
   "cell_type": "code",
   "execution_count": null,
   "metadata": {},
   "outputs": [],
   "source": [
    "#Define a class, which have a class parameter and have a same instance parameter.\n",
    "class Person:\n",
    "    name = 'abc'\n",
    "    def __init__(self,name=None):\n",
    "        self.name = name\n",
    "p1 = Person('xyz')\n",
    "print(Person.name,p1.name)\n",
    "\n"
   ]
  },
  {
   "cell_type": "code",
   "execution_count": null,
   "metadata": {},
   "outputs": [],
   "source": [
    "#Define a function which can compute the sum of two numbers\n",
    "def sum(a,b):\n",
    "    return a+b\n",
    "a= sum(5,5)\n",
    "print(a)"
   ]
  },
  {
   "cell_type": "code",
   "execution_count": null,
   "metadata": {},
   "outputs": [],
   "source": [
    "#Define a function that can convert a integer into a string and print it in console.\n",
    "def int_to_string(n):\n",
    "    a = str(n)\n",
    "    return a\n",
    "\n",
    "b = int_to_string(5)\n",
    "print(b)\n"
   ]
  },
  {
   "cell_type": "code",
   "execution_count": null,
   "metadata": {},
   "outputs": [],
   "source": [
    "#Define a function that can receive two integral numbers in string form and compute their sum and then print it in console.\n",
    "def sum(a,b):\n",
    "    return a+b\n",
    "a = input(\"enter number\")\n",
    "b = input(\"enter number\")\n",
    "result = sum(a,b)\n",
    "print(result)"
   ]
  },
  {
   "cell_type": "code",
   "execution_count": null,
   "metadata": {},
   "outputs": [],
   "source": [
    "#Define a function that can accept two strings as input and print the string with maximum length in console. \n",
    "# If two strings have the same length, then the function should print al l strings line by line.\n",
    "def string(a,b):\n",
    "    length1 = len(string1)\n",
    "    length2 = len(string2)\n",
    "    if length1>length2:\n",
    "        print(string1)\n",
    "    elif(length1<length2):\n",
    "        print(string2)\n",
    "    if(length1 == length2):\n",
    "       print(string1)\n",
    "       print(string2)\n",
    "\n",
    "string1 = input(\"enter string1\")\n",
    "string2 = input(\"enter string2\")\n",
    "\n",
    "string(string1,string2)\n"
   ]
  },
  {
   "cell_type": "code",
   "execution_count": null,
   "metadata": {},
   "outputs": [],
   "source": [
    "#Define a function that can accept an integer number as input and print the \"It is an even number\" if the number is even, otherwise print \"It is an odd number\"\n",
    "def even(n):\n",
    "   if(n%2==0):\n",
    "       print(\"even number\") \n",
    "   else:\n",
    "       print(\"odd number\")\n",
    "    \n",
    "n =int(input(\"enter number\"))\n",
    "even(n)"
   ]
  },
  {
   "cell_type": "code",
   "execution_count": null,
   "metadata": {},
   "outputs": [],
   "source": [
    "def printdict():\n",
    "    dict1 = {}\n",
    "    dict1[1]=1\n",
    "    dict1[2]=2\n",
    "    dict1[3]=3\n",
    "    print(dict1)\n",
    "printdict()"
   ]
  },
  {
   "cell_type": "code",
   "execution_count": null,
   "metadata": {},
   "outputs": [],
   "source": [
    "#Define a function which can generate a dictionary where the keys are numbers between 1 and 20 (both included) and the values are square of keys. \n",
    "def printdict():\n",
    "    dict1 ={}\n",
    "    for i in range(1,21):\n",
    "        dict1[i]=i**2\n",
    "    for(i,j) in dict1.items():\n",
    "        print(j)\n",
    "printdict()    "
   ]
  },
  {
   "cell_type": "code",
   "execution_count": null,
   "metadata": {},
   "outputs": [],
   "source": [
    "#Define a function which can generate and print a list where the values are square of numbers between 1 and 20 (both included).\n",
    "\n",
    "\n",
    "def square_list(list):\n",
    "    list1=[]\n",
    "    for i in range(1,21):\n",
    "         a =i**2\n",
    "         list1.append(a)\n",
    "    return list1\n",
    "a=square_list(list)\n",
    "print(a)"
   ]
  },
  {
   "cell_type": "code",
   "execution_count": null,
   "metadata": {},
   "outputs": [],
   "source": [
    "#Define a function which can generate a list where the values are square of numbers between 1 and 20 (both included). Then the function needs to print the first 5 elements in the list.\n",
    "def square_list():\n",
    "    list1=[]\n",
    "    for i in range(1,21):\n",
    "        list1.append(i**2)\n",
    "    print(list1[:5])\n",
    "square_list()\n"
   ]
  },
  {
   "cell_type": "code",
   "execution_count": null,
   "metadata": {},
   "outputs": [],
   "source": [
    "#With a given tuple (1,2,3,4,5,6,7,8,9,10), write a program to print the first half values in one line and the last half values in one line.\n",
    "tp=(1,2,3,4,5,6,7,8,9,10)\n",
    "tp1=tp[:5]\n",
    "tp2=tp[5:]\n",
    "print(tp1)\n",
    "print(tp2)"
   ]
  },
  {
   "cell_type": "code",
   "execution_count": null,
   "metadata": {},
   "outputs": [],
   "source": [
    "#Write a program which accepts a string as input to print \"Yes\" if the string is \"yes\" or \"YES\" or \"Yes\", otherwise print \"No\".\n",
    "n= input(\"enter string\")\n",
    "if n==\"yes\" or n==\"YES\" or n==\"Yes\":\n",
    "    print(\"yes\")\n",
    "else:\n",
    "    print(\"no\")"
   ]
  },
  {
   "cell_type": "code",
   "execution_count": null,
   "metadata": {},
   "outputs": [],
   "source": [
    "#Write a program which can filter even numbers in a list by using filter function. The list is: [1,2,3,4,5,6,7,8,9,10].\n",
    "list1 = [1,2,3,4,5,6,7,8,9,10]\n",
    "\n",
    "evennumber = filter(lambda x:x%2==0,list1)\n",
    "\n",
    "print(list(evennumber))"
   ]
  },
  {
   "cell_type": "code",
   "execution_count": null,
   "metadata": {},
   "outputs": [],
   "source": [
    "#Write a program which can map() to make a list whose elements are square of elements in [1,2,3,4,5,6,7,8,9,10]\n",
    "list1 = [1,2,3,4,5,6,7,8,9,10]\n",
    "square = map(lambda x: x**2,list1)\n",
    "print(list(square))"
   ]
  },
  {
   "cell_type": "code",
   "execution_count": null,
   "metadata": {},
   "outputs": [],
   "source": [
    "#Write a program which can map() and filter() to make a list whose elements are square of even number in [1,2,3,4,5,6,7,8,9,10].\n",
    "list1 = [1,2,3,4,5,6,7,8,9,10]\n",
    "even_num = map(lambda x: x**2,filter(lambda x:x*2,list1))\n",
    "print(list(even_num))"
   ]
  },
  {
   "cell_type": "code",
   "execution_count": null,
   "metadata": {},
   "outputs": [],
   "source": [
    "#Write a program which can filter() to make a list whose elements are even number between 1 and 20 (both included).\n",
    "evenNumbers = filter(lambda x: x % 2 == 0, range(1, 21))\n",
    "print(list(evenNumbers))"
   ]
  },
  {
   "cell_type": "code",
   "execution_count": null,
   "metadata": {},
   "outputs": [],
   "source": [
    "#Define a class named American which has a static method called printNationality.\n",
    "\n",
    "class American:\n",
    "    @staticmethod\n",
    "    def print_nationality():\n",
    "        print(\"i am american\")\n",
    "a = American()\n",
    "a.print_nationality()\n",
    "American.print_nationality()"
   ]
  },
  {
   "cell_type": "code",
   "execution_count": null,
   "metadata": {},
   "outputs": [],
   "source": [
    "#efine a class named American and its subclass NewYorker.\n",
    "class American:\n",
    "    def print(self):\n",
    "        print(\"american\")\n",
    "class Newyorker(American):\n",
    "    def print(self):\n",
    "        super().print()\n",
    "        print(\"i am newyorker\")\n",
    "\n",
    "a1 = Newyorker()\n",
    "a1.print()\n"
   ]
  },
  {
   "cell_type": "code",
   "execution_count": null,
   "metadata": {},
   "outputs": [],
   "source": [
    "#Define a class named Circle which can be constructed by a radius. The Circle class has a method which can compute the area.\n",
    "#Define a class named Rectangle which can be constructed by a length and width. The Rectangle class has a method which can compute the area.\n",
    "class Circle:\n",
    "    def __init__(self,radius,length,width):\n",
    "        self.radius = radius\n",
    "        self.length = length\n",
    "        self.width = width\n",
    "        \n",
    "    def circle_area(self):\n",
    "        self.circle_result = 3.14*self.radius**2\n",
    "        self.rectangle_result = self.length*self.width\n",
    "\n",
    "        \n",
    "    def display(self):\n",
    "        self.circle_area()\n",
    "        \n",
    "        print(\"circle :\", self.circle_result) \n",
    "        print(\"rectangle :\",self.rectangle_result) \n",
    "        \n",
    "c1 = Circle(4,3,5)\n",
    "c1.display()  "
   ]
  },
  {
   "cell_type": "code",
   "execution_count": null,
   "metadata": {},
   "outputs": [],
   "source": [
    "\"\"\"Define a class named Shape and its subclass Square. The Square class has an init function which takes a length as argument. \n",
    "Both classes have a area function which can print the area of the shape where Shape's area is 0 by default.\"\"\"\n",
    "class shape:\n",
    "    def __init__(self):\n",
    "        pass\n",
    "    def area(self):\n",
    "        return 0\n",
    "class square:\n",
    "    def __init__(self,length):\n",
    "        shape.__init__(self)\n",
    "        self.length = length\n",
    "    def area(self):\n",
    "        return self.length*self.length\n",
    "a = square(4)\n",
    "print(a.area())"
   ]
  },
  {
   "cell_type": "code",
   "execution_count": null,
   "metadata": {},
   "outputs": [],
   "source": [
    "raise RuntimeError(\"Say something\")"
   ]
  },
  {
   "cell_type": "code",
   "execution_count": null,
   "metadata": {},
   "outputs": [],
   "source": [
    "#Print a unicode string \"hello world\".\n",
    "unicodeString = u\"hello world!\"\n",
    "print(unicodeString)"
   ]
  },
  {
   "cell_type": "code",
   "execution_count": null,
   "metadata": {},
   "outputs": [],
   "source": [
    "n = int(input())\n",
    "sum=0.0\n",
    "for i in range(1,n+1):\n",
    "    sum+=float(float(i)/(i+1))\n",
    "print(sum)"
   ]
  },
  {
   "cell_type": "code",
   "execution_count": null,
   "metadata": {},
   "outputs": [],
   "source": [
    "#Write a program to compute:\n",
    "#f(n)=f(n-1)+100 when n>0 and f(0)=1\n",
    "def f(n):\n",
    "    if n==0:\n",
    "        return 0\n",
    "    else:\n",
    "        return f(n-1)+100\n",
    "n = int(input(\"enter number\"))\n",
    "print(f(n))"
   ]
  },
  {
   "cell_type": "code",
   "execution_count": 1,
   "metadata": {},
   "outputs": [
    {
     "name": "stdout",
     "output_type": "stream",
     "text": [
      "13\n"
     ]
    }
   ],
   "source": [
    "def f(n):\n",
    "    if n==0:\n",
    "        return 0\n",
    "    elif n==1:\n",
    "        return 1\n",
    "    else:\n",
    "        return f(n-1)+f(n-2)\n",
    "print(f(7))\n",
    "\n"
   ]
  },
  {
   "cell_type": "code",
   "execution_count": null,
   "metadata": {},
   "outputs": [],
   "source": [
    "def f(n):\n",
    "    if n==0:\n",
    "        return 0\n",
    "    elif n==1:\n",
    "        return 1\n",
    "    else:\n",
    "        return f(n-1)+f(n-2)\n",
    "n=10\n",
    "for x in range(0,n+1):\n",
    "    print(f(x),end=\",\")\n"
   ]
  },
  {
   "cell_type": "code",
   "execution_count": null,
   "metadata": {},
   "outputs": [],
   "source": [
    "def mygenerator(n):\n",
    "    for i in range(1,n+1):\n",
    "        if i%2==0:\n",
    "            yield i\n",
    "n= int(input(\"enter number\"))\n",
    "values =[]\n",
    "for i  in mygenerator(n):\n",
    "    values.append(str(i))\n",
    "\n",
    "print(\",\".join(values))"
   ]
  },
  {
   "cell_type": "code",
   "execution_count": null,
   "metadata": {},
   "outputs": [],
   "source": [
    "#write a program using generator to print the numbers which can be divisible by 5 and 7 between 0 and n in comma separated form while n is input by console.\n",
    "def generator(n):\n",
    "    for i in range(0,n+1):\n",
    "        if(i%7==0 and i%5==0):\n",
    "            yield i\n",
    "\n",
    "n = int(input(\"enter number\"))\n",
    "for  i in generator(n):\n",
    "    print(i,end=\",\")"
   ]
  },
  {
   "cell_type": "code",
   "execution_count": null,
   "metadata": {},
   "outputs": [],
   "source": [
    "#write assert statements to verify that every number in the list [2,4,6,8] is even.\n",
    "list = [2,4,6,8]\n",
    "for i in list:\n",
    "    assert i%2==0"
   ]
  },
  {
   "cell_type": "code",
   "execution_count": null,
   "metadata": {},
   "outputs": [],
   "source": [
    "#write a program which accepts basic mathematic expression from console and print the evaluation result.\n",
    "expression = input()  #2+4\n",
    "print(eval(expression))"
   ]
  },
  {
   "cell_type": "code",
   "execution_count": null,
   "metadata": {},
   "outputs": [],
   "source": [
    "def binary_search(arr,x):\n",
    "    left = 0\n",
    "    reight= len(arr)-1\n",
    "    \n",
    "    while left<=reight:\n",
    "        mid = (left+reight)//2\n",
    "        if arr[mid] ==x:\n",
    "            return mid\n",
    "        elif arr[mid]<x:\n",
    "            left =mid+1\n",
    "        else:\n",
    "            reight =mid-1\n",
    "    return -1\n",
    "\n",
    "list = [1,3,5,7,9,11,13,15,17,19]\n",
    "x =13\n",
    "index = binary_search(list,x)\n",
    "\n",
    "if index != -1:\n",
    "    print(f\"Element {x} found at index {index}.\")\n",
    "else:\n",
    "    print(f\"Element {x} not found in the list.\")\n",
    "        "
   ]
  },
  {
   "cell_type": "code",
   "execution_count": null,
   "metadata": {},
   "outputs": [],
   "source": [
    "#generate a random float where the value is between 10 and 100 using Python math module\n",
    "import random\n",
    "random_num = random.uniform(10,100)\n",
    "print(random_num)"
   ]
  },
  {
   "cell_type": "code",
   "execution_count": null,
   "metadata": {},
   "outputs": [],
   "source": [
    "import random\n",
    "even_num=[]\n",
    "for i in range(0,11):\n",
    "    if(i%2==0):\n",
    "        even_num.append(i)\n",
    "random_num = random.choice(even_num)\n",
    "print(random_num)"
   ]
  },
  {
   "cell_type": "code",
   "execution_count": null,
   "metadata": {},
   "outputs": [],
   "source": [
    "#write a program to output a random number, which is divisible by 5 and 7, between 0 and 10 inclusive using random module and list comprehension.\n",
    "import random\n",
    "a =[]\n",
    "for i in range(0,100):\n",
    "    if(i%5==0 and i%7==0):\n",
    "        a.append(i)\n",
    "random_num = random.choice(a)\n",
    "print(random_num)"
   ]
  },
  {
   "cell_type": "code",
   "execution_count": null,
   "metadata": {},
   "outputs": [],
   "source": [
    "#write a program to randomly generate a list with 5 even numbers between 100 and 200 inclusive\n",
    "import random\n",
    "a = []\n",
    "for i in range(5):\n",
    "    random_num =random.randint(100,200)\n",
    "    a.append(random_num)\n",
    "print(a)\n"
   ]
  },
  {
   "cell_type": "code",
   "execution_count": null,
   "metadata": {},
   "outputs": [],
   "source": [
    "#write a program to randomly generate a list with 5 numbers, which are divisible by 5 and 7 , between 1 and 1000 inclusive.\n",
    "import random\n",
    "a =[]\n",
    "while len(a) < 5:\n",
    "    random_num = random.randint(1,1000)\n",
    "    if(random_num%5==0 and random_num%7==0):\n",
    "        a.append(random_num)\n",
    "print(a)"
   ]
  },
  {
   "cell_type": "code",
   "execution_count": null,
   "metadata": {},
   "outputs": [],
   "source": [
    "#write a program to randomly print a integer number between 7 and 15 inclusive.\n",
    "import random\n",
    "a =[]\n",
    "random_num = random.randint(7,16)\n",
    "print(random_num)\n",
    "    "
   ]
  },
  {
   "cell_type": "code",
   "execution_count": null,
   "metadata": {},
   "outputs": [],
   "source": [
    "#write a program to print the running time of execution of \"1+1\" for 100 times\n",
    "import time\n",
    "start_time = time.time()\n",
    "for i in range(100):\n",
    "    result = 1+1\n",
    "end_time =time.time()\n",
    "runing_time = start_time-end_time\n",
    "print(runing_time)"
   ]
  },
  {
   "cell_type": "code",
   "execution_count": null,
   "metadata": {},
   "outputs": [],
   "source": [
    "# write a program to shuffle and print the list [3,6,7,8]\n",
    "import random\n",
    "list = [3,6,7,8]\n",
    "random.shuffle(list)\n",
    "print(list)"
   ]
  },
  {
   "cell_type": "code",
   "execution_count": null,
   "metadata": {},
   "outputs": [],
   "source": [
    "subjects = [\"I\", \"You\"]\n",
    "verbs = [\"Play\", \"Love\"]\n",
    "objects = [\"Hockey\", \"Football\"]\n",
    "\n",
    "for subject in subjects:\n",
    "    for verb in verbs:\n",
    "        for obj in objects:\n",
    "            sentence = f\"{subject} {verb} {obj}.\"\n",
    "            print(sentence)"
   ]
  },
  {
   "cell_type": "code",
   "execution_count": null,
   "metadata": {},
   "outputs": [],
   "source": [
    "# print the list after removing delete even numbers in [5,6,77,45,22,12,24].\n",
    "list = [5,6,77,45,22,12,24]\n",
    "list2 = []\n",
    "for i in list:\n",
    "    if(i%2!=0):\n",
    "        list2.append(i)\n",
    "print(list2)\n",
    "        "
   ]
  },
  {
   "cell_type": "code",
   "execution_count": null,
   "metadata": {},
   "outputs": [],
   "source": [
    "#print the list after removing delete numbers which are divisible by 5 and 7 in [12,24,35,70,88,120,155].\n",
    "list = [12,24,35,70,88,120,155]\n",
    "list2 = []\n",
    "for i in list:\n",
    "    if i%7!=0 and i%5!=0:\n",
    "        list2.append(i)\n",
    "print(list2)"
   ]
  },
  {
   "cell_type": "code",
   "execution_count": null,
   "metadata": {},
   "outputs": [],
   "source": [
    "#write a program to print the list after removing the 0th, 2nd, 4th,6th numbers in [12,24,35,70,88,120,155]\n",
    "list = [12,24,35,70,88,120,155]\n",
    "for i,x in enumerate(list):\n",
    "    if(i%2==0):\n",
    "        print(x)\n",
    "    "
   ]
  },
  {
   "cell_type": "code",
   "execution_count": null,
   "metadata": {},
   "outputs": [],
   "source": [
    "#By using list comprehension, please write a program to print the list after removing the 0th,4th,5th numbers in [12,24,35,70,88,120,155]\n",
    "list =  [12,24,35,70,88,120,155]\n",
    "list1=[]\n",
    "for (i,x) in enumerate(list):\n",
    "    if i not in(0,4,5):\n",
    "        list1.append(x)\n",
    "print(list1)\n",
    "    "
   ]
  },
  {
   "cell_type": "code",
   "execution_count": null,
   "metadata": {},
   "outputs": [],
   "source": [
    "#By using list comprehension, please write a program to print the list after removing the value 24 in [12,24,35,24,88,120,155].\n",
    "list =[12,24,35,24,88,120,155]\n",
    "list1=[]\n",
    "for i in list:\n",
    "    if i!=24:\n",
    "        list1.append(i)\n",
    "print(list1)"
   ]
  },
  {
   "cell_type": "code",
   "execution_count": null,
   "metadata": {},
   "outputs": [],
   "source": [
    "#use intersection method\n",
    "list1 =  set([1,3,6,78,35,55])\n",
    "list2=  set([12,24,35,24,88,120,155])\n",
    "list1.intersection(list2)\n",
    "print(list1)"
   ]
  },
  {
   "cell_type": "code",
   "execution_count": null,
   "metadata": {},
   "outputs": [],
   "source": [
    "#remove duplicate\n",
    "list =[12,24,35,24,88,120,155,88,120,155]\n",
    "list1 =[]\n",
    "for i in list:\n",
    "    if i not in list1:\n",
    "        list1.append(i)\n",
    "print(list1)\n",
    " "
   ]
  },
  {
   "cell_type": "code",
   "execution_count": null,
   "metadata": {},
   "outputs": [],
   "source": [
    "class Person:\n",
    "    def get_gender(self):\n",
    "        print('unknown')\n",
    "class Male(Person):\n",
    "    def get_gender(self):\n",
    "        print(\"male\")\n",
    "class Female(Person):\n",
    "    def get_gender(self):\n",
    "        print(\"female\")\n",
    "        \n",
    "M = Male()\n",
    "F = Female()\n",
    "M.get_gender()\n",
    "F.get_gender()\n",
    "    "
   ]
  },
  {
   "cell_type": "code",
   "execution_count": null,
   "metadata": {},
   "outputs": [],
   "source": [
    "s=input()\n",
    "s = s[::-1]\n",
    "print(s)"
   ]
  },
  {
   "cell_type": "code",
   "execution_count": null,
   "metadata": {},
   "outputs": [],
   "source": [
    "s=input()\n",
    "s = s[::2]\n",
    "print(s)"
   ]
  }
 ],
 "metadata": {
  "kernelspec": {
   "display_name": "Python 3",
   "language": "python",
   "name": "python3"
  },
  "language_info": {
   "codemirror_mode": {
    "name": "ipython",
    "version": 3
   },
   "file_extension": ".py",
   "mimetype": "text/x-python",
   "name": "python",
   "nbconvert_exporter": "python",
   "pygments_lexer": "ipython3",
   "version": "3.12.2"
  }
 },
 "nbformat": 4,
 "nbformat_minor": 2
}
