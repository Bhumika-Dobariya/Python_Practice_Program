{
 "cells": [
  {
   "cell_type": "code",
   "execution_count": null,
   "metadata": {},
   "outputs": [],
   "source": [
    "#Create a string made of the first, middle and last character\n",
    "str = 'bhumika'\n",
    "print('orignal string',str)\n",
    "res = str[0]\n",
    "length = len(str)\n",
    "\n",
    "mid = int(length/2)\n",
    "res = res + str[mid]\n",
    "\n",
    "res =res + str[length - 1]\n",
    "print(\"New String:\", res)"
   ]
  },
  {
   "cell_type": "code",
   "execution_count": null,
   "metadata": {},
   "outputs": [],
   "source": [
    "#string t o list\n",
    "n = input('enter name')\n",
    "print(n)\n",
    "l = n.split()\n",
    "print(l)"
   ]
  },
  {
   "cell_type": "code",
   "execution_count": null,
   "metadata": {},
   "outputs": [],
   "source": [
    "#input mltiple string\n",
    "l = []\n",
    "for i in range(1,4):\n",
    "    n = input('enter value' +str(i)+\" :\")\n",
    "    l.append(n)\n",
    "print(l)"
   ]
  },
  {
   "cell_type": "code",
   "execution_count": null,
   "metadata": {},
   "outputs": [],
   "source": [
    "str1 = 'bhumiKA'\n",
    "print(\"orignal string\",str)\n",
    "lower = []\n",
    "upper = []\n",
    "for char in str1:\n",
    "    if char.islower():\n",
    "        lower.append(char)\n",
    "    else:\n",
    "           upper.append(char)\n",
    "sorted_str = ''.join(lower + upper)\n",
    "print('Result:', sorted_str)\n",
    "        \n",
    "    "
   ]
  },
  {
   "cell_type": "code",
   "execution_count": null,
   "metadata": {},
   "outputs": [],
   "source": [
    "#Count all letters, digits, and special symbols from a given string\n",
    "def find(str):\n",
    "    char_count = 0\n",
    "    digit_count =0\n",
    "    symbol_count = 0\n",
    "    for char in str:\n",
    "        if char.isalpha():\n",
    "           char_count +=1\n",
    "        elif char.isdigit():\n",
    "            digit_count+=1\n",
    "        else:\n",
    "            symbol_count+=1\n",
    "    print(\"Chars =\", char_count, \"Digits =\", digit_count, \"Symbol =\", symbol_count)\n",
    "str = \"P@yn2at&#i5ve\"\n",
    "print(\"total counts of chars, Digits, and symbols \\n\")\n",
    "find(str)"
   ]
  },
  {
   "cell_type": "code",
   "execution_count": null,
   "metadata": {},
   "outputs": [],
   "source": [
    "input_str = \"bfmmk684$%\"\n",
    "total = 0\n",
    "count = 0\n",
    "for char in input_str:\n",
    "    if char.isdigit():\n",
    "        total +=int(char)\n",
    "        count+=1\n",
    "avg = total/count\n",
    "print(\"total is\",total, \"average is\",avg)"
   ]
  },
  {
   "cell_type": "code",
   "execution_count": null,
   "metadata": {},
   "outputs": [],
   "source": [
    "str1 = \"Emma is a data scientist who knows Python.Emma works at google.\"\n",
    "print(\"Original String is:\", str1)\n",
    "index = str1.rfind(\"Emma\")\n",
    "print(\"Last occurrence of Emma starts at index:\", index)"
   ]
  },
  {
   "cell_type": "code",
   "execution_count": null,
   "metadata": {},
   "outputs": [],
   "source": [
    "def string_digit(n):\n",
    "    for i in n:\n",
    "        if i.isdigit():\n",
    "            return True\n",
    "        else:\n",
    "            return False\n",
    "n= input(\"enter string\")\n",
    "result = string_digit(n)\n",
    "print(result)"
   ]
  },
  {
   "cell_type": "code",
   "execution_count": null,
   "metadata": {},
   "outputs": [],
   "source": [
    "n1 = input(\"enter string1\")\n",
    "n2 = input(\"enter string2\")\n",
    "if n2 in n1:\n",
    "    print(\"yes n2 is substring of n1\")\n",
    "else:\n",
    "    print(\"no\")"
   ]
  },
  {
   "cell_type": "code",
   "execution_count": 1,
   "metadata": {},
   "outputs": [
    {
     "name": "stdout",
     "output_type": "stream",
     "text": [
      "humibay\n"
     ]
    }
   ],
   "source": [
    "\"\"\"Implement a program that converts a string to \"Pig Latin\" according to the following rules: If a word begins with a consonant, move the consonant to the end of the word and add \"ay\". \n",
    "If a word begins with a vowel, simply add \"way\" to the end of the word.\"\"\"\n",
    "def function(char):\n",
    "    vowels = \"aeiou\"\n",
    "    if char[0] in vowels:\n",
    "        char+='way'\n",
    "    else:\n",
    "        return char[1:] + char[0] + \"ay\"\n",
    "                      \n",
    "n= input(\"enter string\")\n",
    "result = function(n)\n",
    "print(result)"
   ]
  },
  {
   "cell_type": "code",
   "execution_count": null,
   "metadata": {},
   "outputs": [],
   "source": [
    "#Write a Python function to find the most common character in a string.\n",
    "\n",
    "def common_character(n):\n",
    "    char_freq={}\n",
    "    for i in n:\n",
    "        if i  in char_freq:\n",
    "            char_freq[i]+=1\n",
    "        else:\n",
    "            char_freq[i]=1\n",
    "    max_freq_char= max(char_freq, key = char_freq.get)\n",
    "    max_freq = char_freq[max_freq_char]\n",
    "    return  max_freq_char,max_freq\n",
    "            \n",
    "            \n",
    "n = input(\"enter string\")\n",
    "result = common_character(n)\n",
    "print(result)"
   ]
  },
  {
   "cell_type": "code",
   "execution_count": null,
   "metadata": {},
   "outputs": [],
   "source": [
    "#Create a function that takes a string as input and returns the longest word in the string.\n",
    "\n",
    "def longest_word(n):\n",
    "   words = n.split()\n",
    "   max_length =0\n",
    "   longest_word=\"\"\n",
    "   for i in words:\n",
    "       if len(i)>max_length:\n",
    "           max_length=len(i)\n",
    "           longest_word=i\n",
    "   return longest_word\n",
    "    \n",
    "n = input(\"enter string\")\n",
    "a= longest_word(n)\n",
    "print(a)"
   ]
  },
  {
   "cell_type": "code",
   "execution_count": null,
   "metadata": {},
   "outputs": [],
   "source": [
    "#Create a function to check if two strings are anagrams of each other\n",
    "\n",
    "def anagram_string(string1,string2):\n",
    "    \n",
    "    if len(string1)!=len(string2):\n",
    "        return False\n",
    "    \n",
    "    sorted_string1 = sorted(string1)\n",
    "    sorted_string2 =sorted(string2)\n",
    "    \n",
    "    if sorted_string1 == sorted_string2:\n",
    "        return True\n",
    "    else:\n",
    "        return False\n",
    "    \n",
    "    \n",
    "string1 = input(\"enter string1\")\n",
    "string2=input(\"enter string2\")\n",
    "result =anagram_string(string1,string2)\n",
    "print(result)"
   ]
  },
  {
   "cell_type": "code",
   "execution_count": null,
   "metadata": {},
   "outputs": [],
   "source": [
    "#Write a program to remove all punctuation from a given string\n",
    "def remove_punctuation(string):\n",
    "       punctuation_chars = \"!\\\"#$%&'()*+,-./:;<=>?@[\\\\]^_`{|}~\"\n",
    "       result_string =\"\"\n",
    "       for char in string:\n",
    "           if char not in punctuation_chars:\n",
    "               result_string+=char\n",
    "       return result_string \n",
    "   \n",
    "n = input(\"enter string\")\n",
    "result = remove_punctuation(n)\n",
    "print(result)"
   ]
  }
 ],
 "metadata": {
  "kernelspec": {
   "display_name": "Python 3",
   "language": "python",
   "name": "python3"
  },
  "language_info": {
   "codemirror_mode": {
    "name": "ipython",
    "version": 3
   },
   "file_extension": ".py",
   "mimetype": "text/x-python",
   "name": "python",
   "nbconvert_exporter": "python",
   "pygments_lexer": "ipython3",
   "version": "3.12.2"
  }
 },
 "nbformat": 4,
 "nbformat_minor": 2
}
