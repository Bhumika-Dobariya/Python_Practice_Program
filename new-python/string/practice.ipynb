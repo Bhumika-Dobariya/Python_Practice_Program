{
 "cells": [
  {
   "cell_type": "code",
   "execution_count": null,
   "metadata": {},
   "outputs": [],
   "source": [
    "#Create a string made of the first, middle and last character\n",
    "str = 'bhumika'\n",
    "print('orignal string',str)\n",
    "res = str[0]\n",
    "length = len(str)\n",
    "\n",
    "mid = int(length/2)\n",
    "res = res + str[mid]\n",
    "\n",
    "res =res + str[length - 1]\n",
    "print(\"New String:\", res)"
   ]
  },
  {
   "cell_type": "code",
   "execution_count": null,
   "metadata": {},
   "outputs": [],
   "source": [
    "#string t o list\n",
    "n = input('enter name')\n",
    "print(n)\n",
    "l = n.split()\n",
    "print(l)"
   ]
  },
  {
   "cell_type": "code",
   "execution_count": null,
   "metadata": {},
   "outputs": [],
   "source": [
    "#input mltiple string\n",
    "l = []\n",
    "for i in range(1,4):\n",
    "    n = input('enter value' +str(i)+\" :\")\n",
    "    l.append(n)\n",
    "print(l)"
   ]
  },
  {
   "cell_type": "code",
   "execution_count": null,
   "metadata": {},
   "outputs": [],
   "source": [
    "str1 = 'bhumiKA'\n",
    "print(\"orignal string\",str)\n",
    "lower = []\n",
    "upper = []\n",
    "for char in str1:\n",
    "    if char.islower():\n",
    "        lower.append(char)\n",
    "    else:\n",
    "           upper.append(char)\n",
    "sorted_str = ''.join(lower + upper)\n",
    "print('Result:', sorted_str)\n",
    "        \n",
    "    "
   ]
  },
  {
   "cell_type": "code",
   "execution_count": null,
   "metadata": {},
   "outputs": [],
   "source": [
    "#Count all letters, digits, and special symbols from a given string\n",
    "def find(str):\n",
    "    char_count = 0\n",
    "    digit_count =0\n",
    "    symbol_count = 0\n",
    "    for char in str:\n",
    "        if char.isalpha():\n",
    "           char_count +=1\n",
    "        elif char.isdigit():\n",
    "            digit_count+=1\n",
    "        else:\n",
    "            symbol_count+=1\n",
    "    print(\"Chars =\", char_count, \"Digits =\", digit_count, \"Symbol =\", symbol_count)\n",
    "str = \"P@yn2at&#i5ve\"\n",
    "print(\"total counts of chars, Digits, and symbols \\n\")\n",
    "find(str)"
   ]
  },
  {
   "cell_type": "code",
   "execution_count": null,
   "metadata": {},
   "outputs": [],
   "source": [
    "input_str = \"bfmmk684$%\"\n",
    "total = 0\n",
    "count = 0\n",
    "for char in input_str:\n",
    "    if char.isdigit():\n",
    "        total +=int(char)\n",
    "        count+=1\n",
    "avg = total/count\n",
    "print(\"total is\",total, \"average is\",avg)"
   ]
  },
  {
   "cell_type": "code",
   "execution_count": null,
   "metadata": {},
   "outputs": [],
   "source": [
    "str1 = \"Emma is a data scientist who knows Python.Emma works at google.\"\n",
    "print(\"Original String is:\", str1)\n",
    "index = str1.rfind(\"Emma\")\n",
    "print(\"Last occurrence of Emma starts at index:\", index)"
   ]
  },
  {
   "cell_type": "code",
   "execution_count": null,
   "metadata": {},
   "outputs": [],
   "source": []
  }
 ],
 "metadata": {
  "kernelspec": {
   "display_name": "Python 3",
   "language": "python",
   "name": "python3"
  },
  "language_info": {
   "codemirror_mode": {
    "name": "ipython",
    "version": 3
   },
   "file_extension": ".py",
   "mimetype": "text/x-python",
   "name": "python",
   "nbconvert_exporter": "python",
   "pygments_lexer": "ipython3",
   "version": "3.12.2"
  }
 },
 "nbformat": 4,
 "nbformat_minor": 2
}
