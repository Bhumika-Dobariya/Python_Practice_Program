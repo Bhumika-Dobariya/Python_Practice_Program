{
 "cells": [
  {
   "cell_type": "code",
   "execution_count": null,
   "metadata": {},
   "outputs": [],
   "source": [
    "#length of string\n",
    "string = \"python\"\n",
    "length = len(string)\n",
    "print(length)"
   ]
  },
  {
   "cell_type": "code",
   "execution_count": null,
   "metadata": {},
   "outputs": [],
   "source": [
    "#string made of the first 2 and last 2 characters\n",
    "def string(str):\n",
    "  \n",
    "    if len(str) < 2:\n",
    "     \n",
    "        return ''\n",
    "    return str[0:2] + str[-2:]\n",
    "print(string('w3resource'))  \n",
    "print(string('w3'))          \n",
    "print(string('w')) "
   ]
  },
  {
   "cell_type": "code",
   "execution_count": null,
   "metadata": {},
   "outputs": [],
   "source": [
    "#replace\n",
    "string = \"restart\"\n",
    "char = string[0]\n",
    "res = string.replace(char,\"$\")\n",
    "a = char+res[1:]\n",
    "print(a)"
   ]
  },
  {
   "cell_type": "code",
   "execution_count": null,
   "metadata": {},
   "outputs": [],
   "source": [
    "#swap the first two characters of each string\n",
    "string1 = \"abc\"\n",
    "string2 = \"xyz\"\n",
    "\n",
    "a = string1[:2] + string2[2:]\n",
    "b = string2[:2] + string1[2:]\n",
    "print(a)\n",
    "print(b)"
   ]
  },
  {
   "cell_type": "code",
   "execution_count": null,
   "metadata": {},
   "outputs": [],
   "source": [
    "#tring already ends with 'ing', add 'ly' instead.\n",
    "String = \"abc\"\n",
    "length = len(String)\n",
    "if (length>2):\n",
    "    if(String[-3:]==\"ing\"):\n",
    "        String += \"ly\"\n",
    "    \n",
    "    else:\n",
    "        String +=\"ing\"\n",
    "print(String)"
   ]
  },
  {
   "cell_type": "code",
   "execution_count": null,
   "metadata": {},
   "outputs": [],
   "source": [
    "# find longest word\n",
    "def longest_word(list):\n",
    "   maxlength = 0   \n",
    "   for i in list:\n",
    "         length = len(i)\n",
    "         \n",
    "         if length>maxlength:\n",
    "             maxlength=length\n",
    "             \n",
    "   return maxlength\n",
    "    \n",
    "list = [\"ab\",\"abcdef\",\"abcde\",\"a\"]\n",
    "a=longest_word(list)\n",
    "print(a)\n",
    "\n"
   ]
  },
  {
   "cell_type": "code",
   "execution_count": null,
   "metadata": {},
   "outputs": [],
   "source": [
    "#remove the nth index character\n",
    "string = \"python\"\n",
    "n = int(input(\"enter number\"))\n",
    "First = string[:n]\n",
    "Last= string[n+1:]\n",
    "a = First+Last\n",
    "print(a)\n",
    "    "
   ]
  },
  {
   "cell_type": "code",
   "execution_count": null,
   "metadata": {},
   "outputs": [],
   "source": [
    "#string where the first and last chars have been exchanged\n",
    "string = \"bhumika\"\n",
    "\n",
    "a = string[-1:]+string[1:6]+string[0]\n",
    "print(a)"
   ]
  },
  {
   "cell_type": "code",
   "execution_count": null,
   "metadata": {},
   "outputs": [],
   "source": [
    "#print even character\n",
    "string = \"abcdefgh\"\n",
    "for i in string[0:-1:2]:\n",
    "    print(i,end=\"\")     "
   ]
  },
  {
   "cell_type": "code",
   "execution_count": null,
   "metadata": {},
   "outputs": [],
   "source": [
    "#print odd character\n",
    "string = \"abcdefgh\"\n",
    "length = len(string)\n",
    "for i in range(length):\n",
    "    if(i%2!=0):\n",
    "       print(string[i],end=\"\")"
   ]
  },
  {
   "cell_type": "code",
   "execution_count": null,
   "metadata": {},
   "outputs": [],
   "source": [
    "# count the occurrences of each word in a given sentence\n",
    "string = \"abcdefgh\"\n",
    "count = 0\n",
    "length = len(string)\n",
    "for i in range(length):\n",
    "     i+=1\n",
    "print(i)"
   ]
  },
  {
   "cell_type": "code",
   "execution_count": null,
   "metadata": {},
   "outputs": [],
   "source": [
    "#find lowercase and upercase\n",
    "string = input(\"enter your sTRING\")\n",
    "lower = 0\n",
    "upper = 0\n",
    "for i in string:\n",
    "    if i .islower():\n",
    "        lower +=1\n",
    "    elif i .isupper():\n",
    "        upper +=1\n",
    "print(\"lower =\", lower)\n",
    "print(\"upper \", upper)"
   ]
  },
  {
   "cell_type": "code",
   "execution_count": null,
   "metadata": {},
   "outputs": [],
   "source": [
    "#Sort Words in Alphabetic Order\n",
    "string = input(\"enter string\")\n",
    "a = string .split()\n",
    "a.sort()\n",
    "for i in a:\n",
    "    print(i)"
   ]
  },
  {
   "cell_type": "code",
   "execution_count": null,
   "metadata": {},
   "outputs": [],
   "source": [
    "#count Uppercase, Lowercase, special characters and numeric values in a given string.\n",
    "string = \"bghuMlik1245^&*\"\n",
    "lower =0\n",
    "upper =0\n",
    "char_count = 0\n",
    "digit_count = 0\n",
    "speci_symbol = 0\n",
    "\n",
    "for char in string:\n",
    "    if char.islower():\n",
    "        lower += 1\n",
    "    elif char.isupper():\n",
    "         upper += 1\n",
    "    elif char.isdigit():\n",
    "        digit_count += 1\n",
    "    else:\n",
    "        speci_symbol += 1\n",
    " \n",
    " \n",
    "print(\"lower_case\",lower)  \n",
    "print(\"upper_case\",upper)    \n",
    "print(\"digit_count =\",digit_count)\n",
    "print(\"speci_symbol =\",speci_symbol)"
   ]
  },
  {
   "cell_type": "code",
   "execution_count": null,
   "metadata": {},
   "outputs": [],
   "source": [
    "#sum of the digits in a given string\n",
    "string = \"bg2h5uM123lik124\"\n",
    "digit =0\n",
    "sum = 0\n",
    "for i in string:\n",
    "    if i .isdigit():\n",
    "        digit+=1\n",
    "        sum +=int(i)\n",
    "print(\"sum\",sum)"
   ]
  },
  {
   "cell_type": "code",
   "execution_count": null,
   "metadata": {},
   "outputs": [],
   "source": [
    "#remove duplicate characters from a given string\n",
    "def remove_duplicates(input_string):\n",
    "    result = \"\"\n",
    "    for char in input_string:\n",
    "        if char not in result:\n",
    "            result += char\n",
    "    return result\n",
    "print(remove_duplicates(\"rejoice\"))                                        \n",
    "    "
   ]
  },
  {
   "cell_type": "code",
   "execution_count": null,
   "metadata": {},
   "outputs": [],
   "source": [
    "# capitalize the first and last letters of each word in a given string.\n",
    "string = \"rejoice\"\n",
    "a = string[0].upper()\n",
    "\n",
    "b = string[-1].upper()\n",
    "\n",
    "\n",
    "res = a + string[1:-2]+b\n",
    "print(res)\n",
    "   "
   ]
  }
 ],
 "metadata": {
  "kernelspec": {
   "display_name": "Python 3",
   "language": "python",
   "name": "python3"
  },
  "language_info": {
   "codemirror_mode": {
    "name": "ipython",
    "version": 3
   },
   "file_extension": ".py",
   "mimetype": "text/x-python",
   "name": "python",
   "nbconvert_exporter": "python",
   "pygments_lexer": "ipython3",
   "version": "3.12.2"
  }
 },
 "nbformat": 4,
 "nbformat_minor": 2
}
