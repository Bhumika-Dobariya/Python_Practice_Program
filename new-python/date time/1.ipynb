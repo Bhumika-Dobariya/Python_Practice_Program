{
 "cells": [
  {
   "cell_type": "code",
   "execution_count": null,
   "metadata": {},
   "outputs": [],
   "source": [
    "import datetime\n",
    "#datetime\n",
    "a = datetime.datetime.now()\n",
    "print(a)\n",
    "#date\n",
    "a = datetime.date.today()\n",
    "print(a)\n",
    "\n",
    "#2nd\n",
    "from datetime import date\n",
    "a = date.today()\n",
    "print(a)\n",
    "\n",
    "import datetime\n",
    "a= datetime.datetime(2023,2,10)\n",
    "print(a)"
   ]
  },
  {
   "cell_type": "code",
   "execution_count": null,
   "metadata": {},
   "outputs": [],
   "source": [
    "#time\n",
    "from datetime import datetime\n",
    "a = datetime.now()\n",
    "current_time = a.strftime(\"%H:%S:%M\")\n",
    "\n",
    "print(current_time)"
   ]
  }
 ],
 "metadata": {
  "kernelspec": {
   "display_name": "Python 3",
   "language": "python",
   "name": "python3"
  },
  "language_info": {
   "codemirror_mode": {
    "name": "ipython",
    "version": 3
   },
   "file_extension": ".py",
   "mimetype": "text/x-python",
   "name": "python",
   "nbconvert_exporter": "python",
   "pygments_lexer": "ipython3",
   "version": "3.12.2"
  }
 },
 "nbformat": 4,
 "nbformat_minor": 2
}
