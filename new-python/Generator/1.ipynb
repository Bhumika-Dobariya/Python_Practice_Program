{
 "cells": [
  {
   "cell_type": "code",
   "execution_count": null,
   "metadata": {},
   "outputs": [],
   "source": [
    "#generators are functions that return sequence of value.\n",
    "# We use yield statement to return value from function"
   ]
  },
  {
   "cell_type": "code",
   "execution_count": null,
   "metadata": {},
   "outputs": [],
   "source": [
    "def display(a,b):\n",
    "    yield a\n",
    "    yield b\n",
    "result = display(10,20)\n",
    "print(result)\n",
    "lst = list(result)\n",
    "print(lst)"
   ]
  },
  {
   "cell_type": "code",
   "execution_count": null,
   "metadata": {},
   "outputs": [],
   "source": [
    "def fun_return():\n",
    "    return 1\n",
    "    return 2\n",
    "    return 3\n",
    "fun_return()"
   ]
  },
  {
   "cell_type": "code",
   "execution_count": null,
   "metadata": {},
   "outputs": [],
   "source": [
    "def display(a,b):\n",
    "    yield a\n",
    "    yield b\n",
    "result = display(10,20)\n",
    "print(next(result))\n",
    "print(next(result))\n"
   ]
  },
  {
   "cell_type": "code",
   "execution_count": null,
   "metadata": {},
   "outputs": [],
   "source": [
    "def show(a,b):\n",
    "    while a<=b:\n",
    "        yield a\n",
    "        a+=1\n",
    "result = show(1,5)\n",
    "print(result)\n",
    "print(next(result))\n",
    "print(next(result))\n",
    "print(next(result))"
   ]
  }
 ],
 "metadata": {
  "kernelspec": {
   "display_name": "Python 3",
   "language": "python",
   "name": "python3"
  },
  "language_info": {
   "codemirror_mode": {
    "name": "ipython",
    "version": 3
   },
   "file_extension": ".py",
   "mimetype": "text/x-python",
   "name": "python",
   "nbconvert_exporter": "python",
   "pygments_lexer": "ipython3",
   "version": "3.12.2"
  }
 },
 "nbformat": 4,
 "nbformat_minor": 2
}
