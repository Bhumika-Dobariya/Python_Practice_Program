{
 "cells": [
  {
   "cell_type": "code",
   "execution_count": null,
   "metadata": {},
   "outputs": [],
   "source": [
    "#factorial\n",
    "def find_factorial(n):\n",
    "    s =1\n",
    "    for i in range(1,n+1):\n",
    "        s *=i\n",
    "        yield s\n",
    "      \n",
    "n= int(input(\"enter number\"))\n",
    "result = find_factorial(n)\n",
    "\n",
    "for num in result:\n",
    "    print(num)\n",
    "   "
   ]
  },
  {
   "cell_type": "code",
   "execution_count": null,
   "metadata": {},
   "outputs": [],
   "source": [
    "#cube\n",
    "def cube(n):\n",
    "    for i in range(1,n+1):\n",
    "        cube = i*i*i\n",
    "        yield cube\n",
    "a = cube(5)\n",
    "for num in a:\n",
    "    print(num)"
   ]
  },
  {
   "cell_type": "code",
   "execution_count": null,
   "metadata": {},
   "outputs": [],
   "source": [
    "#fibonacci number\n",
    "def fib(num):\n",
    "    n1,n2 = 0,1\n",
    "    while n1<num:\n",
    "        yield n1\n",
    "        n1 , n2 = n2 , n1+n2\n",
    "        \n",
    "x = fib(5)\n",
    "for i in x:  \n",
    "    print(i)"
   ]
  },
  {
   "cell_type": "code",
   "execution_count": null,
   "metadata": {},
   "outputs": [],
   "source": [
    "# generator expression\n",
    "generator = (i*5 for i in range(5) if(i%2==0))\n",
    "\n",
    "for i in generator:\n",
    "    print(i)\n"
   ]
  },
  {
   "cell_type": "code",
   "execution_count": null,
   "metadata": {},
   "outputs": [],
   "source": [
    "def simple():\n",
    " for i in range(10):\n",
    "    if(i%2==0):\n",
    "        yield i\n",
    "for i in simple():\n",
    "    print(i)"
   ]
  },
  {
   "cell_type": "code",
   "execution_count": null,
   "metadata": {},
   "outputs": [],
   "source": [
    "def simple():\n",
    " for i in range(10):\n",
    "        return i\n",
    "print(simple())\n"
   ]
  },
  {
   "cell_type": "code",
   "execution_count": null,
   "metadata": {},
   "outputs": [],
   "source": [
    "list = [1,2,3,4,5]\n",
    "z = [x**3 for x in list]\n",
    "a= (x**3 for x in list)\n",
    "print(a)\n",
    "print(z)"
   ]
  },
  {
   "cell_type": "code",
   "execution_count": null,
   "metadata": {},
   "outputs": [],
   "source": []
  },
  {
   "cell_type": "code",
   "execution_count": null,
   "metadata": {},
   "outputs": [],
   "source": [
    "list_instance = [1, 2, 3, 4]\n",
    "\n",
    "# convert the list to an iterator\n",
    "iterator = iter(list_instance)\n",
    "\n",
    "# return items one at a time\n",
    "print(next(iterator))\n",
    "print(next(iterator))\n",
    "print(next(iterator))\n",
    "print(next(iterator))"
   ]
  },
  {
   "cell_type": "code",
   "execution_count": null,
   "metadata": {},
   "outputs": [],
   "source": [
    "def factors(n):\n",
    "  for val in range(1, n+1):\n",
    "      if n % val == 0:\n",
    "          yield val\n",
    "         \n",
    "factors_of_20 = factors(20)\n",
    "print(next(factors_of_20))\n",
    "print(next(factors_of_20))\n",
    "print(next(factors_of_20))\n",
    "print(next(factors_of_20))"
   ]
  },
  {
   "cell_type": "code",
   "execution_count": null,
   "metadata": {},
   "outputs": [],
   "source": [
    "class MyIterator:\n",
    "    def __init__(self, data):\n",
    "        self.data = data\n",
    "        self.index = 0\n",
    "\n",
    "    def __iter__(self):\n",
    "        return self\n",
    "\n",
    "    def __next__(self):\n",
    "        if self.index >= len(self.data):\n",
    "            raise StopIteration\n",
    "        value = self.data[self.index]\n",
    "        self.index += 1\n",
    "        return value\n",
    "\n",
    "# Using the iterator\n",
    "my_list = [1, 2, 3, 4, 5]\n",
    "my_iterator = MyIterator(my_list)\n",
    "for item in my_iterator:\n",
    "    print(item)"
   ]
  }
 ],
 "metadata": {
  "kernelspec": {
   "display_name": "Python 3",
   "language": "python",
   "name": "python3"
  },
  "language_info": {
   "codemirror_mode": {
    "name": "ipython",
    "version": 3
   },
   "file_extension": ".py",
   "mimetype": "text/x-python",
   "name": "python",
   "nbconvert_exporter": "python",
   "pygments_lexer": "ipython3",
   "version": "3.12.2"
  }
 },
 "nbformat": 4,
 "nbformat_minor": 2
}
