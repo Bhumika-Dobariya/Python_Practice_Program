{
 "cells": [
  {
   "cell_type": "code",
   "execution_count": null,
   "metadata": {},
   "outputs": [],
   "source": [
    "#factorial\n",
    "def find_factorial(n):\n",
    "    s =1\n",
    "    for i in range(1,n+1):\n",
    "        s *=i\n",
    "        yield s\n",
    "      \n",
    "n= int(input(\"enter number\"))\n",
    "result = find_factorial(n)\n",
    "\n",
    "for num in result:\n",
    "    print(num)\n",
    "   "
   ]
  },
  {
   "cell_type": "code",
   "execution_count": null,
   "metadata": {},
   "outputs": [],
   "source": [
    "#cube\n",
    "def cube(n):\n",
    "    for i in range(1,n+1):\n",
    "        cube = i*i*i\n",
    "        yield cube\n",
    "a = cube(5)\n",
    "for num in a:\n",
    "    print(num)"
   ]
  },
  {
   "cell_type": "code",
   "execution_count": null,
   "metadata": {},
   "outputs": [],
   "source": [
    "#fibonacci number\n",
    "def fib(num):\n",
    "    n1,n2 = 0,1\n",
    "    while n1<num:\n",
    "        yield n1\n",
    "        n1 , n2 = n2 , n1+n2\n",
    "        \n",
    "x = fib(5)\n",
    "for i in x:  \n",
    "    print(i)"
   ]
  },
  {
   "cell_type": "code",
   "execution_count": 14,
   "metadata": {},
   "outputs": [
    {
     "name": "stdout",
     "output_type": "stream",
     "text": [
      "0\n",
      "10\n",
      "20\n"
     ]
    }
   ],
   "source": [
    "# generator expression\n",
    "generator = (i*5 for i in range(5) if(i%2==0))\n",
    "\n",
    "for i in generator:\n",
    "    print(i)\n"
   ]
  },
  {
   "cell_type": "code",
   "execution_count": 18,
   "metadata": {},
   "outputs": [
    {
     "name": "stdout",
     "output_type": "stream",
     "text": [
      "0\n",
      "2\n",
      "4\n",
      "6\n",
      "8\n"
     ]
    }
   ],
   "source": [
    "def simple():\n",
    " for i in range(10):\n",
    "    if(i%2==0):\n",
    "        yield i\n",
    "for i in simple():\n",
    "    print(i)"
   ]
  },
  {
   "cell_type": "code",
   "execution_count": 19,
   "metadata": {},
   "outputs": [
    {
     "name": "stdout",
     "output_type": "stream",
     "text": [
      "<generator object <genexpr> at 0x0000021101D2DF20>\n",
      "[1, 8, 27, 64, 125]\n"
     ]
    }
   ],
   "source": [
    "list = [1,2,3,4,5]\n",
    "z = [x**3 for x in list]\n",
    "a= (x**3 for x in list)\n",
    "print(a)\n",
    "print(z)"
   ]
  }
 ],
 "metadata": {
  "kernelspec": {
   "display_name": "Python 3",
   "language": "python",
   "name": "python3"
  },
  "language_info": {
   "codemirror_mode": {
    "name": "ipython",
    "version": 3
   },
   "file_extension": ".py",
   "mimetype": "text/x-python",
   "name": "python",
   "nbconvert_exporter": "python",
   "pygments_lexer": "ipython3",
   "version": "3.12.2"
  }
 },
 "nbformat": 4,
 "nbformat_minor": 2
}
