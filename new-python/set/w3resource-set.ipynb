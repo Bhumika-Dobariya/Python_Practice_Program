{
 "cells": [
  {
   "cell_type": "code",
   "execution_count": null,
   "metadata": {},
   "outputs": [],
   "source": [
    "# create a set\n",
    "set = {'a','b','c'}\n",
    "print(set)"
   ]
  },
  {
   "cell_type": "code",
   "execution_count": null,
   "metadata": {},
   "outputs": [],
   "source": [
    "#iterate over sets.\n",
    "set = {1,2,3,4,5}\n",
    "for i in set:\n",
    "    print(i)"
   ]
  },
  {
   "cell_type": "code",
   "execution_count": null,
   "metadata": {},
   "outputs": [],
   "source": [
    "#add member(s) to a set.\n",
    "set = {1,2,3,4,5}\n",
    "set.add(6)\n",
    "print(set)"
   ]
  },
  {
   "cell_type": "code",
   "execution_count": null,
   "metadata": {},
   "outputs": [],
   "source": [
    "#remove item(s) from a given set.\n",
    "set = {'a','b','c','d'}\n",
    "set.pop()\n",
    "print(set)"
   ]
  },
  {
   "cell_type": "code",
   "execution_count": null,
   "metadata": {},
   "outputs": [],
   "source": [
    "#remove an item from a set if it is present in the set.\n",
    "set = {'a','b','c','d'}\n",
    "remove = 'a'\n",
    "if remove in set:\n",
    "    set.remove(remove)\n",
    "print(set)"
   ]
  },
  {
   "cell_type": "code",
   "execution_count": null,
   "metadata": {},
   "outputs": [],
   "source": [
    "#create an intersection of sets.\n",
    "set1 = {1,2,3,4,5}\n",
    "set2 = {1,2,3,7,8}\n",
    "a = set1.intersection(set2)\n",
    "print(a)"
   ]
  },
  {
   "cell_type": "code",
   "execution_count": null,
   "metadata": {},
   "outputs": [],
   "source": [
    "#create a union of sets.\n",
    "set1 = {1,2,3,4,5}\n",
    "set2 = {1,2,3,7,8}\n",
    "a = set1.union(set2)\n",
    "print(a)"
   ]
  },
  {
   "cell_type": "code",
   "execution_count": null,
   "metadata": {},
   "outputs": [],
   "source": [
    "#create set difference.\n",
    "set1 = {1,2,3,4,5}\n",
    "set2 = {1,2,3,7,8}\n",
    "a = set1.difference(set2)\n",
    "print(a)"
   ]
  },
  {
   "cell_type": "code",
   "execution_count": null,
   "metadata": {},
   "outputs": [],
   "source": [
    "#symmetric difference\n",
    "set1 = {1,2,3}\n",
    "set2 = {1,2,3,7,8}\n",
    "is_subset =set1.issubset(set2)\n",
    "if(is_subset):\n",
    "    print(\"set1 is a subset of set2.\")\n",
    "else:\n",
    "    print(\"set1 is not a subset of set2.\")"
   ]
  },
  {
   "cell_type": "code",
   "execution_count": null,
   "metadata": {},
   "outputs": [],
   "source": [
    "#shallow copy of sets.\n",
    "set = {1,2,3,4,5}\n",
    "shallow_copy = set.copy()\n",
    "print(\"Original Set:\", set)\n",
    "set.add(6)\n",
    "print(\"Shallow Copy:\", shallow_copy)\n",
    "#deep copy\n",
    "\n",
    "deep_copy = {x for x in set}\n",
    "\n",
    "print(\"Deep Copy:\", deep_copy)"
   ]
  },
  {
   "cell_type": "code",
   "execution_count": null,
   "metadata": {},
   "outputs": [],
   "source": [
    "import copy\n",
    "\n",
    "\n",
    "original_set = {1, 2, 3, 4, 5}\n",
    "\n",
    "\n",
    "shallow_copy = original_set.copy()\n",
    "\n",
    "deep_copy = copy.deepcopy(original_set)\n",
    "original_set.add(6)\n",
    "\n",
    "# Print the original set and copies\n",
    "print(\"Original Set:\", original_set)\n",
    "print(\"Shallow Copy:\", shallow_copy)\n",
    "print(\"Deep Copy:\", deep_copy)"
   ]
  },
  {
   "cell_type": "code",
   "execution_count": null,
   "metadata": {},
   "outputs": [],
   "source": [
    "# remove all elements from a given set.\n",
    "set1 = {1,2,3,7,8,1,1}\n",
    "set1.clear()\n",
    "print(set1)"
   ]
  },
  {
   "cell_type": "code",
   "execution_count": null,
   "metadata": {},
   "outputs": [],
   "source": [
    "#frozenset\n",
    "set1 = {1,2,3,4,5}\n",
    "set2 = {4,5,6,7,8}\n",
    "\n",
    "frozenset1  = frozenset(set1)\n",
    "frozenset2 = frozenset(set2)\n",
    "print(frozenset1)\n",
    "print(frozenset2)\n",
    "\n",
    "# Try to modify frozenset (will raise an error)\n",
    "try:\n",
    "    frozenset1.add(6)\n",
    "except AttributeError as e:\n",
    "    print(\"Error:\", e)\n",
    "\n",
    "# Perform set operations with frozensets\n",
    "print(\"Union:\", frozenset1.union(frozenset2))\n",
    "print(\"Intersection:\", frozenset1.intersection(frozenset2))\n",
    "print(\"Difference:\", frozenset1.difference(frozenset2))\n",
    "print(\"Symmetric Difference:\", frozenset1.symmetric_difference(frozenset2))"
   ]
  },
  {
   "cell_type": "code",
   "execution_count": null,
   "metadata": {},
   "outputs": [],
   "source": [
    "#find the maximum and minimum values in a set.\n",
    "my_set = {10, 5, 20, 8, 15}\n",
    "max_value = max(my_set)\n",
    "min_value = min(my_set)\n",
    "\n",
    "print(\"Maximum value:\", max_value)\n",
    "print(\"Minimum value:\", min_value)\n"
   ]
  },
  {
   "cell_type": "code",
   "execution_count": null,
   "metadata": {},
   "outputs": [],
   "source": [
    "#find the length of a set.\n",
    "set = {10,20,30,40,50}\n",
    "length = len(set)\n",
    "print(length)"
   ]
  },
  {
   "cell_type": "code",
   "execution_count": null,
   "metadata": {},
   "outputs": [],
   "source": [
    "#check if a given value is present in a set or not\n",
    "set = {5,10,15,20}\n",
    "value = 50\n",
    "if value in set:\n",
    "    print(\"value is present\")\n",
    "else:\n",
    "    print(\"value is absent\")"
   ]
  },
  {
   "cell_type": "code",
   "execution_count": null,
   "metadata": {},
   "outputs": [],
   "source": [
    "#check if two given sets have no elements in common.\n",
    "set1 = {1,2,3,4}\n",
    "set2 = {2,30,5,6}\n",
    "for i in set1:\n",
    "    for j in set2:\n",
    "        if i==j:\n",
    "            print(\"common value\",i)\n",
    "else:\n",
    "    print(\"not common value\")"
   ]
  },
  {
   "cell_type": "code",
   "execution_count": null,
   "metadata": {},
   "outputs": [],
   "source": [
    "# check if a given set is a superset of itself and a superset of another given set.\n",
    "main_set = {1, 2, 3, 4, 5}\n",
    "other_set = {1, 2, 3}\n",
    "\n",
    "is_superset_of_self = main_set.issuperset(main_set)\n",
    "\n",
    "is_superset_of_other = main_set.issuperset(other_set)\n",
    "\n",
    "print(\"Is the set a superset of itself?\", is_superset_of_self)\n",
    "print(\"Is the set a superset of the other set?\", is_superset_of_other)\n"
   ]
  },
  {
   "cell_type": "code",
   "execution_count": null,
   "metadata": {},
   "outputs": [],
   "source": [
    "#find elements in a given set that are not in another set.\n",
    "set1 = {1, 2, 3, 4, 5}\n",
    "set2 = {3, 4, 5, 6, 7}\n",
    "\n",
    "elements_not_in_set2 = set1 - set2\n",
    "\n",
    "print(\"Elements in set1 that are not in set2:\", elements_not_in_set2)\n"
   ]
  },
  {
   "cell_type": "code",
   "execution_count": null,
   "metadata": {},
   "outputs": [],
   "source": [
    "#remove the intersection of a second set with a first set.\n",
    "set1 = {1, 2, 3, 4, 5}\n",
    "set2 = {3, 4, 5, 6, 7}\n",
    "a = set1-set2\n",
    "print(a)"
   ]
  },
  {
   "cell_type": "code",
   "execution_count": null,
   "metadata": {},
   "outputs": [],
   "source": [
    "# finds all pairs of elements in a list whose sum is equal to a given value.\n",
    "list = [1,2,5,6,3,8,4]\n",
    "value = 9\n",
    "pairs = []\n",
    "\n",
    "for i in range(len(list)):\n",
    "    for j in range(i+1,len(list)):\n",
    "        if(list[i]+list[j]==value):\n",
    "            pairs.append((list[i],list[j]))  \n",
    "print (value,pairs)"
   ]
  },
  {
   "cell_type": "code",
   "execution_count": null,
   "metadata": {},
   "outputs": [],
   "source": [
    "#find the missing numbers in the second set as compared to the first and vice versa. \n",
    "first_set = {1, 2, 3, 4, 5}\n",
    "second_set = {3, 4, 5, 6, 7}\n",
    "\n",
    "missing_in_second = first_set - second_set\n",
    "missing_in_first = second_set - first_set\n",
    "\n",
    "print(\"Missing numbers in the second set :\", missing_in_second)\n",
    "print(\"Missing numbers in the first set :\", missing_in_first)\n"
   ]
  },
  {
   "cell_type": "code",
   "execution_count": null,
   "metadata": {},
   "outputs": [],
   "source": [
    "#remove all duplicates from a given list of strings and return a list of unique strings. \n",
    "list = [1,2,3,4,2,3,5,6]\n",
    "set = set(list)\n",
    "print(set)"
   ]
  },
  {
   "cell_type": "code",
   "execution_count": null,
   "metadata": {},
   "outputs": [],
   "source": [
    "#find the third largest number from a given list of numbers\n",
    "list = [1,2,5,3,8,9,7]\n",
    "list.sort()\n",
    "print(list)\n",
    "print(list[-3])"
   ]
  },
  {
   "cell_type": "code",
   "execution_count": null,
   "metadata": {},
   "outputs": [],
   "source": [
    "#find all the anagrams in a given list of strings and then group them together\n",
    "words = [\"listen\", \"silent\", \"hello\", \"world\", \"dog\", \"god\", \"cat\", \"act\"]\n",
    "\n",
    "anagram_groups = {}\n",
    "\n",
    "for word in words:\n",
    "    sorted_word = ''.join(sorted(word))\n",
    "    if sorted_word in anagram_groups:\n",
    "        anagram_groups[sorted_word].append(word)\n",
    "    else:\n",
    "        anagram_groups[sorted_word] = [word]\n",
    "\n",
    "for group in anagram_groups.values():\n",
    "    print(group)\n"
   ]
  }
 ],
 "metadata": {
  "kernelspec": {
   "display_name": "Python 3",
   "language": "python",
   "name": "python3"
  },
  "language_info": {
   "codemirror_mode": {
    "name": "ipython",
    "version": 3
   },
   "file_extension": ".py",
   "mimetype": "text/x-python",
   "name": "python",
   "nbconvert_exporter": "python",
   "pygments_lexer": "ipython3",
   "version": "3.12.2"
  }
 },
 "nbformat": 4,
 "nbformat_minor": 2
}
