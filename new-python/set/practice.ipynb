{
 "cells": [
  {
   "cell_type": "code",
   "execution_count": 1,
   "metadata": {},
   "outputs": [
    {
     "name": "stdout",
     "output_type": "stream",
     "text": [
      "{1, 2, 3, 4, 5, 6}\n"
     ]
    }
   ],
   "source": [
    "#Create two sets of integers and find their union.\n",
    "set1 = {1,2,3,4,5,6}\n",
    "set2 = {5,6,7,8,9}\n",
    "set1.union(set2)\n",
    "print(set1)"
   ]
  },
  {
   "cell_type": "code",
   "execution_count": 3,
   "metadata": {},
   "outputs": [
    {
     "name": "stdout",
     "output_type": "stream",
     "text": [
      "{5, 6}\n"
     ]
    }
   ],
   "source": [
    "#Given two sets of strings, find their intersection.\n",
    "\n",
    "set1 = {1,2,3,4,5,6}\n",
    "set2 = {5,6,7,8,9}\n",
    "a= set1.intersection(set2)\n",
    "print(a)"
   ]
  },
  {
   "cell_type": "code",
   "execution_count": 7,
   "metadata": {},
   "outputs": [
    {
     "name": "stdout",
     "output_type": "stream",
     "text": [
      "{1, 2, 3, 4, 7, 8, 9}\n"
     ]
    }
   ],
   "source": [
    "#Write a function to remove duplicates from a list and return the unique elements as a set.\n",
    "\n",
    "def remove_duplicate(n):\n",
    "    new_list = set(n)\n",
    "    return new_list\n",
    "\n",
    "\n",
    "list = [1,2,3,4,1,2,7,8,9]\n",
    "result = remove_duplicate(list)\n",
    "print(result)"
   ]
  },
  {
   "cell_type": "code",
   "execution_count": 11,
   "metadata": {},
   "outputs": [
    {
     "name": "stdout",
     "output_type": "stream",
     "text": [
      "True\n"
     ]
    }
   ],
   "source": [
    "#Check if a given set is a subset of another set.\n",
    "\n",
    "def check_subset(set1,set2):\n",
    "    if set1 .issubset(set2):\n",
    "        return True\n",
    "    else:\n",
    "        return False\n",
    "\n",
    "set1 = {1,2,3}\n",
    "set2 = {1,2,3,4,5}\n",
    "\n",
    "result = check_subset(set1,set2)\n",
    "print(result)"
   ]
  },
  {
   "cell_type": "code",
   "execution_count": 13,
   "metadata": {},
   "outputs": [
    {
     "name": "stdout",
     "output_type": "stream",
     "text": [
      "{1, 2, 3, 4, 7, 8, 9}\n"
     ]
    }
   ],
   "source": [
    "#Find the symmetric difference between two sets.\n",
    "\n",
    "set1 = {1,2,3,4,5,6}\n",
    "set2 = {5,6,7,8,9}\n",
    "\n",
    "a = set1.symmetric_difference(set2)\n",
    "print(a)"
   ]
  },
  {
   "cell_type": "code",
   "execution_count": 47,
   "metadata": {},
   "outputs": [
    {
     "name": "stdout",
     "output_type": "stream",
     "text": [
      "difference {1, 4, 6}\n",
      "difference_update {1, 4, 6}\n",
      "union {1, 2, 3, 4, 5, 6, 8, 9}\n",
      "unique {1, 2, 3, 4, 5}\n",
      "intersection {5, 6}\n",
      "intersection_update {5, 6}\n",
      "symmetric-difference {1, 2, 3, 4, 7, 8, 9}\n",
      "symmetric-difference update {1, 2, 3, 4, 7, 8, 9}\n",
      "yes\n",
      "yes\n",
      "[3, 4, 6, 10, 12, 15]\n",
      "14\n",
      "2\n"
     ]
    }
   ],
   "source": [
    "set1 = {1,2,3,4,5,6}\n",
    "set2 = {5,2,3,8,9}\n",
    "\n",
    "#difference method\n",
    "result_difference = set1.difference(set2)\n",
    "print(\"difference\",result_difference)\n",
    "\n",
    "set1 = {1,2,3,4,5,6}\n",
    "set2 = {5,2,3,8,9}\n",
    "\n",
    "#difference_update method\n",
    "set1.difference_update(set2)\n",
    "print(\"difference_update\",set1)\n",
    "\n",
    "#union method\n",
    "set1 = {1,2,3,4,5,6}\n",
    "set2 = {5,2,3,8,9}\n",
    "a = set1.union(set2)\n",
    "print(\"union\",a)\n",
    "\n",
    "#unique method\n",
    "my_set = {1, 2, 2, 3, 3, 4, 5}\n",
    "print(\"unique\",my_set) \n",
    "\n",
    "#intersection method\n",
    "set1 = {1,2,3,4,5,6}\n",
    "set2 = {5,6,7,8,9}\n",
    "a= set1.intersection(set2)\n",
    "print(\"intersection\",a)\n",
    "\n",
    "##intersection_update method\n",
    "set1 = {1,2,3,4,5,6}\n",
    "set2 = {5,6,7,8,9}\n",
    "set1.intersection_update( set2)\n",
    "print(\"intersection_update\",set1)\n",
    "\n",
    "#symmetric-difference method\n",
    "set1 = {1,2,3,4,5,6}\n",
    "set2 = {5,6,7,8,9}\n",
    "result = set1.symmetric_difference(set2)\n",
    "print(\"symmetric-difference\",result)\n",
    "\n",
    "#symmetric-difference update method\n",
    "set1 = {1,2,3,4,5,6}\n",
    "set2 = {5,6,7,8,9}\n",
    "set1.symmetric_difference_update(set2)\n",
    "print(\"symmetric-difference update\",set1)\n",
    "\n",
    "#issubset\n",
    "set1 = {1,2,3,4,5,6}\n",
    "set2 = {5,6}\n",
    "if set2 .issubset(set1):\n",
    "    print(\"yes\")\n",
    "else:\n",
    "    print(\"no\")     \n",
    "    \n",
    "#is superset\n",
    "set1 = {1,2,3,4,5,6}\n",
    "set2 = {5,6}\n",
    "if set1 .issuperset(set2):\n",
    "    print(\"yes\")\n",
    "else:\n",
    "    print(\"no\")     \n",
    "\n",
    "#sorted method\n",
    "set1 = {10,12,3,4,15,6}\n",
    "a= sorted(set1 )\n",
    "print(a)\n",
    "\n",
    "set1 = {1,2,3,14,5,6}\n",
    "a = max(set1)\n",
    "print(a)\n",
    "\n",
    "set1 = {10,2,3,14,5,6}\n",
    "a = min(set1)\n",
    "print(a)"
   ]
  }
 ],
 "metadata": {
  "kernelspec": {
   "display_name": "Python 3",
   "language": "python",
   "name": "python3"
  },
  "language_info": {
   "codemirror_mode": {
    "name": "ipython",
    "version": 3
   },
   "file_extension": ".py",
   "mimetype": "text/x-python",
   "name": "python",
   "nbconvert_exporter": "python",
   "pygments_lexer": "ipython3",
   "version": "3.12.2"
  }
 },
 "nbformat": 4,
 "nbformat_minor": 2
}
