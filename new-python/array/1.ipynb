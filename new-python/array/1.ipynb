{
 "cells": [
  {
   "cell_type": "code",
   "execution_count": null,
   "metadata": {},
   "outputs": [],
   "source": [
    "#define an array in Python:\n",
    "import array as arr \n",
    "numbers = arr.array('i',[10,20,30])\n",
    "print(numbers)"
   ]
  },
  {
   "cell_type": "code",
   "execution_count": null,
   "metadata": {},
   "outputs": [],
   "source": [
    "##an array of floating point values\n",
    "from array import *\n",
    "numbers = array('d',[10.0,20.0,30.0])\n",
    "\n",
    "print(numbers)"
   ]
  },
  {
   "cell_type": "code",
   "execution_count": null,
   "metadata": {},
   "outputs": [],
   "source": [
    "#access each individual element in an array:\n",
    "import array as arr \n",
    "\n",
    "numbers = arr.array('i',[10,20,30])\n",
    "print(numbers[0])\n",
    "print(numbers[1]) \n",
    "print(numbers[2]) "
   ]
  },
  {
   "cell_type": "code",
   "execution_count": null,
   "metadata": {},
   "outputs": [],
   "source": [
    "import array as arr \n",
    "\n",
    "numbers = arr.array('i',[10,20,30])\n",
    "\n",
    "print(numbers[-1]) \n",
    "print(numbers[-2]) \n",
    "print(numbers[-3])"
   ]
  },
  {
   "cell_type": "code",
   "execution_count": null,
   "metadata": {},
   "outputs": [],
   "source": [
    "##search for the index of the value 10\n",
    "import array as arr \n",
    "numbers = arr.array('i',[10,20,30])\n",
    "print(numbers.index(10))\n"
   ]
  },
  {
   "cell_type": "code",
   "execution_count": null,
   "metadata": {},
   "outputs": [],
   "source": [
    "# use a simple for loop:\n",
    "import array as arr \n",
    "numbers = arr.array('i',[10,20,30])\n",
    "\n",
    "for number in numbers:\n",
    "    print(number)"
   ]
  },
  {
   "cell_type": "code",
   "execution_count": null,
   "metadata": {},
   "outputs": [],
   "source": [
    "#use range function\n",
    "import array as arr  \n",
    "\n",
    "values = arr.array('i',[10,20,30])\n",
    "for value in range(len(values)):\n",
    "    print(values[value])"
   ]
  },
  {
   "cell_type": "code",
   "execution_count": null,
   "metadata": {},
   "outputs": [],
   "source": [
    "#use slicing\n",
    "import array as arr \n",
    "\n",
    "numbers = arr.array('i',[10,20,30])\n",
    "print(numbers[:2])"
   ]
  },
  {
   "cell_type": "code",
   "execution_count": null,
   "metadata": {},
   "outputs": [],
   "source": [
    "##change the first element\n",
    "import array as arr \n",
    "\n",
    "numbers = arr.array('i',[10,20,30])\n",
    "numbers[0] = 40"
   ]
  },
  {
   "cell_type": "code",
   "execution_count": null,
   "metadata": {},
   "outputs": [],
   "source": [
    "#Add a New Value to an Array\n",
    "import array as arr \n",
    "numbers = arr.array('i',[10,20,30])\n",
    "numbers.append(40)\n",
    "\n",
    "print(numbers)"
   ]
  },
  {
   "cell_type": "code",
   "execution_count": null,
   "metadata": {},
   "outputs": [],
   "source": [
    "#use extend method\n",
    "import array as arr \n",
    "numbers = arr.array('i',[10,20,30])\n",
    "\n",
    "numbers.extend([40,50,60])\n",
    "\n",
    "print(numbers)"
   ]
  },
  {
   "cell_type": "code",
   "execution_count": null,
   "metadata": {},
   "outputs": [],
   "source": [
    "#Remove a Value from an Array\n",
    "import array as arr \n",
    "\n",
    "numbers = arr.array('i',[10,20,30,10,20])\n",
    "numbers.remove(10)\n",
    "print(numbers)"
   ]
  }
 ],
 "metadata": {
  "language_info": {
   "name": "python"
  }
 },
 "nbformat": 4,
 "nbformat_minor": 2
}
