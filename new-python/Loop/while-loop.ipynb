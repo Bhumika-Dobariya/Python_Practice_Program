{
 "cells": [
  {
   "cell_type": "code",
   "execution_count": null,
   "metadata": {},
   "outputs": [],
   "source": [
    "#even number\n",
    "i=2\n",
    "while i<=10:\n",
    "        print('even',i)\n",
    "        i+=2\n",
    "       "
   ]
  },
  {
   "cell_type": "code",
   "execution_count": null,
   "metadata": {},
   "outputs": [],
   "source": [
    "#odd number\n",
    "i=1\n",
    "while i<=10:\n",
    "        print('odd',i)\n",
    "        i+=2"
   ]
  },
  {
   "cell_type": "code",
   "execution_count": null,
   "metadata": {},
   "outputs": [],
   "source": [
    "\n",
    "#natural number\n",
    "i=1\n",
    "while i<=10:\n",
    "        print('odd',i)\n",
    "        i+=1"
   ]
  },
  {
   "cell_type": "code",
   "execution_count": null,
   "metadata": {},
   "outputs": [],
   "source": [
    "#square\n",
    "i= 1\n",
    "while i<=10:\n",
    "  square = i*i\n",
    "  i+=1\n",
    "  print(\"square of {i}is\",square)"
   ]
  },
  {
   "cell_type": "code",
   "execution_count": null,
   "metadata": {},
   "outputs": [],
   "source": [
    "\n",
    "#sum of digit\n",
    "num = int(input(\"enter your number\"))\n",
    "i =1\n",
    "sum =0\n",
    "while i<=num:\n",
    "    sum = sum+i\n",
    "    i+=1\n",
    "    print(\"sum\",sum)"
   ]
  },
  {
   "cell_type": "code",
   "execution_count": null,
   "metadata": {},
   "outputs": [],
   "source": [
    "#reverse number\n",
    "num = int(input(\"enter your number\"))\n",
    "r =0\n",
    "while num>0:\n",
    "    reverse = r*10 + num%10\n",
    "    num = num//10\n",
    "    print('reverse number is',reverse)"
   ]
  },
  {
   "cell_type": "code",
   "execution_count": null,
   "metadata": {},
   "outputs": [],
   "source": [
    "num = int(input(\"enter your number\"))\n",
    "i=0\n",
    "while i<=num:\n",
    "    print(i)\n",
    "    i+=10"
   ]
  },
  {
   "cell_type": "code",
   "execution_count": null,
   "metadata": {},
   "outputs": [],
   "source": [
    "\n",
    "i=105\n",
    "while i>=7:\n",
    "    print(i)\n",
    "    i-=7"
   ]
  },
  {
   "cell_type": "code",
   "execution_count": null,
   "metadata": {},
   "outputs": [],
   "source": [
    "num = int(input(\"enter your number\"))\n",
    "i=1\n",
    "sum=0\n",
    "while i<=num:\n",
    "    sum= sum+i\n",
    "    i+=1\n",
    "    \n",
    "    print(\"sum\",sum)"
   ]
  },
  {
   "cell_type": "code",
   "execution_count": null,
   "metadata": {},
   "outputs": [],
   "source": [
    "num = int(input(\"enter your number\"))\n",
    "sum=0\n",
    "while (num!=0):\n",
    "    r=num%10\n",
    "    sum = r+sum\n",
    "    num=num//10\n",
    "    \n",
    "print(\"sum\",sum)"
   ]
  },
  {
   "cell_type": "code",
   "execution_count": null,
   "metadata": {},
   "outputs": [],
   "source": [
    "num = int(input(\"enter your number\"))\n",
    "reverse =0\n",
    "while (num>0):\n",
    "    reverse = reverse*10 +num%10\n",
    "    num=num//10\n",
    "    \n",
    "print(\"reverse number\",reverse)"
   ]
  },
  {
   "cell_type": "code",
   "execution_count": null,
   "metadata": {},
   "outputs": [],
   "source": [
    "num1 = int(input(\"enter 1st number\"))\n",
    "num2 = int(input(\"enter 2nd number\"))\n",
    "i=1\n",
    "hcf=0\n",
    "while i<=num1 and i<=num2:\n",
    "    if(num1%i==0 and num2%i==0):\n",
    "        hcf=i\n",
    "    i+=1\n",
    "print(\"highest common factor\",hcf)"
   ]
  },
  {
   "cell_type": "code",
   "execution_count": null,
   "metadata": {},
   "outputs": [],
   "source": [
    "num=int(input(\"Enter a number:\"))\n",
    "temp=num\n",
    "rev=0\n",
    "while(num>0):\n",
    "    dig=num%10\n",
    "    rev=rev*10+dig\n",
    "    num=num//10\n",
    "if(temp==rev):\n",
    "    print(\"The number is palindrome!\")\n",
    "else:\n",
    "    print(\"Not a palindrome!\")"
   ]
  }
 ],
 "metadata": {
  "kernelspec": {
   "display_name": "Python 3",
   "language": "python",
   "name": "python3"
  },
  "language_info": {
   "codemirror_mode": {
    "name": "ipython",
    "version": 3
   },
   "file_extension": ".py",
   "mimetype": "text/x-python",
   "name": "python",
   "nbconvert_exporter": "python",
   "pygments_lexer": "ipython3",
   "version": "3.12.2"
  }
 },
 "nbformat": 4,
 "nbformat_minor": 2
}
