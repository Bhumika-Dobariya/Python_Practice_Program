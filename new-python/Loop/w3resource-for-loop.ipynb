{
 "cells": [
  {
   "cell_type": "code",
   "execution_count": null,
   "metadata": {},
   "outputs": [],
   "source": [
    "#pattern\n",
    "for i in range(1,6):\n",
    "    for j in range(i):\n",
    "        print('*', end=' ')\n",
    "    print(' ')\n",
    "for i in range(1,6):\n",
    "    for j in range(6,i,-1):\n",
    "        print('*', end=' ')\n",
    "    print(' ')\n"
   ]
  },
  {
   "cell_type": "code",
   "execution_count": null,
   "metadata": {},
   "outputs": [],
   "source": [
    "#find even ,odd number\n",
    "numbers = (1, 2, 3, 4, 5, 6, 7, 8, 9) \n",
    "even = 0\n",
    "odd =0\n",
    "for i in numbers:\n",
    "    if(i%2==0):\n",
    "        even+=1\n",
    "    else:\n",
    "        odd+=1\n",
    "print(\"even =\",even)\n",
    "print(\"odd =\",odd)"
   ]
  },
  {
   "cell_type": "code",
   "execution_count": null,
   "metadata": {},
   "outputs": [],
   "source": [
    "#type of element\n",
    "datalist = [1452, 11.23, 1+2j, True, 'w3resource', (0, -1), [5, 12], {\"class\":'V', \"section\":'A'}]\n",
    "for i in datalist:\n",
    "    print(type(i))"
   ]
  },
  {
   "cell_type": "code",
   "execution_count": null,
   "metadata": {},
   "outputs": [],
   "source": [
    "#continue statement\n",
    "for i in range(0,7):\n",
    "    if (i==3 or i==6):\n",
    "        continue\n",
    "    print(i)"
   ]
  },
  {
   "cell_type": "code",
   "execution_count": null,
   "metadata": {},
   "outputs": [],
   "source": [
    "#fibonaccii series\n",
    "num1 = 0\n",
    "num2 = 1\n",
    "\n",
    "\n",
    "for i in range(10):\n",
    "    print(num1)\n",
    "    num3 = num1 +num2\n",
    "    num1 = num2\n",
    "    num2 = num3"
   ]
  },
  {
   "cell_type": "code",
   "execution_count": null,
   "metadata": {},
   "outputs": [],
   "source": [
    "for i in range(51):\n",
    "    if(i%3==0 and i%5==0):\n",
    "        print(\"fizzbuzz\",i)\n",
    "        continue\n",
    "    elif(i%3==0):\n",
    "        print('fizz',i)\n",
    "        continue\n",
    "    elif(i%5==0):\n",
    "        print('buzz',i)\n",
    "    \n",
    "    print(i)\n"
   ]
  },
  {
   "cell_type": "code",
   "execution_count": null,
   "metadata": {},
   "outputs": [],
   "source": [
    "#alpha,digit,special char\n",
    "str = 'bhum253*'\n",
    "digit = 0\n",
    "alpha = 0\n",
    "special =0 \n",
    "for i in str:   \n",
    "  if i.isalpha():\n",
    "    alpha+=1\n",
    "  elif i.isdigit():\n",
    "    digit+=1\n",
    "  else:\n",
    "    print(\"special symbol\")\n",
    "\n",
    "print(digit)\n",
    "print(alpha)   \n",
    "    "
   ]
  },
  {
   "cell_type": "code",
   "execution_count": null,
   "metadata": {},
   "outputs": [],
   "source": [
    "#check vowel and constant\n",
    "n = input(\"enter your character\")\n",
    "if (n=='a' or n=='e' or n=='i' or n=='o' or n=='u'):\n",
    "    print(\"vowels\")\n",
    "else:\n",
    "    print(\"constant\")"
   ]
  },
  {
   "cell_type": "code",
   "execution_count": null,
   "metadata": {},
   "outputs": [],
   "source": [
    "#pattern\n",
    "for i in range(1,6):\n",
    "    for j in range(i):\n",
    "        print(i,end='')\n",
    "    print(\" \")"
   ]
  },
  {
   "cell_type": "code",
   "execution_count": null,
   "metadata": {},
   "outputs": [],
   "source": [
    "#mltiplication number\n",
    "n= 5\n",
    "for i in range(1,11):\n",
    "    a = n*i\n",
    "    print(a)"
   ]
  },
  {
   "cell_type": "code",
   "execution_count": null,
   "metadata": {},
   "outputs": [],
   "source": [
    "#size is equlitaral,isoscalen,scalen\n",
    "side1= int(input(\"enter side1\"))\n",
    "side2 = int(input(\"enter side2\"))\n",
    "side3 = int(input(\"enter side3\"))\n",
    "\n",
    "if(side1==side2==side3):\n",
    "    print(\"equlitaral\")\n",
    "elif ((side1==side2) or (side2==side3) or (side3==side1)) :\n",
    "    print(\"isoscalen\")\n",
    "else:\n",
    "    print(\"scalen\")"
   ]
  },
  {
   "cell_type": "code",
   "execution_count": null,
   "metadata": {},
   "outputs": [],
   "source": [
    "def sum(a,b):\n",
    "    sum= a+b\n",
    "    if (sum>=15 and sum<=20):\n",
    "       return 20\n",
    "    else:\n",
    "        return sum\n",
    "        \n",
    "print(sum(5,12))\n"
   ]
  },
  {
   "cell_type": "code",
   "execution_count": null,
   "metadata": {},
   "outputs": [],
   "source": [
    "#meadian\n",
    "a=int(input(\"enter num1\"))\n",
    "b = int(input(\"enter num2\"))\n",
    "c = int(input(\"enter num3\"))\n",
    "\n",
    "if (a>b and a<c):\n",
    "    median = a\n",
    "elif (b>c and b<a):\n",
    "    median = b\n",
    "else:\n",
    "    median = c\n",
    "print(median)"
   ]
  },
  {
   "cell_type": "code",
   "execution_count": null,
   "metadata": {},
   "outputs": [],
   "source": [
    "#guess number\n",
    "import random\n",
    "n= random.randint(1,10)\n",
    "\n",
    "while guess !=n:\n",
    "    guess = int(input(\"enter your guess\"))\n",
    "    if(guess<n):\n",
    "        print(\"your guess is lower\")\n",
    "    elif (guess>n):\n",
    "        print(\"too high\")\n",
    "    else:\n",
    "        print(\"congratulation\")"
   ]
  }
 ],
 "metadata": {
  "kernelspec": {
   "display_name": "Python 3",
   "language": "python",
   "name": "python3"
  },
  "language_info": {
   "codemirror_mode": {
    "name": "ipython",
    "version": 3
   },
   "file_extension": ".py",
   "mimetype": "text/x-python",
   "name": "python",
   "nbconvert_exporter": "python",
   "pygments_lexer": "ipython3",
   "version": "3.12.2"
  }
 },
 "nbformat": 4,
 "nbformat_minor": 2
}
