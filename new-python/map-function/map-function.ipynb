{
 "cells": [
  {
   "cell_type": "code",
   "execution_count": null,
   "metadata": {},
   "outputs": [],
   "source": [
    "#Convert list of strings to uppercase\n",
    "names = ['alice', 'bob', 'charlie']\n",
    "names_upper = map(str.upper, names)\n",
    "result = list(names_upper)\n",
    "print (result)"
   ]
  },
  {
   "cell_type": "code",
   "execution_count": null,
   "metadata": {},
   "outputs": [],
   "source": [
    "#Add corresponding elements of two lists\n",
    "numbers1 = [1, 2, 3]\n",
    "numbers2 = [4, 5, 6]\n",
    "sum_of_numbers = map(lambda x, y: x + y, numbers1, numbers2)\n",
    "result = list(sum_of_numbers)\n",
    "print(result)"
   ]
  },
  {
   "cell_type": "code",
   "execution_count": null,
   "metadata": {},
   "outputs": [],
   "source": [
    "# Example of lazy evaluation\n",
    "numbers = [1, 2, 3, 4, 5]\n",
    "squared_numbers = map(lambda x: x ** 2, numbers)\n",
    "\n",
    "for num in squared_numbers:\n",
    "    print(num)"
   ]
  },
  {
   "cell_type": "code",
   "execution_count": null,
   "metadata": {},
   "outputs": [],
   "source": [
    "#swuare of numbers\n",
    "def cube(n):\n",
    "  return n*n*n\n",
    " \n",
    "my_list = [0,2,4,6,8,10,12]\n",
    "\n",
    "new_list = map(cube, my_list)\n",
    " \n",
    "print(new_list)\n",
    "print(list(new_list))"
   ]
  },
  {
   "cell_type": "code",
   "execution_count": null,
   "metadata": {},
   "outputs": [],
   "source": [
    "#Convert Fahrenheit temperatures to Celsius:\n",
    "fahrenheit_temperatures = [32, 68, 86, 104]\n",
    "celsius_temperatures = map(lambda x: (x - 32) * 5/9, fahrenheit_temperatures)\n",
    "print(list(celsius_temperatures))"
   ]
  },
  {
   "cell_type": "code",
   "execution_count": null,
   "metadata": {},
   "outputs": [],
   "source": [
    "#Calculate the lengths of strings in a list:\n",
    "words = ['apple', 'banana', 'cherry']\n",
    "word_lengths = map(len, words)\n",
    "print(list(word_lengths))"
   ]
  },
  {
   "cell_type": "code",
   "execution_count": null,
   "metadata": {},
   "outputs": [],
   "source": [
    "\n",
    "list1 = [\"Naukri\", \"Learning\", \"welcomes\", \"you\"]\n",
    " \n",
    "my_list = map(len, list1)\n",
    " \n",
    "print(list(my_list))"
   ]
  }
 ],
 "metadata": {
  "kernelspec": {
   "display_name": "Python 3",
   "language": "python",
   "name": "python3"
  },
  "language_info": {
   "codemirror_mode": {
    "name": "ipython",
    "version": 3
   },
   "file_extension": ".py",
   "mimetype": "text/x-python",
   "name": "python",
   "nbconvert_exporter": "python",
   "pygments_lexer": "ipython3",
   "version": "3.12.2"
  }
 },
 "nbformat": 4,
 "nbformat_minor": 2
}
