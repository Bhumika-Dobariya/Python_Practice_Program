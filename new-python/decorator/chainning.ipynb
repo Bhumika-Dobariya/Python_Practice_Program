{
 "cells": [
  {
   "cell_type": "code",
   "execution_count": 5,
   "metadata": {},
   "outputs": [
    {
     "name": "stdout",
     "output_type": "stream",
     "text": [
      "###\n",
      "*****\n",
      "hello\n",
      "*****\n",
      "###\n"
     ]
    }
   ],
   "source": [
    "def decorator1(func):\n",
    "    def wrapper(*args):\n",
    "        print(\"#\"*3)\n",
    "        func(*args)\n",
    "        print(\"#\"*3)\n",
    "    return wrapper\n",
    "def decorator2(func):\n",
    "    def wrapper(*args):\n",
    "        print(\"*****\")\n",
    "        func(*args)\n",
    "        print(\"*****\")\n",
    "    return wrapper\n",
    "@decorator1\n",
    "@decorator2\n",
    "\n",
    "def greek(msg):\n",
    "    print(msg)\n",
    "greek(\"hello\")"
   ]
  }
 ],
 "metadata": {
  "kernelspec": {
   "display_name": "Python 3",
   "language": "python",
   "name": "python3"
  },
  "language_info": {
   "codemirror_mode": {
    "name": "ipython",
    "version": 3
   },
   "file_extension": ".py",
   "mimetype": "text/x-python",
   "name": "python",
   "nbconvert_exporter": "python",
   "pygments_lexer": "ipython3",
   "version": "3.12.2"
  }
 },
 "nbformat": 4,
 "nbformat_minor": 2
}
