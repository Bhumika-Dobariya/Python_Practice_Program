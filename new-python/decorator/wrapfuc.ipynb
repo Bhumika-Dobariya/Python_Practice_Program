{
 "cells": [
  {
   "cell_type": "code",
   "execution_count": null,
   "metadata": {},
   "outputs": [],
   "source": [
    "import functools\n",
    "def deco(func):\n",
    "    @functools.wraps(func)\n",
    "    def modi():\n",
    "        print(\"before\")\n",
    "        func()\n",
    "        print(\"after\")\n",
    "    return modi\n",
    "@deco\n",
    "def name():\n",
    "    \"hello rejoice\"\n",
    "    print(\"hello bhumi\")\n",
    "name()\n",
    "print(name.__name__)\n",
    "print(name.__doc__)\n"
   ]
  },
  {
   "cell_type": "code",
   "execution_count": null,
   "metadata": {},
   "outputs": [],
   "source": [
    "from functools import wraps\n",
    "def decorator(func):\n",
    "    @wraps(func)\n",
    "    def wrapper(*args):\n",
    "        \"\"\"A wrapper function\"\"\"\n",
    "        func()\n",
    "    return wrapper\n",
    "        \n",
    "@decorator    \n",
    "def ffunction():\n",
    "    \"\"\"This is docstring for first function\"\"\"\n",
    "    print(\"first function\")\n",
    "    \n",
    "@decorator\n",
    "def sfunction():\n",
    "    \"\"\"this is decorating second function\"\"\"\n",
    "    print(\"second function\")\n",
    "    \n",
    "print(ffunction.__name__)  \n",
    "print(ffunction.__doc__) \n",
    "print(sfunction.__name__)  \n",
    "print(sfunction.__doc__)    \n",
    "    \n",
    "    \n",
    "    \n",
    "    "
   ]
  }
 ],
 "metadata": {
  "kernelspec": {
   "display_name": "Python 3",
   "language": "python",
   "name": "python3"
  },
  "language_info": {
   "codemirror_mode": {
    "name": "ipython",
    "version": 3
   },
   "file_extension": ".py",
   "mimetype": "text/x-python",
   "name": "python",
   "nbconvert_exporter": "python",
   "pygments_lexer": "ipython3",
   "version": "3.12.2"
  }
 },
 "nbformat": 4,
 "nbformat_minor": 2
}
