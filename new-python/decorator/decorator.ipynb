{
 "cells": [
  {
   "cell_type": "code",
   "execution_count": null,
   "metadata": {},
   "outputs": [],
   "source": [
    "#decorator\n",
    "def my_decorator(func):\n",
    "    def wrapper():\n",
    "        print('before function')\n",
    "        func()\n",
    "        print(\"after function\")\n",
    "    return wrapper\n",
    "def say_hello():\n",
    "    print(\"hello\")\n",
    "say_hello = my_decorator(say_hello)\n",
    "say_hello()"
   ]
  },
  {
   "cell_type": "code",
   "execution_count": null,
   "metadata": {},
   "outputs": [],
   "source": [
    "#Using the @ symbol for decorators\n",
    "def decorator(a):\n",
    "    def wrappr():\n",
    "        print(\"welcome\")\n",
    "        a()\n",
    "        print(\"good bye\")\n",
    "    return wrappr\n",
    "\n",
    "@decorator\n",
    "def say():\n",
    "    print(\"say hello\")\n",
    "say()"
   ]
  },
  {
   "cell_type": "code",
   "execution_count": null,
   "metadata": {},
   "outputs": [],
   "source": [
    "#Decorating functions with arguments\n",
    "def decorator(fun):\n",
    "    def wrapper(*args,**kwargs):\n",
    "        print(\"welcome\")\n",
    "        fun(*args,**kwargs)\n",
    "        print(\"good bye\")\n",
    "    return wrapper\n",
    "@decorator\n",
    "def greet(name):\n",
    "    print(f\"hello {name}\")\n",
    "greet(\"bhumi\")"
   ]
  },
  {
   "cell_type": "code",
   "execution_count": null,
   "metadata": {},
   "outputs": [],
   "source": [
    "#Returning values from decorated functions\n",
    "def my_decorator(func):\n",
    "    def wrapper(*args, **kwargs):\n",
    "        print(\"Something is happening before the function is called.\")\n",
    "        result = func(*args, **kwargs)\n",
    "        print(\"Something is happening after the function is called.\")\n",
    "        return result\n",
    "    return wrapper\n",
    "\n",
    "@my_decorator\n",
    "def add(x, y):\n",
    "    return x + y\n",
    "\n",
    "result = add(5, 10)\n",
    "print(result)"
   ]
  },
  {
   "cell_type": "code",
   "execution_count": null,
   "metadata": {},
   "outputs": [],
   "source": [
    "#Using multiple decorators on a single function\n",
    "def decorator1(func):\n",
    "    def wrapper():\n",
    "        print(\"decorator 1\")\n",
    "        func()\n",
    "    return wrapper\n",
    "def decorator2(func):\n",
    "    def wrapper():\n",
    "        print(\"decorator 2\")\n",
    "        func()\n",
    "    return wrapper\n",
    "@decorator1\n",
    "@decorator2\n",
    "\n",
    "def greek():\n",
    "    print(\"hello\")\n",
    "greek()"
   ]
  },
  {
   "cell_type": "code",
   "execution_count": null,
   "metadata": {},
   "outputs": [],
   "source": [
    "#class mydecorator\n",
    "class MyDecorator:\n",
    "    def __init__(self, func):\n",
    "        self.func = func\n",
    "\n",
    "    def __call__(self):\n",
    "        print(\" before the function is called.\")\n",
    "        self.func()\n",
    "        print(\" after the function is called.\")\n",
    "\n",
    "@MyDecorator\n",
    "def greet():\n",
    "    print(\"Hello!\")\n",
    "\n",
    "greet()"
   ]
  }
 ],
 "metadata": {
  "kernelspec": {
   "display_name": "Python 3",
   "language": "python",
   "name": "python3"
  },
  "language_info": {
   "codemirror_mode": {
    "name": "ipython",
    "version": 3
   },
   "file_extension": ".py",
   "mimetype": "text/x-python",
   "name": "python",
   "nbconvert_exporter": "python",
   "pygments_lexer": "ipython3",
   "version": "3.12.2"
  }
 },
 "nbformat": 4,
 "nbformat_minor": 2
}
