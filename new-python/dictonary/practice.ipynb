{
 "cells": [
  {
   "cell_type": "code",
   "execution_count": null,
   "metadata": {},
   "outputs": [],
   "source": [
    "\"\"\"Given a dictionary containing student names and their corresponding grades, write a Python program to calculate the average grade of all students.\"\"\"\n",
    "dict1 = {\"a\":50,\"b\":70,\"c\":80}\n",
    "\n",
    "total_greads = sum(dict1.values())\n",
    "num_student = len(dict1)\n",
    "average = total_greads/num_student\n",
    "print(average)"
   ]
  },
  {
   "cell_type": "code",
   "execution_count": null,
   "metadata": {},
   "outputs": [],
   "source": [
    "#Write a Python function that takes a string as input and returns a dictionary containing the frequency of each word in the string.\n",
    "def string1(n):\n",
    "    words = n.split()\n",
    "    dict = {}\n",
    "    for word in words:\n",
    "        if word in dict:\n",
    "            dict[word]+=1\n",
    "        else:\n",
    "            dict[word] =1\n",
    "    return dict\n",
    "n = input(\"enter string\")\n",
    "result = string1(n)\n",
    "print(result)"
   ]
  },
  {
   "cell_type": "code",
   "execution_count": null,
   "metadata": {},
   "outputs": [],
   "source": [
    "\"\"\"Write a Python function that takes two dictionaries as input and returns a new dictionary containing the merged key-value pairs from both dictionaries. \n",
    "If there are common keys, the values should be added together.\"\"\"\n",
    "\n",
    "def merge_dicts(dict1, dict2):\n",
    "    merged_dict = {}\n",
    "    for key, value in dict1.items():\n",
    "        merged_dict[key] = value\n",
    "    for key, value in dict2.items():\n",
    "        merged_dict[key] = value\n",
    "    return merged_dict\n",
    "\n",
    "\n",
    "dict1 = {'a': 1, 'b': 2}\n",
    "dict2 = {'c': 3, 'd': 4}\n",
    "\n",
    "merged = merge_dicts(dict1, dict2)\n",
    "print(\"Merged dictionary:\", merged)\n",
    "\n"
   ]
  },
  {
   "cell_type": "code",
   "execution_count": null,
   "metadata": {},
   "outputs": [],
   "source": [
    "#Write a Python function to find the key with the largest value in a dictionary.\n",
    "\n",
    "def largest_key(dict1):\n",
    "    max_value_key = max(dict1,key=dict1.get)\n",
    "    return max_value_key\n",
    "\n",
    "dict1 = {'a': 10, 'b': 200, 'c': 30, 'd': 15}\n",
    "a =largest_key(dict1)\n",
    "print(a)"
   ]
  },
  {
   "cell_type": "code",
   "execution_count": null,
   "metadata": {},
   "outputs": [],
   "source": [
    "def max_key(dict1):\n",
    "    max_key = max(dict1,key =dict1.get)\n",
    "    return max_key\n",
    "\n",
    "dict1 = {'a': 10, 'b': 200, 'b': 30, 'd': 15}\n",
    "a =max_key(dict1)\n",
    "print(a)"
   ]
  },
  {
   "cell_type": "code",
   "execution_count": null,
   "metadata": {},
   "outputs": [],
   "source": [
    "#Write a Python function that takes a dictionary as input and returns a new dictionary containing only the unique values from the original dictionary\n",
    "def largest_key(dict1):\n",
    "    dict2 = {}\n",
    "    for i in dict1:\n",
    "       if i not in dict2:\n",
    "           dict2[i] = dict1[i]\n",
    "    return dict2\n",
    "dict1 = {'a': 10, 'b': 200, 'b': 30, 'd': 15}\n",
    "a =largest_key(dict1)\n",
    "print(a)"
   ]
  },
  {
   "cell_type": "code",
   "execution_count": null,
   "metadata": {},
   "outputs": [],
   "source": [
    "#Write a Python function to remove duplicate values from a dictionary while preserving the order of the keys.\n",
    "def remove_duplicate_values(dictionary):\n",
    "    unique_values = []\n",
    "    unique_dict = {}\n",
    "\n",
    "    for key, value in dictionary.items():\n",
    "        if value not in unique_values:\n",
    "            unique_values.append(value)\n",
    "            unique_dict[key] = value\n",
    "\n",
    "    return unique_dict\n",
    "\n",
    "my_dict = {'a': 10, 'b': 20, 'c': 10, 'd': 30, 'e': 20}\n",
    "\n",
    "result_dict = remove_duplicate_values(my_dict)\n",
    "print(\"Dictionary with duplicate values removed:\", result_dict)\n"
   ]
  },
  {
   "cell_type": "code",
   "execution_count": null,
   "metadata": {},
   "outputs": [],
   "source": [
    "my_dict = {'b': 20, 'a': 10, 'c': 30}\n",
    "sorted_dict = dict(sorted(my_dict.items()))\n",
    "\n",
    "print(sorted_dict)"
   ]
  },
  {
   "cell_type": "code",
   "execution_count": null,
   "metadata": {},
   "outputs": [],
   "source": [
    "my_dict = {'b': 20, 'a': 10, 'c': 30}\n",
    "key = 'd'\n",
    "if key in my_dict:\n",
    "    print(\"yes\")\n",
    "else:\n",
    "    print(\"no\")"
   ]
  },
  {
   "cell_type": "code",
   "execution_count": null,
   "metadata": {},
   "outputs": [],
   "source": [
    "#Write a function to check if a given key already exists in a dictionary.\n",
    "\n",
    "def exist_key(a):\n",
    "    key = 'a'\n",
    "    if key in my_dict:\n",
    "       print(\"yes\")\n",
    "    else:  \n",
    "       print(\"no\")\n",
    "    \n",
    "my_dict = {'b': 20, 'a': 10, 'c': 30}\n",
    "exist_key(my_dict)\n"
   ]
  },
  {
   "cell_type": "code",
   "execution_count": null,
   "metadata": {},
   "outputs": [],
   "source": [
    "#Write a Python program to find the length of a dictionary.\n",
    "\n",
    "my_dict = {'b': 20, 'a': 10, 'c': 30}\n",
    "length = len(my_dict)\n",
    "print(\"length of dict :\",length)"
   ]
  },
  {
   "cell_type": "code",
   "execution_count": null,
   "metadata": {},
   "outputs": [],
   "source": [
    "def remove_key(dict1,key):\n",
    "    if key in dict1:\n",
    "        del dict1[key]\n",
    "        print(\"remove from the dictonary\")\n",
    "    else:\n",
    "        print(\"does not exist in dictonary\")\n",
    "\n",
    "my_dict = {'b': 20, 'a': 10, 'c': 30}\n",
    "remove_key(my_dict,'a')\n",
    "print(\"Updated dictionary:\",my_dict)\n",
    "    "
   ]
  },
  {
   "cell_type": "code",
   "execution_count": null,
   "metadata": {},
   "outputs": [],
   "source": [
    "#find common key in dict1 and dict2\n",
    "def find_common_key(dict1,dict2):\n",
    "    common_key = []\n",
    "    for key in dict1.keys():\n",
    "        if key in dict2:\n",
    "          common_key.append(key)\n",
    "    return common_key\n",
    "        \n",
    "\n",
    "dict1 = {'a': 1, 'b': 2, 'c':3}\n",
    "dict2 = {'c': 3, 'd': 4,'e':5}\n",
    "result = find_common_key(dict1,dict2)\n",
    "print(result)"
   ]
  },
  {
   "cell_type": "code",
   "execution_count": null,
   "metadata": {},
   "outputs": [],
   "source": [
    "#Create a program to iterate over a dictionary and print key-value pairs in reverse order.\n",
    "\n",
    "def print_dict_reverse(dictionary):\n",
    "    reversed_dict = dict(reversed(dictionary.items()))\n",
    "    for key, value in reversed_dict.items():\n",
    "        print(key, ':', value)\n",
    "\n",
    "my_dict = {'a': 1, 'b': 2, 'c': 3, 'd': 4}\n",
    "\n",
    "print(\"Key-value pairs in reverse order:\")\n",
    "print_dict_reverse(my_dict)"
   ]
  },
  {
   "cell_type": "code",
   "execution_count": null,
   "metadata": {},
   "outputs": [],
   "source": [
    "def largest_key(dict1):\n",
    "    max_value_key = max(dict1,key=dict1.get)\n",
    "    min_value_key = min(dict1,key=dict1.get)\n",
    "\n",
    "    return max_value_key, min_value_key\n",
    "\n",
    "dict1 = {'a': 10, 'b': 200, 'c': 30, 'd': 15}\n",
    "a =largest_key(dict1)\n",
    "print(a)"
   ]
  },
  {
   "cell_type": "code",
   "execution_count": null,
   "metadata": {},
   "outputs": [],
   "source": [
    "#Write a Python program to check if a given value exists in a dictionary.\n",
    "\n",
    "def value_exists(dictionary, value):\n",
    "    return value in dictionary.values()\n",
    "\n",
    "my_dict = {'a': 1, 'b': 2, 'c': 3}\n",
    "\n",
    "value_to_check = 2\n",
    "\n",
    "if value_exists(my_dict, value_to_check):\n",
    "    print(\"The value exists in the dictionary.\")\n",
    "else:\n",
    "    print(\"The value does not exist in the dictionary.\")\n"
   ]
  },
  {
   "cell_type": "code",
   "execution_count": null,
   "metadata": {},
   "outputs": [],
   "source": [
    "#What is the difference between the dict.keys() method and the dict.values() method in Python?\n",
    "my_dict = {'a': 1, 'b': 2, 'c': 3}\n",
    "print(my_dict.keys())\n",
    "print(my_dict.values())"
   ]
  },
  {
   "cell_type": "code",
   "execution_count": null,
   "metadata": {},
   "outputs": [],
   "source": [
    "#How can you add a new key-value pair to an existing dictionary in Python?\n",
    "\n",
    "my_dict = {'a': 1, 'b': 2, 'c': 3}\n",
    "my_dict.update({'d':4})\n",
    "my_dict['c']=50\n",
    "print(my_dict)"
   ]
  },
  {
   "cell_type": "code",
   "execution_count": null,
   "metadata": {},
   "outputs": [],
   "source": [
    "my_dict = {'a': 1, 'b': 2, 'c': 3}\n",
    "for key,value in my_dict.items():\n",
    "    print(key,value)"
   ]
  },
  {
   "cell_type": "code",
   "execution_count": null,
   "metadata": {},
   "outputs": [],
   "source": [
    "#print key and value\n",
    "my_dict = {'a': 1, 'b': 2, 'c': 3}\n",
    "for key in my_dict.keys():\n",
    "    print(key)\n",
    "for value in my_dict.values():\n",
    "    print(value)"
   ]
  },
  {
   "cell_type": "code",
   "execution_count": null,
   "metadata": {},
   "outputs": [],
   "source": [
    "#How can you remove a specific key-value pair from a dictionary in Python?\n",
    "\n",
    "my_dict = {'a': 1, 'b': 2, 'c': 3}\n",
    "del my_dict['b'] \n",
    "print(my_dict)"
   ]
  },
  {
   "cell_type": "code",
   "execution_count": null,
   "metadata": {},
   "outputs": [],
   "source": [
    "my_dict = {'a': 1, 'b': 2, 'c': 3}\n",
    "my_dict.pop('b')\n",
    "print(my_dict)"
   ]
  },
  {
   "cell_type": "code",
   "execution_count": null,
   "metadata": {},
   "outputs": [],
   "source": [
    "my_dict = {'a': 1, 'b': 2, 'c': 3}\n",
    "my_dict.clear()\n",
    "print(my_dict)"
   ]
  }
 ],
 "metadata": {
  "kernelspec": {
   "display_name": "Python 3",
   "language": "python",
   "name": "python3"
  },
  "language_info": {
   "codemirror_mode": {
    "name": "ipython",
    "version": 3
   },
   "file_extension": ".py",
   "mimetype": "text/x-python",
   "name": "python",
   "nbconvert_exporter": "python",
   "pygments_lexer": "ipython3",
   "version": "3.12.2"
  }
 },
 "nbformat": 4,
 "nbformat_minor": 2
}
