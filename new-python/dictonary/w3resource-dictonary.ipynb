{
 "cells": [
  {
   "cell_type": "code",
   "execution_count": null,
   "metadata": {},
   "outputs": [],
   "source": [
    "#add a key to a dictionary.\n",
    "dictonary = {'a':1,'c':3,'b':2}\n",
    "dictonary.update({'e':5})\n",
    "print(dictonary)"
   ]
  },
  {
   "cell_type": "code",
   "execution_count": null,
   "metadata": {},
   "outputs": [],
   "source": [
    "#concatenate the following dictionaries to create a new one.\n",
    "dict1 = {1:10,2:20}\n",
    "dict2 = {3:30,4:40}\n",
    "dict3 = {5:50,6:60}\n",
    "dict = {}\n",
    "for i in (dict1,dict2,dict3):\n",
    "    dict.update(i)\n",
    "print(dict)"
   ]
  },
  {
   "cell_type": "code",
   "execution_count": null,
   "metadata": {},
   "outputs": [],
   "source": [
    "#check whether a given key already exists in a dictionary.\n",
    "dict = {'a':1,'b':2,'c':3}\n",
    "key = 'a'\n",
    "if key in dict:\n",
    "    print(\"key in present in dictonary\")\n",
    "else:\n",
    "    print(\"key is absent in dictonary\")"
   ]
  },
  {
   "cell_type": "code",
   "execution_count": null,
   "metadata": {},
   "outputs": [],
   "source": [
    "dict = {'a':1,'b':2,'c':3}\n",
    "for key,value in dict.items():\n",
    "    print(key,'->',value)"
   ]
  },
  {
   "cell_type": "code",
   "execution_count": null,
   "metadata": {},
   "outputs": [],
   "source": [
    "# generate and print a dictionary that contains a number (between 1 and n) in the form (x, x*x)\n",
    "n = int(input(\"enter number\"))\n",
    "dict ={}\n",
    "for i in range(1,n+1):\n",
    "    dict[i]=i*i\n",
    "print(dict)"
   ]
  },
  {
   "cell_type": "code",
   "execution_count": null,
   "metadata": {},
   "outputs": [],
   "source": [
    "#print a dictionary where the keys are numbers between 1 and 15 and the values are the square of the keys.\n",
    "n = int(input(\"enter your number \"))\n",
    "dict ={}\n",
    "for i in range(1,n+1):\n",
    "    dict[i]=i*i \n",
    "print(dict)"
   ]
  },
  {
   "cell_type": "code",
   "execution_count": null,
   "metadata": {},
   "outputs": [],
   "source": [
    "# merge two  dictionaries\n",
    "dict1 = {'a':1,'b':2,'c':3}\n",
    "dict2 = {'d':4,'e':5,'f':6}\n",
    "dict1.update(dict2)\n",
    "print(dict1)"
   ]
  },
  {
   "cell_type": "code",
   "execution_count": null,
   "metadata": {},
   "outputs": [],
   "source": [
    "#sum all the items in a dictionary.\n",
    "dict1 = {'a':1,'b':2,'c':3}\n",
    "a = sum(dict1.values())\n",
    "print(a)"
   ]
  },
  {
   "cell_type": "code",
   "execution_count": null,
   "metadata": {},
   "outputs": [],
   "source": [
    "# multiply all the items in a dictionary\n",
    "dict1 = {'a':10,'b':20,'c':30}\n",
    "result= 1\n",
    "for key in dict1:\n",
    "    result = result*dict1[key]\n",
    "print(result)"
   ]
  },
  {
   "cell_type": "code",
   "execution_count": null,
   "metadata": {},
   "outputs": [],
   "source": [
    "#remove a key from a dictionary.\n",
    "dict1 = {'a':10,'b':20,'c':30}\n",
    "if 'a' in dict1:\n",
    "    del dict1['a']\n",
    "print(dict1)"
   ]
  },
  {
   "cell_type": "code",
   "execution_count": null,
   "metadata": {},
   "outputs": [],
   "source": [
    "#map two lists into a dictionary.\n",
    "list1 = ['a','b','c']\n",
    "list2 = [4,5,6]\n",
    "a = dict(zip(list1,list2))\n",
    "print(a)"
   ]
  },
  {
   "cell_type": "code",
   "execution_count": null,
   "metadata": {},
   "outputs": [],
   "source": [
    "#sort a given dictionary by key\n",
    "dict1 = {'d':10,'b':20,'c':30}\n",
    "for key in sorted(dict1):\n",
    "    print(key,dict1[key])"
   ]
  },
  {
   "cell_type": "code",
   "execution_count": null,
   "metadata": {},
   "outputs": [],
   "source": [
    "# get the maximum and minimum values of a dictionary.\n",
    "dict1 = {'a':10,'b':20,'c':30}\n",
    "max_dict1= max(dict1)\n",
    "min_dict1 = min(dict1)\n",
    "print(max_dict1)\n",
    "print(min_dict1)"
   ]
  },
  {
   "cell_type": "code",
   "execution_count": null,
   "metadata": {},
   "outputs": [],
   "source": [
    "#check if a dictionary is empty or not.\n",
    "dict1 = {'a':10,'b':20,'c':30}\n",
    "length = len(dict1)\n",
    "if(length == 0):\n",
    "    print(\"empty\")\n",
    "else:\n",
    "    print(\"not empty\")"
   ]
  },
  {
   "cell_type": "code",
   "execution_count": null,
   "metadata": {},
   "outputs": [],
   "source": [
    "# remove duplicates from the dictionary.\n",
    "dict1 = {'a':10,'b':20,'c':30,'a':15}\n",
    "result = {}\n",
    "\n",
    "for key,value in dict1.items():\n",
    "    if dict1 not in result.values():\n",
    "        result[key] = value\n",
    "print(result)"
   ]
  },
  {
   "cell_type": "code",
   "execution_count": null,
   "metadata": {},
   "outputs": [],
   "source": [
    "#combine two dictionary by adding values for common keys\n",
    "d1 = {'a': 100, 'b': 200, 'c':400}\n",
    "d2 = {'a': 300, 'b': 200, 'd':400}\n",
    "counter ={}\n",
    "for key in d2:\n",
    "    if key in counter:\n",
    "        counter[key]+=d2[key]\n",
    "    else:\n",
    "        counter[key]=d2[key]\n",
    "print(counter)"
   ]
  },
  {
   "cell_type": "code",
   "execution_count": null,
   "metadata": {},
   "outputs": [],
   "source": [
    "# Write a Python program to find the highest 3 values in a dictionary.\n",
    "my_dict = {'a': 1, 'b': 2, 'c': 3, 'd': 4, 'e': 5, 'f': 5, 'x': 2}\n",
    "list = sorted(set(my_dict.values()))\n",
    "print(list[-3:])"
   ]
  }
 ],
 "metadata": {
  "kernelspec": {
   "display_name": "Python 3",
   "language": "python",
   "name": "python3"
  },
  "language_info": {
   "codemirror_mode": {
    "name": "ipython",
    "version": 3
   },
   "file_extension": ".py",
   "mimetype": "text/x-python",
   "name": "python",
   "nbconvert_exporter": "python",
   "pygments_lexer": "ipython3",
   "version": "3.12.2"
  }
 },
 "nbformat": 4,
 "nbformat_minor": 2
}
